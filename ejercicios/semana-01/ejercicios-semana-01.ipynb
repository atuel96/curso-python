{
 "cells": [
  {
   "cell_type": "markdown",
   "metadata": {},
   "source": [
    "# Ejercicios Segunda Semana\n",
    "\n",
    "Tenemos dos tipos de ejercicios. En la primera parte hay pequeños códigos que no \n",
    "funcionan por algún error o por la falta de algo. Su tarea es encontrar el error \n",
    "y hacer que el código se ejecute correctamente. Para eso copien cada código a un \n",
    "archivo de python y prueben ejecutarlo.\n",
    "\n",
    "\n",
    "En la segunda parte nosotros les vamos a pedir que escriban el código para hacer \n",
    "algunas tareas específicas.\n",
    "\n",
    "No tengan miedo a revisar el material que les pasamos. No es la idea que sepan\n",
    "todo de memoria.\n"
   ]
  },
  {
   "cell_type": "markdown",
   "metadata": {},
   "source": [
    "## Parte 1) Arreglemos este código\n",
    "\n",
    "A continuación tenemos código que no funciona y debemos arreglarlo."
   ]
  },
  {
   "cell_type": "markdown",
   "metadata": {},
   "source": [
    "### Ejercicio 1.1)\n",
    "\n",
    "Intente ejecutar la siguiente línea de código en un archivo de python. Queremos imprimir el mensaje \"hola\". \n",
    "\n",
    "----------\n",
    "``` python\n",
    "print \"hola\"\n",
    "```\n",
    "----------\n",
    "¿Por qué no funciona? ¿De qué nos olvidamos?"
   ]
  },
  {
   "cell_type": "markdown",
   "metadata": {},
   "source": [
    "### Ejercicio 1.2)\n",
    "\n",
    "Y ahora, cual es el problema? Nuestro código quiere imprimir el mensaje `hola como andas?`, pero no esta funcionando\n",
    "\n",
    "----------\n",
    "``` python\n",
    "print(hola como andas?)\n",
    "```\n",
    "----------\n",
    "De que nos olvidamos?"
   ]
  },
  {
   "cell_type": "markdown",
   "metadata": {},
   "source": [
    "### Ejercicio 1.3)\n",
    "\n",
    "Resolvamos esto:\n",
    "\n",
    "----------\n",
    "``` python\n",
    "mensaje_muy_emotivo = \"estoy feliz\n",
    "\n",
    "print(mensaje_muy_emotivo)\n",
    "```\n",
    "----------"
   ]
  },
  {
   "cell_type": "markdown",
   "metadata": {},
   "source": [
    "### Ejercicio 1.4)\n",
    "\n",
    "Ahora quiero que mi código salude al nombre definido en mi variable `nombre`. Pero no parece estar funcionando. Qué debería agregar?\n",
    "\n",
    "----------\n",
    "``` python\n",
    "nombre = \"Leo\"\n",
    "print(\"hola {nombre}, como andas?\")\n",
    "``` \n",
    "----------"
   ]
  },
  {
   "cell_type": "markdown",
   "metadata": {},
   "source": [
    "### Ejercicio 1.5)\n",
    "En este código estoy definiendo una función llamada suma que debería devolver la suma de \"a\" y \"b\". Pero no funciona, que está pasando?\n",
    "\n",
    "\n",
    "----------\n",
    "``` python\n",
    "def suma(a, b):\n",
    "resultado = a + b\n",
    "return resultado\n",
    "\n",
    "print(suma(5, 5))\n",
    "print(suma(10, 5))\n",
    "```\n",
    "----------\n",
    "\n",
    "De qué nos olvidamos esta vez?"
   ]
  },
  {
   "cell_type": "markdown",
   "metadata": {},
   "source": [
    "### Ejercicio 1.6)\n",
    "\n",
    "En este código tengo una variable con el texto \"hola, como te va?\" y quiero imprimirlo en pantalla, pero obtengo un error. Cómo lo soluciono?\n",
    "\n",
    "----------\n",
    "``` python\n",
    "print(mi_mensaje)\n",
    "mi_mensaje = \"Hola, cómo te va?\"\n",
    "```\n",
    "----------"
   ]
  },
  {
   "cell_type": "markdown",
   "metadata": {},
   "source": [
    "### Ejercicio 1.7)\n",
    "\n",
    "Definí mal mi función `super_funcion()`. Por qué obtengo un error? \n",
    "\n",
    "----------\n",
    "``` python\n",
    "def \"super_funcion\"():\n",
    "    print(\"Soy una super función!\")\n",
    "\n",
    "super_función()\n",
    "``` \n",
    "----------"
   ]
  },
  {
   "cell_type": "markdown",
   "metadata": {},
   "source": [
    "### Ejercicio 1.8)\n",
    "Hay un problema con mi función `cuadrado()` que eleva un número al cuadrado. Hay algo que sobra, como lo resuelvo?\n",
    "\n",
    "\n",
    "----------\n",
    "``` python\n",
    "def cuadrado(x):\n",
    "    return=x**2\n",
    "\n",
    "print(cuadrado(2))\n",
    "print(cuadrado(4))\n",
    "```\n",
    "----------"
   ]
  },
  {
   "cell_type": "markdown",
   "metadata": {},
   "source": [
    "### Ejercicio 1.9)\n",
    "En este código estoy definiendo una función llamada suma que debería devolver la suma de \"a\" y \"b\". Pero no funciona, que está pasando?\n",
    "\n",
    "----------\n",
    "``` python\n",
    "def suma(a, b):\n",
    "    resultado = a + b\n",
    "  return resultado\n",
    "\n",
    "print(suma(5, 5)) # debería ser 10\n",
    "print(suma(10, 5)) # debería ser 15\n",
    "```\n",
    "----------\n"
   ]
  },
  {
   "cell_type": "markdown",
   "metadata": {},
   "source": [
    "## Parte 2) Escribamos nuestro código\n",
    "\n",
    "Ahora en las consignas les pediremos que escriban su código"
   ]
  },
  {
   "cell_type": "markdown",
   "metadata": {},
   "source": [
    "### Ejercicio 2.1)\n",
    "\n",
    "Defina la función `resta(a, b)`. Esta función recibe dos argumentos, `a` y `b`, y devuelve la resta ellos (`a` menos `b`).\n",
    "\n",
    "Por ejemplo si ejecuto `resta(10, 6)` el resultado debería ser `4`.\n",
    "\n",
    "Si ejecuto `resta(5, 10)` el resultado debería ser `-5`.\n",
    "\n",
    "Es decir, que si su función esta bien definida, deberiamos poder ejectura este código y obtener los mismos resultados:\n",
    "\n",
    "``` python\n",
    "print(resta(10, 6)) # Deberia ser 4\n",
    "print(resta(5, 10)) # Debería ser -5\n",
    "print(resta(50, 20)) # Debería ser 30\n",
    "```\n",
    "\n",
    "**Recordemos**: Para definir una función tenemos que usar la palabra `def`, y tenemos que dejar sangria (4 espacios por defecto) en el bloque de la función"
   ]
  },
  {
   "cell_type": "markdown",
   "metadata": {},
   "source": [
    "### Ejercicio 2.2)\n",
    "\n",
    "Defina una función llamada `cubo()` que reciba un parámetro y devuelva el valor ingresado elevado al cubo (es decir, ese valor elevado a la 3ra potencia).\n",
    "\n",
    "Si su función esta bien definida deberíamos poder correr este código y obtener los siguientes resultados:\n",
    "\n",
    "``` python\n",
    "print(cubo(3)) # Deberia ser 27\n",
    "print(cubo(2)) # Debería ser 8\n",
    "print(cubo(-2)) # Debería ser -8\n",
    "```\n",
    "\n",
    "**Recordemos**: El operador de potencia es `**`. Por ejemplo \"2 elevado al cuadrado\" sería `2**2`"
   ]
  },
  {
   "cell_type": "markdown",
   "metadata": {},
   "source": [
    "### Ejercicio 2.3)\n",
    "\n",
    "Defina la función `area_rectangulo(base, altura)` que calcule el área de un rectangulo a partir de su base y su altura.\n",
    "\n",
    "Ejemplo:\n",
    "\n",
    "``` python\n",
    "print(area_rectangulo(10, 2)) # Debería ser 20\n",
    "print(area_rectangulo(20, 5)) # Debería ser 100\n",
    "```"
   ]
  },
  {
   "cell_type": "markdown",
   "metadata": {},
   "source": [
    "### Ejercicio 2.4)\n",
    "\n",
    "Escriba la función `minusculas()`. A la función debe ingresas un texto, y debe salir el mismo texto pero en minúsculas.\n",
    "\n",
    "Ejemplos:\n",
    "\n",
    "``` python\n",
    "print(minusculas(\"Hola\")) # \"hola\"\n",
    "print(minusculas(\"AHHHHH\")) # \"ahhhhh\"\n",
    "```\n",
    "\n"
   ]
  },
  {
   "cell_type": "markdown",
   "metadata": {},
   "source": [
    "### Ejercicio 2.5)\n",
    "\n",
    "Defina la función `redondear_maximo_valor(num_1, num_2)`\n",
    "\n",
    "Esta función recibe dos números, y devuelve el máximo valor redondeado.\n",
    "\n",
    "``` python\n",
    "print(redondear_maximo_valor(5.5, 13.9)) # Debería imprimir 14\n",
    "print(redondear_maximo_valor(55, 5)) # Debería imprimir 55\n",
    "print(redondear_maximo_valor(61.1, 5.9)) # Debería imprimir 61\n",
    "```"
   ]
  },
  {
   "cell_type": "code",
   "execution_count": null,
   "metadata": {},
   "outputs": [],
   "source": []
  }
 ],
 "metadata": {
  "kernelspec": {
   "display_name": "base",
   "language": "python",
   "name": "python3"
  },
  "language_info": {
   "codemirror_mode": {
    "name": "ipython",
    "version": 3
   },
   "file_extension": ".py",
   "mimetype": "text/x-python",
   "name": "python",
   "nbconvert_exporter": "python",
   "pygments_lexer": "ipython3",
   "version": "3.12.4"
  }
 },
 "nbformat": 4,
 "nbformat_minor": 2
}
