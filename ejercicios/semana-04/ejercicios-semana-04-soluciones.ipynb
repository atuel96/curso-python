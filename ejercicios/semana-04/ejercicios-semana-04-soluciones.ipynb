{
 "cells": [
  {
   "cell_type": "markdown",
   "metadata": {},
   "source": [
    "# Ejercicios Quinta Semana\n",
    "\n",
    "Ahora todos los ejercicios son para que ustedes los escriban. Mucha suerte!\n"
   ]
  },
  {
   "cell_type": "markdown",
   "metadata": {},
   "source": [
    "### Ejercicio. Creciendo\n",
    "\n",
    "Hacer una clase `Persona` que tengas los atributos `nombre` y `edad`, y el método `cumplir_anios()` que aumente su edad en 1.\n",
    "\n",
    "\n",
    "Ejemplo:\n",
    "\n",
    "``` python\n",
    "In [1]: juan = Persona(\"Juan\", 22)\n",
    "In [2]: juan.cumplir_anios()\n",
    "In [3]: print(juan.edad)\n",
    "Out[3]: 23\n",
    "```"
   ]
  },
  {
   "cell_type": "code",
   "execution_count": 2,
   "metadata": {},
   "outputs": [
    {
     "name": "stdout",
     "output_type": "stream",
     "text": [
      "23\n"
     ]
    }
   ],
   "source": [
    "class Persona:\n",
    "    \n",
    "    def __init__(self, nombre, edad):\n",
    "        self.nombre = nombre\n",
    "        self.edad = edad \n",
    "\n",
    "    def cumplir_anios(self):\n",
    "        self.edad += 1\n",
    "\n",
    "juan = Persona(\"Juan\", 22)\n",
    "juan.cumplir_anios()\n",
    "print(juan.edad)"
   ]
  },
  {
   "cell_type": "markdown",
   "metadata": {},
   "source": [
    "### Ejercicio. Calculadora\n",
    "\n",
    "Crear la clase `CalculadoraSimple` que tenga dos atributos `num1` y `num2`, y los siguientes métodos: `sumar()`, `restar()`, `multiplicar()` y `dividir()` que no reciban ningún argumento y den como resultado `num1 + num2`, `num1 - num2`, `num1 * num2` y `num1 / num2`, respectivamente.\n",
    "\n",
    "Ejemplo:\n",
    "\n",
    "``` python\n",
    "In [1]: calculadora = CalculadoraSimple(10, 6)\n",
    "In [2]: calculadora.sumar()\n",
    "Out[2]: 16\n",
    "In [3]: calculadora.restar()\n",
    "Out[3]: 4\n",
    "In [4]: calculadora.multiplicar()\n",
    "Out[4]: 60\n",
    "In [5]: calculadora.dividir()\n",
    "Out[5]: 1.6666666666666667\n",
    "```"
   ]
  },
  {
   "cell_type": "code",
   "execution_count": 4,
   "metadata": {},
   "outputs": [
    {
     "name": "stdout",
     "output_type": "stream",
     "text": [
      "16\n",
      "4\n",
      "60\n",
      "1.6666666666666667\n"
     ]
    }
   ],
   "source": [
    "class CalculadoraSimple:\n",
    "    \n",
    "    def __init__(self, num1, num2):\n",
    "        self.num1 = num1\n",
    "        self.num2 = num2 \n",
    "    \n",
    "    def sumar(self):\n",
    "        return self.num1 + self.num2 \n",
    "    \n",
    "    def restar(self):\n",
    "        return self.num1 - self.num2\n",
    "    \n",
    "    def multiplicar(self):\n",
    "        return self.num1 * self.num2 \n",
    "    \n",
    "    def dividir(self):\n",
    "        return self.num1 / self.num2\n",
    "    \n",
    "\n",
    "calculadora = CalculadoraSimple(10, 6)\n",
    "\n",
    "print(calculadora.sumar())\n",
    "print(calculadora.restar())\n",
    "print(calculadora.multiplicar())\n",
    "print(calculadora.dividir())"
   ]
  },
  {
   "cell_type": "markdown",
   "metadata": {},
   "source": [
    "### Ejercicio. Dados\n",
    "\n",
    "Crear la clase `Dado` que tenga como parámetros, el número de `caras` y una lista llamada `historial_tiradas` (que debe estar vacía al crear el dado), el método `tirar_dado()`que devuelva un valor aleatorio entre 1 y el número de `caras` y que guarde ese valor en la lista `historial_tiradas`.\n",
    "\n",
    "\n",
    "Ejemplo:\n",
    "\n",
    "``` python\n",
    "In [1]: dado10 = Dado(10)\n",
    "In [2]: dado10.tirar_dado()\n",
    "Out[2]: 9\n",
    "In [3]: dado10.tirar_dado()\n",
    "Out[3]: 4\n",
    "In [4]: dado10.historial_tiradas\n",
    "Out[4]: [9, 4]\n",
    "```"
   ]
  },
  {
   "cell_type": "code",
   "execution_count": 8,
   "metadata": {},
   "outputs": [
    {
     "name": "stdout",
     "output_type": "stream",
     "text": [
      "5\n",
      "8\n",
      "4\n",
      "10\n",
      "[5, 8, 4, 10]\n"
     ]
    }
   ],
   "source": [
    "import random\n",
    "\n",
    "class Dado:\n",
    "\n",
    "    def __init__(self, caras):\n",
    "        self.caras = caras \n",
    "        self.historial_tiradas = []\n",
    "\n",
    "    def tirar_dado(self):\n",
    "        # tirar el dado\n",
    "        tirada = random.randint(1, self.caras)\n",
    "        # guardar tirada en el historial\n",
    "        self.historial_tiradas.append(tirada)\n",
    "        # devolver el valor de la tirada\n",
    "        return tirada\n",
    "    \n",
    "\n",
    "dado10 = Dado(10)\n",
    "print(dado10.tirar_dado())\n",
    "print(dado10.tirar_dado())\n",
    "print(dado10.tirar_dado())\n",
    "print(dado10.tirar_dado())\n",
    "print(dado10.historial_tiradas)"
   ]
  },
  {
   "cell_type": "code",
   "execution_count": null,
   "metadata": {},
   "outputs": [],
   "source": []
  }
 ],
 "metadata": {
  "kernelspec": {
   "display_name": "base",
   "language": "python",
   "name": "python3"
  },
  "language_info": {
   "codemirror_mode": {
    "name": "ipython",
    "version": 3
   },
   "file_extension": ".py",
   "mimetype": "text/x-python",
   "name": "python",
   "nbconvert_exporter": "python",
   "pygments_lexer": "ipython3",
   "version": "3.12.4"
  }
 },
 "nbformat": 4,
 "nbformat_minor": 2
}
