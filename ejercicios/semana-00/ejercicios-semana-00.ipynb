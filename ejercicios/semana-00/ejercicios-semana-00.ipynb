{
 "cells": [
  {
   "cell_type": "markdown",
   "metadata": {},
   "source": [
    "# Ejercicios Primer Semana\n",
    "\n",
    "Las siguientes tres celdas de código tienen algún error. Deben corregirlo y comprobar que funciona correctamente. Pueden copiar y pegar cada celda, o directamente abrir esta notebook.\n",
    "\n",
    "\n",
    "No tengan miedo a revisar el material que les pasamos. No es la idea que sepan\n",
    "todo de memoria."
   ]
  },
  {
   "cell_type": "markdown",
   "metadata": {},
   "source": [
    "### Encontrar Los errores en las siguientes celdas"
   ]
  },
  {
   "cell_type": "code",
   "execution_count": null,
   "metadata": {},
   "outputs": [],
   "source": [
    "# Ejercicio: Encontrar y corregir los errores\n",
    "\n",
    "nombre = \"Juan\"\n",
    "saludo = \"Hola, \" + nombre + \" ¿cómo estás?\n",
    "print[saludo]"
   ]
  },
  {
   "cell_type": "code",
   "execution_count": null,
   "metadata": {},
   "outputs": [],
   "source": [
    "# Ejercicio: Encontrar y corregir los erroes\n",
    "\n",
    "nombre = \"Juan\"\n",
    "saludo = \"Hola, {nombre} ¿cómo estás?\"\n",
    "print[saludo]"
   ]
  },
  {
   "cell_type": "code",
   "execution_count": null,
   "metadata": {},
   "outputs": [],
   "source": [
    "# Ejercicio: Corregir el error en la suma\n",
    "\n",
    "a = 10\n",
    "b = \"20\"\n",
    "suma = a + b\n",
    "\n",
    "print(\"La suma es: \" + suma) # Debería ser 30"
   ]
  },
  {
   "cell_type": "code",
   "execution_count": null,
   "metadata": {},
   "outputs": [],
   "source": [
    "# Ejercicio: El resultado no es el deseado, encontrar y resolver el error\n",
    "\n",
    "a = 10\n",
    "b = 3\n",
    "\n",
    "resultado = a//b\n",
    "\n",
    "print(\"a dividido en b:\", resultado) # debería dar 3.3333 y no 3"
   ]
  },
  {
   "cell_type": "code",
   "execution_count": null,
   "metadata": {},
   "outputs": [],
   "source": [
    "# Corregir el error\n",
    "\n",
    "print(mensaje)\n",
    "mensaje = \"Ejercicio completado!\"\n"
   ]
  },
  {
   "cell_type": "markdown",
   "metadata": {},
   "source": [
    "### Completar las siguientes celdas"
   ]
  },
  {
   "cell_type": "markdown",
   "metadata": {},
   "source": [
    "#### Definir variables simples\n",
    "Crea las siguientes variables:\n",
    "- `nombre` con tu nombre.\n",
    "- `edad` con tu edad.\n",
    "- `altura` con tu altura en metros.\n",
    "- `es_estudiante` con un valor booleano que indique si eres estudiante.\n",
    "\n",
    "Luego, imprime cada variable junto con un mensaje descriptivo, como:\n",
    "`Mi nombre es Atuel` o `Tengo 27 años`\n"
   ]
  },
  {
   "cell_type": "code",
   "execution_count": null,
   "metadata": {},
   "outputs": [],
   "source": [
    "# Hacer"
   ]
  },
  {
   "cell_type": "markdown",
   "metadata": {},
   "source": [
    "#### Imprimir solo el nombre\n",
    "\n",
    "Utilizando la variable `mensaje`, definida en la celda de abajo, imprimir solo el nombre \"Juan\":"
   ]
  },
  {
   "cell_type": "code",
   "execution_count": 2,
   "metadata": {},
   "outputs": [
    {
     "name": "stdout",
     "output_type": "stream",
     "text": [
      "\n"
     ]
    }
   ],
   "source": [
    "# Ejercicio: Dado el siguiente mensaje imprimir solamente el nombre Juan\n",
    "# (usando corchetes)\n",
    "\n",
    "mensaje = \"Hola mi nombre es Juan, mucho gusto!\"\n",
    "\n",
    "# Hacer:\n",
    "print()\n"
   ]
  },
  {
   "cell_type": "markdown",
   "metadata": {},
   "source": [
    "#### Imprimir la última palabra\n",
    "Utilizando la misma variable, impriman (con la función `print`) la última palabra junto al signo de admiración:\n"
   ]
  },
  {
   "cell_type": "code",
   "execution_count": null,
   "metadata": {},
   "outputs": [],
   "source": [
    "mensaje = \"Hola mi nombre es Juan, mucho gusto!\"\n",
    "\n",
    "# Hacer:\n",
    "print()"
   ]
  },
  {
   "cell_type": "markdown",
   "metadata": {},
   "source": [
    "#### Cambiando el significado\n",
    "\n",
    "Usando la variable `mensaje_positivo` impriman el mensaje `horrible tu comida!`."
   ]
  },
  {
   "cell_type": "code",
   "execution_count": null,
   "metadata": {},
   "outputs": [],
   "source": [
    "mensaje_positivo = \"Me encantó tu comida! Lastima el horrible clima que nos tocó.\"\n",
    "\n",
    "# horrible tu comida!\n",
    "print()"
   ]
  }
 ],
 "metadata": {
  "kernelspec": {
   "display_name": "base",
   "language": "python",
   "name": "python3"
  },
  "language_info": {
   "codemirror_mode": {
    "name": "ipython",
    "version": 3
   },
   "file_extension": ".py",
   "mimetype": "text/x-python",
   "name": "python",
   "nbconvert_exporter": "python",
   "pygments_lexer": "ipython3",
   "version": "3.12.4"
  }
 },
 "nbformat": 4,
 "nbformat_minor": 2
}
