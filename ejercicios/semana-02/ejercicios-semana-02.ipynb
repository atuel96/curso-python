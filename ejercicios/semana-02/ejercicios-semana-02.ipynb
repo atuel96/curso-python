{
 "cells": [
  {
   "cell_type": "markdown",
   "metadata": {},
   "source": [
    "# Ejercicios Tercera Semana\n",
    "\n",
    "Tenemos dos tipos de ejercicios. En la primera parte hay pequeños códigos que no \n",
    "funcionan por algún error o por la falta de algo. Su tarea es encontrar el error \n",
    "y hacer que el código se ejecute correctamente. Para eso copien cada código a un \n",
    "archivo de python y prueben ejecutarlo.\n",
    "\n",
    "\n",
    "En la segunda parte nosotros les vamos a pedir que escriban el código para hacer \n",
    "algunas tareas específicas.\n",
    "\n",
    "No tengan miedo a revisar el material que les pasamos. No es la idea que sepan\n",
    "todo de memoria.\n"
   ]
  },
  {
   "cell_type": "markdown",
   "metadata": {},
   "source": [
    "## Parte 1) Arreglemos este código\n",
    "\n",
    "A continuación tenemos código que no funciona y debemos arreglarlo."
   ]
  },
  {
   "cell_type": "markdown",
   "metadata": {},
   "source": [
    "### Ejercicio 1.1)\n",
    "\n",
    "Quiero hacer un print diferente en función de si tengo más o menos de 18 años, pero este código tiene un error.\n",
    "\n",
    "----------\n",
    "``` python\n",
    "edad = 18\n",
    "\n",
    "if edad >= 18:\n",
    "    print(\"Soy mayor de edad!\")\n",
    "else edad < 18:\n",
    "    print(\"Soy menor de edad\")\n",
    "```\n",
    "----------"
   ]
  },
  {
   "cell_type": "code",
   "execution_count": null,
   "metadata": {},
   "outputs": [
    {
     "name": "stdout",
     "output_type": "stream",
     "text": [
      "Soy menor de edad\n"
     ]
    }
   ],
   "source": []
  },
  {
   "cell_type": "markdown",
   "metadata": {},
   "source": [
    "### Ejercicio 1.2)\n",
    "\n",
    "Aquí no hay ningún error de sintaxis, pero el codigo no funciona como debería\n",
    "\n",
    "----------\n",
    "``` python\n",
    "edad = 25\n",
    "\n",
    "if edad < 20:\n",
    "    print(\"Tengo más de 20 años\")\n",
    "else:\n",
    "    print(\"Tengo 20 años o menos\")\n",
    "```\n",
    "----------"
   ]
  },
  {
   "cell_type": "code",
   "execution_count": null,
   "metadata": {},
   "outputs": [
    {
     "name": "stdout",
     "output_type": "stream",
     "text": [
      "Tengo más de 20 años\n"
     ]
    }
   ],
   "source": []
  },
  {
   "cell_type": "markdown",
   "metadata": {},
   "source": [
    "### Ejercicio.\n",
    "\n",
    "Pedimos al usuario que ingrese su edad, que es un número, y si la edad es 18 o más debería imprimirse un mensaje. Pero este código no funciona. Corregir el problema\n",
    "\n",
    "----------\n",
    "``` python\n",
    "edad = input(\"Que edad tenés?\")\n",
    "\n",
    "if edad >= 18:\n",
    "    print(\"sos mayor de edad\")\n",
    "```\n",
    "----------"
   ]
  },
  {
   "cell_type": "code",
   "execution_count": null,
   "metadata": {},
   "outputs": [
    {
     "name": "stdout",
     "output_type": "stream",
     "text": [
      "sos mayor de edad\n"
     ]
    }
   ],
   "source": []
  },
  {
   "cell_type": "markdown",
   "metadata": {},
   "source": [
    "## Parte 2) Escribamos nuestro código\n",
    "\n",
    "Ahora en las consignas les pediremos que escriban su código"
   ]
  },
  {
   "cell_type": "markdown",
   "metadata": {},
   "source": [
    "### Ejercicio 2.1) Clasificar Nota\n",
    "\n",
    "Escriban la función `clasificar_nota(nota)` que devuelve uno de los dos valores:\n",
    "\n",
    "* `\"Aprueba\"`, si la nota es igual o mayor a 6\n",
    "* `\"Desaprueba\"`, si la nota es menor a 6\n",
    "\n",
    "\n",
    "La función debería funcionar de esta forma:\n",
    "\n",
    "``` python\n",
    "In [1]: print(clasificar_nota(6))\n",
    "Out[1]: Aprueba\n",
    "In [2]: print(clasificar_nota(3))\n",
    "Out[2]: Desaprueba\n",
    "```\n"
   ]
  },
  {
   "cell_type": "code",
   "execution_count": null,
   "metadata": {},
   "outputs": [],
   "source": []
  },
  {
   "cell_type": "markdown",
   "metadata": {},
   "source": [
    "### Ejercicio 2.2) Dijo Gracias?\n",
    "\n",
    "Escriban la función `dijo_gracias(mensaje)` que reciba un mensaje y devuelva `True` en caso de que el mensaje contenga la palabra `\"gracias\"`. En caso de que no la contanga, deberá regresar un `False`. \n",
    "\n",
    "La función debería funcionar de esta forma:\n",
    "\n",
    "``` python\n",
    "In [1]: print(dijo_gracias(\"Muchas gracias!\"))\n",
    "Out[1]: True\n",
    "In [2]: print(dijo_gracias(\"Chau Roberto, cuidate!\"))\n",
    "Out[2]: False\n",
    "```"
   ]
  },
  {
   "cell_type": "code",
   "execution_count": null,
   "metadata": {},
   "outputs": [],
   "source": []
  },
  {
   "cell_type": "markdown",
   "metadata": {},
   "source": [
    "### Ejercicio 2.3) Clasificar temperatura\n",
    "\n",
    "Escriban la función `clasificar_temperatura(temp)` que recibe un valor de temperatura (un número) y devuelve una de las tres siguientes opciones:\n",
    "\n",
    "* `\"Frio\"` si la temperatura es menor a 20°C\n",
    "* `\"Templado\"` si la temperatura esta entre 20°C y 28°C\n",
    "* `\"Caliente\"` si la temperatura es mayor a 29°C\n",
    "\n",
    "La función debería funcionar de esta forma:\n",
    "\n",
    "``` python\n",
    "In [1]: print(clasificar_temperatura(15))\n",
    "Out[1]: Frio\n",
    "In [2]: print(clasificar_temperatura(35))\n",
    "Out[2]: Caliente\n",
    "```\n"
   ]
  },
  {
   "cell_type": "code",
   "execution_count": null,
   "metadata": {},
   "outputs": [],
   "source": []
  },
  {
   "cell_type": "markdown",
   "metadata": {},
   "source": [
    "### Ejercicio 2.4) Promedio\n",
    "\n",
    "Escriban la función `promedio(lista)` que reciba una lista de números y devuelva el promedio de sus valores. \n",
    "\n",
    "La función debería funcionar de esta forma:\n",
    "\n",
    "``` python\n",
    "In [1]: print(promedio([1, 2, 3]))\n",
    "Out[1]: 2.0\n",
    "In [2]: print(promedio([10, 5, -25]))\n",
    "Out[2]: -3.333333333\n",
    "```\n",
    "\n",
    "* **Ayuda 1**: Van a necesitar las funciones `sum()` (para obtener la suma de los elementos) y `len()` (para saber cuantos elementos hay en la lista).\n",
    "\n",
    "* **Ayuda 2**: El promedio se calcula como la suma de todos los valores dividida en el número total de valores."
   ]
  },
  {
   "cell_type": "code",
   "execution_count": null,
   "metadata": {},
   "outputs": [],
   "source": []
  },
  {
   "cell_type": "markdown",
   "metadata": {},
   "source": [
    "### Ejercicio 2.5) Contar Vocales\n",
    "\n",
    "Escriba la función `contar_vocales(texto)` que reciba un texto y devuelva el número de vocales que aparecen en ese texto (ya sea que esta en mayusculas o en minúsculas).\n",
    "\n",
    "Ejemplo:\n",
    "\n",
    "``` python\n",
    "In [1]: print(contar_vocales(\"hola\"))\n",
    "Out[1]: 2\n",
    "In [2]: print(contar_vocales(\"Argentina\"))\n",
    "Out[2]: 4\n",
    "```\n",
    "\n",
    "* **Ayuda**: Recordar el método `.count()`. Pruebe ejecutar:\n",
    "\n",
    "``` python\n",
    "\"palabra\".count(\"a\") # 3\n",
    "``` "
   ]
  },
  {
   "cell_type": "markdown",
   "metadata": {},
   "source": []
  }
 ],
 "metadata": {
  "kernelspec": {
   "display_name": "base",
   "language": "python",
   "name": "python3"
  },
  "language_info": {
   "codemirror_mode": {
    "name": "ipython",
    "version": 3
   },
   "file_extension": ".py",
   "mimetype": "text/x-python",
   "name": "python",
   "nbconvert_exporter": "python",
   "pygments_lexer": "ipython3",
   "version": "3.12.4"
  }
 },
 "nbformat": 4,
 "nbformat_minor": 2
}
