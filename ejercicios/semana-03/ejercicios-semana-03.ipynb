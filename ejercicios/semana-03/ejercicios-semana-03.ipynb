{
 "cells": [
  {
   "cell_type": "markdown",
   "metadata": {},
   "source": [
    "# Ejercicios Cuarta Semana\n",
    "\n",
    "Tenemos dos tipos de ejercicios. En la primera parte hay pequeños códigos que no \n",
    "funcionan por algún error o por la falta de algo. Su tarea es encontrar el error \n",
    "y hacer que el código se ejecute correctamente. Para eso copien cada código a un \n",
    "archivo de python y prueben ejecutarlo.\n",
    "\n",
    "\n",
    "En la segunda parte nosotros les vamos a pedir que escriban el código para hacer \n",
    "algunas tareas específicas.\n",
    "\n",
    "No tengan miedo a revisar el material que les pasamos. No es la idea que sepan\n",
    "todo de memoria.\n"
   ]
  },
  {
   "cell_type": "markdown",
   "metadata": {},
   "source": [
    "## Parte 1) Arreglemos este código\n",
    "\n",
    "A continuación tenemos código que no funciona y debemos arreglarlo."
   ]
  },
  {
   "cell_type": "markdown",
   "metadata": {},
   "source": [
    "### Ejercicio.\n",
    "\n",
    "Quiero contar del 1 al 10 usando un bucle `while`, pero falta algo\n",
    "\n",
    "----------\n",
    "``` python\n",
    "i = 1\n",
    "\n",
    "while i <= 10:\n",
    "    print(i)\n",
    "```\n",
    "----------"
   ]
  },
  {
   "cell_type": "code",
   "execution_count": null,
   "metadata": {},
   "outputs": [],
   "source": []
  },
  {
   "cell_type": "markdown",
   "metadata": {},
   "source": [
    "## Parte 2) Escribamos nuestro código\n",
    "\n",
    "Ahora en las consignas les pediremos que escriban su código"
   ]
  },
  {
   "cell_type": "markdown",
   "metadata": {},
   "source": [
    "### Ejercicio 2.1) Repetir\n",
    "\n",
    "Escribir la función `repetir(texto, n)` que reciba un `texto` y lo repita `n` veces.\n",
    "\n",
    "``` python\n",
    "In [1]: repetir(\"Hola\", 4)\n",
    "Out[1]: hola\n",
    "        hola\n",
    "        hola\n",
    "        hola\n",
    "```\n",
    "\n",
    "Cómo puede hacer que el usuario pueda ingresar el texto?"
   ]
  },
  {
   "cell_type": "code",
   "execution_count": null,
   "metadata": {},
   "outputs": [],
   "source": []
  },
  {
   "cell_type": "markdown",
   "metadata": {},
   "source": [
    "### Ejercicio 2.2) Años"
   ]
  },
  {
   "cell_type": "markdown",
   "metadata": {},
   "source": [
    "Escriba la función `imprimir_anios(edad)` que reciba un entero y muestre por pantalla todos los años que ha cumplido (desde 1 hasta su edad).\n",
    "\n",
    "Por ejemplo, si la edad es 10, deberán imprimirse los números del 1 al 10.\n",
    "\n",
    "``` python\n",
    "In [1]: imprmir_anios(10)\n",
    "Out[1]: 1\n",
    "        2\n",
    "        3\n",
    "        4\n",
    "        5\n",
    "        6\n",
    "        7\n",
    "        8\n",
    "        9\n",
    "        10\n",
    "```\n",
    "Cómo puede hacer que el usuario pueda ingresar su edad?\n"
   ]
  },
  {
   "cell_type": "code",
   "execution_count": null,
   "metadata": {},
   "outputs": [
    {
     "name": "stdout",
     "output_type": "stream",
     "text": [
      "1\n",
      "2\n",
      "3\n",
      "4\n",
      "5\n",
      "6\n",
      "7\n",
      "8\n",
      "9\n",
      "10\n"
     ]
    }
   ],
   "source": []
  },
  {
   "cell_type": "markdown",
   "metadata": {},
   "source": [
    "### Ejercicio 2.3) Triangulos\n",
    "\n",
    "Escriba la función `imprimir_triangulo(altura)` que reciba un entero e imprima un triangulo de asteríscos (*) con la altura indicada.\n",
    "Por ejemplo:\n",
    "\n",
    "``` python\n",
    "In [1]: imprimir_triangulo(4)\n",
    "Out[1]: *\n",
    "        **\n",
    "        ***\n",
    "        ****\n",
    "```\n",
    "\n",
    "Ayuda: Recuerde que pasa si multiplico una string por un número"
   ]
  },
  {
   "cell_type": "code",
   "execution_count": null,
   "metadata": {},
   "outputs": [],
   "source": []
  },
  {
   "cell_type": "markdown",
   "metadata": {},
   "source": [
    "### Ejercicio 2.4) Crear una lista de compras\n",
    "\n",
    "Primero leamos y entendamos el siguiente código. Al inicio se crea una lista vacia, y luego en un bucle while se pide al usuario que agrege cosas a la lista. El bucle termina cuando la lista tenga 5 elementos. Al finalizar se imprime la lista de compras:\n",
    "\n",
    "``` python\n",
    "lista_de_compras = []\n",
    "\n",
    "while len(lista_de_compras) < 5:\n",
    "    item = input(\"Agregue un elemento a la lista de compras: \")\n",
    "    lista_de_compras.append(item)\n",
    "\n",
    "print(f\"Lista de compras: {lista_de_compras}\")\n",
    "```\n",
    "\n",
    "Ahora veamos este otro programa donde se crea un bucle infinito pero se pregunta al usuario si desea salir. Si el usuario ingresa una `\"s\"` (s de sí) entonces el bucle se termina:\n",
    "\n",
    "``` python\n",
    "while True:\n",
    "    print(\"Estamos en un bucle infinito\")\n",
    "    respuesta = input(\"Quiere salir del bucle infinito? (s/n): \")\n",
    "    if respuesta == \"s\":\n",
    "        break # break rompe el bucle   \n",
    "\n",
    "print(\"Felicidades! Ha salido del bucle infinito\")\n",
    "``` \n",
    "\n",
    "Usando estos dos ejemplos de base escriba un programa que haga lo siguiente:\n",
    "\n",
    "1) Se empiza con una lista de compras vacía\n",
    "2) Se le pide al usuario que agregue un elemento a la lista\n",
    "3) Se le pregunta al usuario si quiere seguir agregando más elementos o no\n",
    "4) Si la respuesta fue sí (una \"s\"), volvemos al paso 2\n",
    "5) Si la respuesta fue cualquier otra el bucle debe terminar \n",
    "6) Finalmente se imprime la lista de compras\n",
    "\n",
    "* **Extra**: Intente evitar que se ingrese el mismo elemento dos o más veces a la lista."
   ]
  },
  {
   "cell_type": "code",
   "execution_count": null,
   "metadata": {},
   "outputs": [],
   "source": []
  },
  {
   "cell_type": "markdown",
   "metadata": {},
   "source": [
    "### Ejercicio 2.5) Contar Vocales\n",
    "\n",
    "Escriba la función `contar_vocales(texto)` que reciba un texto y devuelva el número de vocales que aparecen en ese texto (ya sea que esta en mayusculas o en minúsculas).\n",
    "\n",
    "Ejemplo:\n",
    "\n",
    "``` python\n",
    "In [1]: print(contar_vocales(\"hola\"))\n",
    "Out[1]: 2\n",
    "In [2]: print(contar_vocales(\"Argentina\"))\n",
    "Out[2]: 4\n",
    "```\n",
    "\n",
    "* **Ayuda 1**: Recordemos que podemos recorrer una string con un bucle for:\n",
    "\n",
    "``` python\n",
    "In [1]: for letra in \"abcd\":\n",
    "            print(letra)\n",
    "Out[1]: a\n",
    "        b\n",
    "        c\n",
    "        d\n",
    "``` \n",
    "* **Ayuda 2**: Recordar el método `.count()`. Pruebe ejecutar:\n",
    "\n",
    "``` python\n",
    "\"palabra\".count(\"a\") # 3\n",
    "``` "
   ]
  },
  {
   "cell_type": "code",
   "execution_count": null,
   "metadata": {},
   "outputs": [],
   "source": []
  },
  {
   "cell_type": "markdown",
   "metadata": {},
   "source": [
    "### Ejercicio 2.6) Diccionario de Vocales\n",
    "\n",
    "Escriba la función `diccionario_de_vocales(texto)` que reciba un texto y devuelva un diccionario, donde las llaves sean las vocales (a, e, i, o ,u) y los valores sean la cantidad de veces que aparece cada vocal.\n",
    "\n",
    "Ejemplo:\n",
    "\n",
    "``` python\n",
    "In [1]: print(diccionario_de_vocales(\"hola\"))\n",
    "Out[1]: {\"a\" : 1, \"e\" : 0, \"i\": 0, \"o\": 1, \"u\": 0}\n",
    "In [2]: print(contar_vocales(\"Argentina\"))\n",
    "Out[2]: {\"a\" : 2, \"e\" : 1, \"i\": 1, \"o\": 0, \"u\": 0}\n",
    "```\n"
   ]
  },
  {
   "cell_type": "markdown",
   "metadata": {},
   "source": [
    "### Ejercicio 2.7) Número Primo\n",
    "\n",
    "Un número par es un número que se puede dividir en dos (es decir que al dividir el resto es 0, o que el resultado no es un decimal sino un valor entero). Preguntar si un número es par es lo mismo que preguntar si ese número se puede dividir por 2. Veamos el siguiente código para tener como ejemplo:\n",
    "\n",
    "``` python\n",
    "\n",
    "In [1]: def es_par(num):\n",
    "            # Esta función devuelve verdadero si 'num' es par\n",
    "            return num % 2 == 0 \n",
    "\n",
    "In [2]: print(es_par(5))\n",
    "Out[2]: False\n",
    "In [3]: print(es_par(10))\n",
    "Out[3]: True\n",
    "```\n",
    "\n",
    "Ahora intentemos escribir la función `es_primo(num)` que devuelva `True` en caso de que el número ingresado sea primo. Un [número primo](https://es.wikipedia.org/wiki/N%C3%BAmero_primo) es un número que solamente es divisible entre él mismo y el 1. Los primeros números primos son 2, 3, 5 y 7. Por ejemplo el 5 solo es divisible entre 1 y 5, el número 7 solo es divisible entre 1 y 7.\n",
    "\n",
    "Ejemplo:\n",
    "\n",
    "``` python\n",
    "In [1]: print(es_primo(11))\n",
    "Out[1]: True\n",
    "In [2]: print(es_primo(12))\n",
    "Out[2]: False\n",
    "```\n",
    "\n",
    "\n",
    "* **Ayuda**: Cómo verificamos que un número sea divisible en otro? Que un número sea divisible en otro significa que al hacer la división entre los dos la resta sea cero (o que la división no de como resultado un número decimal), si dividio 5 en 2 el resultado sería 2 y me sobra 1, es decir que el resto es 1, por lo tanto 5 no es divisible entre 2.\n",
    "Recordemos que para ver el resto de una división usamos el operador `%`\n",
    "\n",
    "``` python\n",
    "5 % 4 == 0 # Falso, 5 no es divisible entre 4\n",
    "8 % 2 == 0 # Verdadero, 8 sí es divisible entre 2 (8/2 = 4)\n",
    "```\n"
   ]
  },
  {
   "cell_type": "code",
   "execution_count": null,
   "metadata": {},
   "outputs": [],
   "source": []
  },
  {
   "cell_type": "markdown",
   "metadata": {},
   "source": [
    "### Ejercicio 2.8) Primos\n",
    "\n",
    "Escribamos una función llamada `imprimir_primos(n)` que reciba un entero `n` e imprima todos los números desde el 1 hasta ese número.\n",
    "\n",
    "\n",
    "``` python\n",
    "In [1]: imprimir_primos(15)\n",
    "Out[1]: 2\n",
    "        3\n",
    "        5\n",
    "        7\n",
    "        11\n",
    "        13\n",
    "```\n",
    "\n",
    "**Ayuda**: Cómo verificamos que un número sea divisible en otro? Que un número sea divisible en otro significa que al hacer la división entre los dos la resta sea cero (o que la división no de como resultado un número decimal), si dividio 5 en 2 el resultado sería 2 y me sobra 1, es decir que el resto es 1, por lo tanto 5 no es divisible entre 2.\n",
    "Recordemos que para ver el resto de una división usamos el operador `%`\n",
    "\n",
    "``` python\n",
    "5 % 4 == 0 # Falso, 5 no es divisible entre 4\n",
    "8 % 2 == 0 # Verdadero, 8 sí es divisible entre 2 (8/2 = 4)\n",
    "```"
   ]
  },
  {
   "cell_type": "code",
   "execution_count": null,
   "metadata": {},
   "outputs": [],
   "source": []
  },
  {
   "cell_type": "markdown",
   "metadata": {},
   "source": [
    "### Ejercicio **Desafio**. Factorial\n",
    "\n",
    "Calculemos el factorial. Escriba una función llamada `factorial(n)` que calcule el factorial del entero `n`.\n",
    "\n",
    "El factorial de un número es igual a la multiplicación de ese número con todos los números menores que él, hasta llegar al 1.\n",
    "\n",
    "$$ \n",
    "factorial(5) = 5 \\times 4 \\times 3 \\times 2 \\times 1 \n",
    "$$ \n",
    "\n",
    "En general se expresa de esta forma (el signo de admiración $!$ representa el factorial):\n",
    "\n",
    "$$ \n",
    "n! = n \\times (n-1) \\times (n-2) \\times \\cdots \\times 1 \n",
    "$$ \n",
    "\n",
    "Ejemplo:\n",
    "\n",
    "``` python\n",
    "In [1]: factorial(5)\n",
    "Out[1]: 120\n",
    "```"
   ]
  },
  {
   "cell_type": "code",
   "execution_count": null,
   "metadata": {},
   "outputs": [],
   "source": []
  }
 ],
 "metadata": {
  "kernelspec": {
   "display_name": "base",
   "language": "python",
   "name": "python3"
  },
  "language_info": {
   "codemirror_mode": {
    "name": "ipython",
    "version": 3
   },
   "file_extension": ".py",
   "mimetype": "text/x-python",
   "name": "python",
   "nbconvert_exporter": "python",
   "pygments_lexer": "ipython3",
   "version": "3.12.4"
  }
 },
 "nbformat": 4,
 "nbformat_minor": 2
}
