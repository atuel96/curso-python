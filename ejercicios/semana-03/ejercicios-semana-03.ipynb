{
 "cells": [
  {
   "cell_type": "markdown",
   "metadata": {},
   "source": [
    "# Ejercicios Cuarta Semana\n",
    "\n",
    "Ahora todos los ejercicios son para que ustedes los escriban. Mucha suerte!\n"
   ]
  },
  {
   "cell_type": "markdown",
   "metadata": {},
   "source": [
    "### Ejercicio. Dados\n",
    "\n",
    "Escriba la función `tirar_dado(caras)` que reciba un entero, `caras` y devuelva un número entero aleatorio entre 1 y `caras`.\n",
    "\n",
    "Ejemplo:\n",
    "\n",
    "``` python\n",
    "In [1]: tirar_dados(6) # resultado entre 1 y 6\n",
    "Out[1]: 5\n",
    "In [2]: tirar_dados(6) # resultado entre 1 y 6\n",
    "Out[2]: 3\n",
    "```\n",
    "\n",
    "Ayuda: Debe usar una función de la librería `random`"
   ]
  },
  {
   "cell_type": "markdown",
   "metadata": {},
   "source": [
    "### Ejercicio. Elegir Ganador\n",
    "\n",
    "Escriba la función `elegir_ganador(participantes)` que reciba una lista de participantes y devuelva un participante aleatorio (el ganador).\n",
    "\n",
    "\n",
    "Ejemplo:\n",
    "\n",
    "``` python\n",
    "In [1]: elegir_ganador([\"Juan\", \"Rocio\", \"Fernando\"]) \n",
    "Out[1]: 'Rocio'\n",
    "```"
   ]
  },
  {
   "cell_type": "markdown",
   "metadata": {},
   "source": [
    "### Ejercicio. No quiero huevos\n",
    "\n",
    "Quiero eliminar la palabra \"huevo\" de mi lista (todas las veces que huevo aparezca). Por ejemplo, partiendo de la siguiente lista:\n",
    "\n",
    "``` python\n",
    "\n",
    "lista_de_compras = [\"huevo\", \"empandada\", \"huevo\", \"huevo\", \"pollo\"]\n",
    "\n",
    "```\n",
    "\n",
    "Cómo puedo eliminar todas las palabras \"huevo\"? \n",
    "* Nota: Usar un bucle (puede ser bucle while o bucle for) y método .remove() de las listas\n"
   ]
  },
  {
   "cell_type": "markdown",
   "metadata": {},
   "source": [
    "### Ejercicio. Crear Tabla\n",
    "\n",
    "Escribir la función `crear_tabla(n)` que reciba un número entero `n` entre el 1 y el 10 y genere el archivo `tabla-<n>.txt` (donde `<n>` se reemplaza por el número) que contenga la tabla de multiplicar para ese número.\n",
    "\n",
    "Ejemplo:\n",
    "\n",
    "Si llamo:\n",
    "``` python\n",
    "In [1]: crear_tabla(2)\n",
    "```\n",
    "Se crea el archivo `tabla-2.txt`:\n",
    "\n",
    "``` text\n",
    "2 x 1 = 2\n",
    "2 x 2 = 4\n",
    "2 x 3 = 6\n",
    "2 x 4 = 8\n",
    "2 x 5 = 10\n",
    "2 x 6 = 12\n",
    "2 x 7 = 14\n",
    "2 x 8 = 16\n",
    "2 x 9 = 18\n",
    "2 x 10 = 20\n",
    "\n",
    "```"
   ]
  },
  {
   "cell_type": "markdown",
   "metadata": {},
   "source": [
    "### Ejercicio. Fibonacci\n",
    "\n",
    "La sucesión de [Fibonacci](https://es.wikipedia.org/wiki/Sucesi%C3%B3n_de_Fibonacci) es una sucesión infinita de números de la siguiente manera: empezamos con dos elementos `[0, 1]` y luego cada nuevo elemento es la suma de los dos anteriores. Es decir, el tercer elemento sería 1 (0 + 1), el cuarto va a ser 2 (1 + 1), el quinto va a ser 3 (2 + 1) y el sexto va a ser 5 (3 + 2).\n",
    "\n",
    "Escribamos la función\n",
    "\n",
    "`fibonacci(n)` que devuelva los primeros `n` números de la secuencia de Fibonacci.\n",
    "\n",
    "Ejemplo:\n",
    "\n",
    "``` python\n",
    "In [1]: fibonacci(10)\n",
    "Out[1]: 0\n",
    "        1\n",
    "        1\n",
    "        2\n",
    "        3\n",
    "        5\n",
    "        8\n",
    "        13\n",
    "        21\n",
    "        34\n",
    "```"
   ]
  },
  {
   "cell_type": "markdown",
   "metadata": {},
   "source": [
    "### Ejercicio. Guardar Fibonacci\n",
    "\n",
    "Creemos la función `escribir_fibonacci(n, archivo)` permita guardar los primeros `n` elementos de la secuencia de fibonacci en un `archivo` llamado \"fibonacci-<n>.txt\" (reemplazando <n> por el valor ingresado).]"
   ]
  },
  {
   "cell_type": "markdown",
   "metadata": {},
   "source": [
    "### Ejercicio. Contar Palabras\n",
    "\n",
    "Escriba la función `contar_palabras(texto)` que me permita contar las palabras de un texto.\n",
    "\n",
    "Ejemplo:\n",
    "``` python\n",
    "In [1]: contar_palabras(\"hola, que tal?\")\n",
    "Out[1]: 3\n",
    "```\n",
    "\n",
    "* Nota: No hay una sola forma de lograr esto. Pero pruebe que pasa cuando se usa el método .split() sobre una cadena (un texto)."
   ]
  },
  {
   "cell_type": "markdown",
   "metadata": {},
   "source": [
    "### Ejercicio. Contar palabras de un texto\n",
    "\n",
    "Descargue el archivo de texto [cap1_lovecraft.txt](../../datos/cap1_lovecraft.txt), lealo con Python y utilice su función `contar_palabras(texto)` para contar el número de palabras dentro del texto."
   ]
  }
 ],
 "metadata": {
  "kernelspec": {
   "display_name": "base",
   "language": "python",
   "name": "python3"
  },
  "language_info": {
   "codemirror_mode": {
    "name": "ipython",
    "version": 3
   },
   "file_extension": ".py",
   "mimetype": "text/x-python",
   "name": "python",
   "nbconvert_exporter": "python",
   "pygments_lexer": "ipython3",
   "version": "3.12.4"
  }
 },
 "nbformat": 4,
 "nbformat_minor": 2
}
