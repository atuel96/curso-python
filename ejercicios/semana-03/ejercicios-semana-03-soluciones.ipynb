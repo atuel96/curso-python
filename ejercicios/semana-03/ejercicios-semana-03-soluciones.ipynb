{
 "cells": [
  {
   "cell_type": "markdown",
   "metadata": {},
   "source": [
    "# Ejercicios Cuarta Semana\n",
    "\n",
    "Ahora todos los ejercicios son para que ustedes los escriban. Mucha suerte!\n"
   ]
  },
  {
   "cell_type": "markdown",
   "metadata": {},
   "source": [
    "### Ejercicio. Dados\n",
    "\n",
    "Escriba la función `tirar_dado(caras)` que reciba un entero, `caras` y devuelva un número entero aleatorio entre 1 y `caras`.\n",
    "\n",
    "Ejemplo:\n",
    "\n",
    "``` python\n",
    "In [1]: tirar_dados(6) # resultado entre 1 y 6\n",
    "Out[1]: 5\n",
    "In [2]: tirar_dados(6) # resultado entre 1 y 6\n",
    "Out[2]: 3\n",
    "```\n",
    "\n",
    "Ayuda: Debe usar una función de la librería `random`"
   ]
  },
  {
   "cell_type": "code",
   "execution_count": 1,
   "metadata": {},
   "outputs": [
    {
     "name": "stdout",
     "output_type": "stream",
     "text": [
      "5\n",
      "4\n",
      "1\n"
     ]
    }
   ],
   "source": [
    "import random\n",
    "\n",
    "def tirar_dados(caras):\n",
    "    return random.randint(1, caras)\n",
    "\n",
    "print(tirar_dados(6))\n",
    "print(tirar_dados(6))\n",
    "print(tirar_dados(6))"
   ]
  },
  {
   "cell_type": "markdown",
   "metadata": {},
   "source": [
    "### Ejercicio. Elegir Ganador\n",
    "\n",
    "Escriba la función `elegir_ganador(participantes)` que reciba una lista de participantes y devuelva un participante aleatorio (el ganador).\n",
    "\n",
    "\n",
    "Ejemplo:\n",
    "\n",
    "``` python\n",
    "In [1]: elegir_ganador([\"Juan\", \"Rocio\", \"Fernando\"]) \n",
    "Out[1]: 'Rocio'\n",
    "```"
   ]
  },
  {
   "cell_type": "code",
   "execution_count": 5,
   "metadata": {},
   "outputs": [
    {
     "name": "stdout",
     "output_type": "stream",
     "text": [
      "Fernando\n"
     ]
    }
   ],
   "source": [
    "import random\n",
    "\n",
    "def elegir_ganador(participantes):\n",
    "    return random.choice(participantes)\n",
    "\n",
    "participantes = [\"Juan\", \"Rocio\", \"Fernando\"]\n",
    "print(elegir_ganador(participantes))"
   ]
  },
  {
   "cell_type": "markdown",
   "metadata": {},
   "source": [
    "### Ejercicio. No quiero huevos\n",
    "\n",
    "Quiero eliminar la palabra \"huevo\" de mi lista (todas las veces que huevo aparezca). Por ejemplo, partiendo de la siguiente lista:\n",
    "\n",
    "``` python\n",
    "\n",
    "lista_de_compras = [\"huevo\", \"empandada\", \"huevo\", \"huevo\", \"pollo\"]\n",
    "\n",
    "```\n",
    "\n",
    "Cómo puedo eliminar todas las palabras \"huevo\"? \n",
    "* Nota: Usar un bucle (puede ser bucle while o bucle for) y método .remove() de las listas\n"
   ]
  },
  {
   "cell_type": "code",
   "execution_count": 6,
   "metadata": {},
   "outputs": [
    {
     "name": "stdout",
     "output_type": "stream",
     "text": [
      "['empandada', 'pollo']\n"
     ]
    }
   ],
   "source": [
    "lista_de_compras = [\"huevo\", \"empandada\", \"huevo\", \"huevo\", \"pollo\"]\n",
    "\n",
    "while lista_de_compras.count(\"huevo\") > 0:\n",
    "    lista_de_compras.remove(\"huevo\")\n",
    "\n",
    "print(lista_de_compras)"
   ]
  },
  {
   "cell_type": "markdown",
   "metadata": {},
   "source": [
    "### Ejercicio. Crear Tabla\n",
    "\n",
    "Escribir la función `crear_tabla(n)` que reciba un número entero `n` entre el 1 y el 10 y genere el archivo `tabla-<n>.txt` (donde `<n>` se reemplaza por el número) que contenga la tabla de multiplicar para ese número.\n",
    "\n",
    "Ejemplo:\n",
    "\n",
    "Si llamo:\n",
    "``` python\n",
    "In [1]: crear_tabla(2)\n",
    "```\n",
    "Se crea el archivo `tabla-2.txt`:\n",
    "\n",
    "``` text\n",
    "2 x 1 = 2\n",
    "2 x 2 = 4\n",
    "2 x 3 = 6\n",
    "2 x 4 = 8\n",
    "2 x 5 = 10\n",
    "2 x 6 = 12\n",
    "2 x 7 = 14\n",
    "2 x 8 = 16\n",
    "2 x 9 = 18\n",
    "2 x 10 = 20\n",
    "\n",
    "```"
   ]
  },
  {
   "cell_type": "code",
   "execution_count": null,
   "metadata": {},
   "outputs": [],
   "source": [
    "def crear_tabla(n):\n",
    "    # Abrimos un archivo txt (lo creamos)\n",
    "    with open(f\"tabla-{n}.txt\", \"w\") as archivo:       \n",
    "        # dentro de un bucle que va del 1 al 10: \n",
    "        for i in range(1, 11):\n",
    "            # escribimos una línea de la tabla\n",
    "            archivo.write(f\"{n} x {i} = {n*i}\\n\")\n",
    "\n",
    "crear_tabla(2) # aparece el archivo \"tabla-2.txt\"\n",
    "crear_tabla(5) # aparece el archivo \"tabla-5.txt\""
   ]
  },
  {
   "cell_type": "markdown",
   "metadata": {},
   "source": [
    "### Ejercicio. Fibonacci\n",
    "\n",
    "La sucesión de [Fibonacci](https://es.wikipedia.org/wiki/Sucesi%C3%B3n_de_Fibonacci) es una sucesión infinita de números de la siguiente manera: empezamos con dos elementos `[0, 1]` y luego cada nuevo elemento es la suma de los dos anteriores. Es decir, el tercer elemento sería 1 (0 + 1), el cuarto va a ser 2 (1 + 1), el quinto va a ser 3 (2 + 1) y el sexto va a ser 5 (3 + 2).\n",
    "\n",
    "Escribamos la función\n",
    "\n",
    "`fibonacci(n)` que devuelva los primeros `n` números de la secuencia de Fibonacci.\n",
    "\n",
    "Ejemplo:\n",
    "\n",
    "``` python\n",
    "In [1]: fibonacci(10)\n",
    "Out[1]: [0, 1, 1, 2, 3, 5, 8, 13, 21, 34]\n",
    "```"
   ]
  },
  {
   "cell_type": "code",
   "execution_count": 14,
   "metadata": {},
   "outputs": [
    {
     "name": "stdout",
     "output_type": "stream",
     "text": [
      "[0, 1, 1, 2, 3, 5, 8, 13, 21, 34]\n"
     ]
    }
   ],
   "source": [
    "def fibonacci(n):\n",
    "    # los primeros elementos de la secuencia siempre son 0 y 1\n",
    "    secuencia = [0, 1]\n",
    "\n",
    "    # los siguientes n - 2 elementos:\n",
    "    for i in range(n - 2):\n",
    "        # agrego la suma entre los dos últimos elementos\n",
    "        secuencia.append(secuencia[-1] + secuencia[-2])\n",
    "\n",
    "    # regreso la lista       \n",
    "    return secuencia\n",
    "\n",
    "print(fibonacci(10))"
   ]
  },
  {
   "cell_type": "markdown",
   "metadata": {},
   "source": [
    "### Ejercicio. Guardar Fibonacci\n",
    "\n",
    "Creemos la función `escribir_fibonacci(n)` permita guardar los primeros `n` elementos de la secuencia de fibonacci en un archivo llamado \"fibonacci-\\<n\\>.txt\" (reemplazando \\<n\\> por el valor ingresado)."
   ]
  },
  {
   "cell_type": "code",
   "execution_count": 16,
   "metadata": {},
   "outputs": [],
   "source": [
    "def escribir_fibonacci(n):\n",
    "    secuencia = fibonacci(n) # uso mi función anterior\n",
    "\n",
    "    # abro un archivo llamado \"fibonacci-n.txt\"\n",
    "    with open(f\"fibonacci-{n}.txt\", \"w\") as archivo:\n",
    "        for num in secuencia:\n",
    "            archivo.write(f\"{num}\\n\")\n",
    "\n",
    "\n",
    "escribir_fibonacci(10)"
   ]
  },
  {
   "cell_type": "markdown",
   "metadata": {},
   "source": [
    "### Ejercicio. Contar Palabras\n",
    "\n",
    "Escriba la función `contar_palabras(texto)` que me permita contar las palabras de un texto.\n",
    "\n",
    "Ejemplo:\n",
    "``` python\n",
    "In [1]: contar_palabras(\"hola, que tal?\")\n",
    "Out[1]: 3\n",
    "```\n",
    "\n",
    "* Nota: No hay una sola forma de lograr esto. Pero pruebe que pasa cuando se usa el método .split() sobre una cadena (un texto)."
   ]
  },
  {
   "cell_type": "code",
   "execution_count": 18,
   "metadata": {},
   "outputs": [
    {
     "name": "stdout",
     "output_type": "stream",
     "text": [
      "3\n"
     ]
    }
   ],
   "source": [
    "def contar_palabras(texto):\n",
    "    # separo el texto por palabras con .split()\n",
    "    palabras = texto.split() # Ahora palabras es una lista de palabras\n",
    "\n",
    "    # el número de palabrás será la longitud de la lista de palabras\n",
    "    return len(palabras)\n",
    "\n",
    "print(contar_palabras(\"hola, que tal?\"))"
   ]
  },
  {
   "cell_type": "markdown",
   "metadata": {},
   "source": [
    "### Ejercicio. Contar palabras de un texto\n",
    "\n",
    "Descargue el archivo de texto [cap1_lovecraft.txt](../../datos/cap1_lovecraft.txt), lealo con Python y utilice su función `contar_palabras(texto)` para contar el número de palabras dentro del texto."
   ]
  },
  {
   "cell_type": "code",
   "execution_count": 19,
   "metadata": {},
   "outputs": [
    {
     "name": "stdout",
     "output_type": "stream",
     "text": [
      "3664\n"
     ]
    }
   ],
   "source": [
    "ruta_archivo = \"../../datos/cap1_lovecraft.txt\" # COLOCAR LA RUTA DE SU ARCHIVO!\n",
    "\n",
    "# abrimos el archivo en modo lectura\n",
    "with open(ruta_archivo, \"r\") as archivo:\n",
    "    texto = archivo.read()\n",
    "\n",
    "print(contar_palabras(texto))"
   ]
  },
  {
   "cell_type": "code",
   "execution_count": null,
   "metadata": {},
   "outputs": [],
   "source": []
  }
 ],
 "metadata": {
  "kernelspec": {
   "display_name": "base",
   "language": "python",
   "name": "python3"
  },
  "language_info": {
   "codemirror_mode": {
    "name": "ipython",
    "version": 3
   },
   "file_extension": ".py",
   "mimetype": "text/x-python",
   "name": "python",
   "nbconvert_exporter": "python",
   "pygments_lexer": "ipython3",
   "version": "3.12.4"
  }
 },
 "nbformat": 4,
 "nbformat_minor": 2
}
