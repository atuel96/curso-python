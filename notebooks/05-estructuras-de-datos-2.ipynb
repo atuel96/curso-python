{
 "cells": [
  {
   "cell_type": "markdown",
   "metadata": {},
   "source": [
    "## Estructuras de Datos. Parte 2\n"
   ]
  },
  {
   "cell_type": "markdown",
   "metadata": {},
   "source": [
    "## Diccionarios\n",
    "\n",
    "Los diccionarios son una estrucutra que guarda pares de elementos; donde cada llave, o `key`, tiene asociado un valor, o `value`.\n",
    "\n",
    "Para crear un diccionario utilizamos llaves `{}`, y colocamos los pares `key:value` separados por comas:\n",
    "\n",
    "`diccionario = {key_1 : value_1, key_2 : value_2}`\n",
    "\n",
    "luego podemos acceder a los diferentes valores a partir de las llaves con la notación de corchetes:\n",
    "\n",
    "`diccionario[key_1] == value_1`\n",
    "\n",
    "Si `key_1` es una cadena sin espacios ni números se puede usar una notación de punto también:\n",
    "\n",
    "`diccionario.key_1 == diccionario[key_1] == value_1`"
   ]
  },
  {
   "cell_type": "code",
   "execution_count": null,
   "metadata": {},
   "outputs": [
    {
     "name": "stdout",
     "output_type": "stream",
     "text": [
      "Gustavo sacó un 5\n"
     ]
    }
   ],
   "source": [
    "# Creamos un diccionario\n",
    "notas = {\"Gustavo\": 8, \"Matías\": 9, \"Gloria\": 10}\n",
    "\n",
    "# Ahora agregamos un nuevo valor\n",
    "notas[\"Juan\"] = 9\n",
    "\n",
    "# cambiamos la nota de \"Gustavo\"\n",
    "notas[\"Gustavo\"] = 5\n",
    "\n",
    "# Accedemos a la nota de Gustavo:\n",
    "print(f\"Gustavo sacó un {notas['Gustavo']}\")"
   ]
  },
  {
   "cell_type": "code",
   "execution_count": 16,
   "metadata": {},
   "outputs": [
    {
     "name": "stdout",
     "output_type": "stream",
     "text": [
      "{'Gustavo': 5, 'Matías': 9, 'Gloria': 10, 'Juan': 9}\n"
     ]
    }
   ],
   "source": [
    "print(notas)"
   ]
  },
  {
   "cell_type": "code",
   "execution_count": 18,
   "metadata": {},
   "outputs": [
    {
     "name": "stdout",
     "output_type": "stream",
     "text": [
      "dict_keys(['Gustavo', 'Matías', 'Gloria', 'Juan'])\n",
      "dict_values([5, 9, 10, 9])\n"
     ]
    }
   ],
   "source": [
    "# Para ver las llaves del diccionario usamos keys()\n",
    "print(notas.keys())\n",
    "\n",
    "# Y para ver solo los valores usamos values()\n",
    "print(notas.values())"
   ]
  },
  {
   "cell_type": "markdown",
   "metadata": {},
   "source": [
    "### Tuplas (_tuples_)\n",
    "\n",
    "Una tupla es similar a una lista, pero sus elementos son inalterables.\n",
    "\n",
    "Para las tuplas podemos usar paréntesis:"
   ]
  },
  {
   "cell_type": "code",
   "execution_count": 19,
   "metadata": {},
   "outputs": [
    {
     "name": "stdout",
     "output_type": "stream",
     "text": [
      "(81, 2, 3, 1, 2, 1)\n"
     ]
    }
   ],
   "source": [
    "tup_a = (81, 2, 3, 1, 2, 1)\n",
    "\n",
    "print(tup_a)"
   ]
  },
  {
   "cell_type": "markdown",
   "metadata": {},
   "source": [
    "Realmente no necesitamos utilizar paréntesis, ya que al colocar elementos separados por una coma obtendremos por defecto una tupla:"
   ]
  },
  {
   "cell_type": "code",
   "execution_count": 20,
   "metadata": {},
   "outputs": [
    {
     "data": {
      "text/plain": [
       "tuple"
      ]
     },
     "execution_count": 20,
     "metadata": {},
     "output_type": "execute_result"
    }
   ],
   "source": [
    "tupla = 1, 2, 3\n",
    "\n",
    "type(tupla)"
   ]
  },
  {
   "cell_type": "markdown",
   "metadata": {},
   "source": [
    "### Listas a Strings, y Strings a Listas\n",
    "\n",
    "Existen dos métodos de strings que son útiles para convertir una lista en una string, o separar una string en elementos de una lista"
   ]
  },
  {
   "cell_type": "code",
   "execution_count": null,
   "metadata": {},
   "outputs": [
    {
     "data": {
      "text/plain": [
       "['1', '2', '3', '4']"
      ]
     },
     "execution_count": 3,
     "metadata": {},
     "output_type": "execute_result"
    }
   ],
   "source": [
    "\"1,2,3,4\".split(\",\")  # Obtengo una lista, separando a partir de las comas"
   ]
  },
  {
   "cell_type": "code",
   "execution_count": 6,
   "metadata": {},
   "outputs": [
    {
     "data": {
      "text/plain": [
       "['a', 'b', 'c', 'd']"
      ]
     },
     "execution_count": 6,
     "metadata": {},
     "output_type": "execute_result"
    }
   ],
   "source": [
    "\"a-b-c-d\".split(\"-\")  # Obtengo una lista, separando a partir de los guiones"
   ]
  },
  {
   "cell_type": "code",
   "execution_count": null,
   "metadata": {},
   "outputs": [
    {
     "data": {
      "text/plain": [
       "'tierra-aire-fuego-agua'"
      ]
     },
     "execution_count": 8,
     "metadata": {},
     "output_type": "execute_result"
    }
   ],
   "source": [
    "\"-\".join(\n",
    "    [\"tierra\", \"aire\", \"fuego\", \"agua\"]\n",
    ")  # junto los elementos de la lista colocando un guion en medio"
   ]
  },
  {
   "cell_type": "code",
   "execution_count": null,
   "metadata": {},
   "outputs": [],
   "source": []
  }
 ],
 "metadata": {
  "colab": {
   "provenance": []
  },
  "kernelspec": {
   "display_name": "base",
   "language": "python",
   "name": "python3"
  },
  "language_info": {
   "codemirror_mode": {
    "name": "ipython",
    "version": 3
   },
   "file_extension": ".py",
   "mimetype": "text/x-python",
   "name": "python",
   "nbconvert_exporter": "python",
   "pygments_lexer": "ipython3",
   "version": "3.12.4"
  }
 },
 "nbformat": 4,
 "nbformat_minor": 0
}
