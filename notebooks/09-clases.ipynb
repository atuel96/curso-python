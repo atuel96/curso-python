{
 "cells": [
  {
   "cell_type": "markdown",
   "metadata": {},
   "source": [
    "# Clases en Python\n",
    "\n",
    "Podemos pensar en una clase como los planos para construir un nuevo objeto. \n",
    "\n",
    "Un objeto encapsula variables (o atributos) y funciones (o métodos) en una única entidad. Un objeto es la instancia de una clase, y dentro de la clase vamos a definir cuales son las variables y funciones que van a existir dentro de ese tipo de objeto.\n"
   ]
  },
  {
   "cell_type": "markdown",
   "metadata": {},
   "source": [
    "## Objetos y Clases\n",
    "\n",
    "Ya trabajamos con objetos anteriormente (en Python todo es un objeto), y vimos que algunos objetos tienen funciones dentro a las que llamamos métodos. Por ejemplo las cadenas (strings) son un tipo de objeto que representan texto, y tienen varios métodos como `upper()` o `lower()`.\n",
    "\n",
    "Al crear una clase vamos a poder definir un nuevo tipo de objeto, y vamos a definir todas las propiedades que van a tener esos objetos, además de su comportamiento (sus métodos).\n"
   ]
  },
  {
   "cell_type": "markdown",
   "metadata": {},
   "source": [
    "### Clase Persona\n",
    "\n",
    "supongamos que queremos representar a una persona. Tenemos que preguntarnos dos cosas:\n",
    "\n",
    "* Qué propiedades (atributos) tiene una persona? (o cuales nos interesa que tenga)\n",
    "* Qué nos interesa que pueda hacer una persona? Cuál será su comportamiento (o sus métodos)?\n",
    "\n",
    "Para un caso sencillo podemos partir de que nos interesa de una persona su nombre, su apellido y su edad.\n",
    "\n",
    "Para crear una clase usamos la palabra reservada `class` seguido de el nombre de la clase (que por convensión empieza en Mayusculas).\n",
    "Luego dentro de un método llamado `__init__` pasamos los atributos que tendra esa clase (las propiedades que tendran los objetos de esta clase)\n",
    "\n",
    "``` python\n",
    "class NombreClase:\n",
    "    def __init__(self, atributo1, atributo2):\n",
    "        self.atributo1 = atributo1\n",
    "        self.atributo2 = atributo2\n",
    "```\n",
    "\n",
    "A tener en cuenta:\n",
    "* La función `__init__()` siempre lleva ese nombre e inicializa el objeto.\n",
    "* El primer parámetro de `__init__()` siempre es `self` (aunque el nombre es una convención).\n",
    "* la palabra `self` se refiere al objeto que estemos creando."
   ]
  },
  {
   "cell_type": "code",
   "execution_count": 13,
   "metadata": {},
   "outputs": [
    {
     "name": "stdout",
     "output_type": "stream",
     "text": [
      "Florencia\n"
     ]
    }
   ],
   "source": [
    "class Persona:\n",
    "    def __init__(self, nombre, apellido, edad):\n",
    "        self.nombre = nombre\n",
    "        self.apellido = apellido\n",
    "        self.edad = edad\n",
    "    \n",
    "blas = Persona(\"Blas\", \"de haro\", 23)\n",
    "flor = Persona(\"Florencia\", \"Peña\", 40)\n",
    "\n",
    "print(flor.nombre)"
   ]
  },
  {
   "cell_type": "code",
   "execution_count": 7,
   "metadata": {},
   "outputs": [
    {
     "name": "stdout",
     "output_type": "stream",
     "text": [
      "Jorge\n",
      "Garcia\n",
      "28\n"
     ]
    }
   ],
   "source": [
    "class Persona:\n",
    "    def __init__(self, nombre, apellido, edad):\n",
    "        self.nombre = nombre\n",
    "        self.apellido = apellido\n",
    "        self.edad = edad \n",
    "\n",
    "\n",
    "# creo dos personas:\n",
    "jorge = Persona(\"Jorge\", \"Garcia\", 28)\n",
    "ana = Persona(\"Ana\", \"Fernadez\", 23)\n",
    "\n",
    "# Ahora puedo acceder a los diferentes atributos que tiene una persona\n",
    "print(jorge.nombre)\n",
    "print(jorge.apellido)\n",
    "print(jorge.edad)"
   ]
  },
  {
   "cell_type": "markdown",
   "metadata": {},
   "source": [
    "### Agregando Comportamiento\n",
    "\n",
    "Agregar comportamiento a una clase significa definir sus métodos (funciones).\n",
    "\n",
    "Para definir los métodos simplemente creamos diferentes funciones dentro de la clase, donde cada función debe tener como primer parámetro a `self` (que representa al objeto desde el cual estoy llamando al método).\n",
    "\n",
    "``` python\n",
    "class NombreClase:\n",
    "    def __init__(self, atributo1, atributo2):\n",
    "        self.atributo1 = atributo1\n",
    "        self.atributo2 = atributo2\n",
    "\n",
    "    def metodo_sin_parametros(self):\n",
    "        ...\n",
    "\n",
    "    def metodo_con_parametros(self, param1, param2):\n",
    "        ...\n",
    "```\n",
    "\n",
    "Como ejemplo vamos a crear el método `presentarse()` que imprime un mensaje de presentación de la persona que lo llame."
   ]
  },
  {
   "cell_type": "code",
   "execution_count": 15,
   "metadata": {},
   "outputs": [
    {
     "name": "stdout",
     "output_type": "stream",
     "text": [
      "Hola! soy Ana Fernadez y tengo 23 años\n"
     ]
    }
   ],
   "source": [
    "class Persona:\n",
    "    def __init__(self, nombre, apellido, edad):\n",
    "        self.nombre = nombre\n",
    "        self.apellido = apellido\n",
    "        self.edad = edad \n",
    "\n",
    "    def presentarse(self):\n",
    "        # notar que para acceder a los atributos usamos self:\n",
    "        print(f\"Hola! soy {self.nombre} {self.apellido} y tengo {self.edad} años\")\n",
    "\n",
    "# creo dos personas:\n",
    "jorge = Persona(\"Jorge\", \"Garcia\", 28)\n",
    "ana = Persona(\"Ana\", \"Fernadez\", 23)\n",
    "\n",
    "ana.presentarse()"
   ]
  },
  {
   "cell_type": "code",
   "execution_count": null,
   "metadata": {},
   "outputs": [],
   "source": [
    "### Ejercicio.\n",
    "\n",
    "# Agregar el método mayor_de_edad() que devuelva True o False según corresponda"
   ]
  },
  {
   "cell_type": "markdown",
   "metadata": {},
   "source": [
    "## Herencia\n",
    "\n",
    "La herencia es un mecanismo que le permite a una clase (la clase hija) heredar los atributos y el comportamiento de otra (clase madre o super clase).\n",
    "Esto es útil para extender o cambiar algunos aspectos de la clase madre.\n",
    "\n",
    "``` python\n",
    "class Animal:\n",
    "    ...\n",
    "\n",
    "class Gato(Animal): # esta clase hereda de Animal\n",
    "    ...\n",
    "```\n",
    "\n",
    "Supongamos que quiero hacer la clase de una persona tímida, que es igual que una persona, pero al momento de presentarse solamente da su nombre."
   ]
  },
  {
   "cell_type": "code",
   "execution_count": 17,
   "metadata": {},
   "outputs": [
    {
     "name": "stdout",
     "output_type": "stream",
     "text": [
      "Hola! soy Ana Fernadez y tengo 23 años\n",
      "hola, soy José.\n",
      "José escapa de la conversación en silencio.\n"
     ]
    }
   ],
   "source": [
    "class PersonaTimida(Persona):\n",
    "    def presentarse(self): # sobreescribo el método original\n",
    "        print(f\"hola, soy {self.nombre}.\")\n",
    "\n",
    "    def escapar_de_la_conversacion(self): # nuevo método\n",
    "        print(f\"{self.nombre} escapa de la conversación en silencio.\")\n",
    "\n",
    "\n",
    "ana = Persona(\"Ana\", \"Fernadez\", 23)\n",
    "jose = PersonaTimida(\"José\", \"Pereira\", 22)\n",
    "\n",
    "# ambas personas pueden presentarse, pero su implementación es diferente\n",
    "ana.presentarse()\n",
    "jose.presentarse()\n",
    "jose.escapar_de_la_conversacion() # este método solo existe para las personas tímidas"
   ]
  },
  {
   "cell_type": "markdown",
   "metadata": {},
   "source": [
    "### Agregando Atributos en Herencia\n",
    "\n",
    "Si queremos agregar más atributos tenemos que sobreescribir el método `__init__` en la clase hija.\n",
    "Pero si queremos que los atributos iniciales sigan disponibles tenemos que llamar al método `__init__` de la super clase usando la función `super()`: "
   ]
  },
  {
   "cell_type": "code",
   "execution_count": 20,
   "metadata": {},
   "outputs": [
    {
     "name": "stdout",
     "output_type": "stream",
     "text": [
      "['lengua', 'matemáticas']\n"
     ]
    }
   ],
   "source": [
    "class Alumno(Persona):\n",
    "    def __init__(self, nombre, apellido, edad, materias_aprobadas = []):\n",
    "        # pasamos los atributos de la super clase (Persona) usando super():\n",
    "        super().__init__(nombre, apellido, edad)\n",
    "        \n",
    "        # definimos el nuevo atributo:\n",
    "        self.materias_aprobadas = materias_aprobadas\n",
    "    \n",
    "    # nuevo Método\n",
    "    def aprobar_materia(self, materia):\n",
    "        self.materias_aprobadas.append(materia)\n",
    "\n",
    "\n",
    "# Creo un Alumno sin materias aprobadas\n",
    "blas = Alumno(\"Blas\", \"de haro\", 22)\n",
    "\n",
    "# Apruebo dos materias\n",
    "blas.aprobar_materia(\"lengua\")\n",
    "blas.aprobar_materia(\"matemáticas\")\n",
    "\n",
    "# Veo las materias aprobadas\n",
    "print(blas.materias_aprobadas)"
   ]
  },
  {
   "cell_type": "markdown",
   "metadata": {},
   "source": [
    "### Compartir una Interfaz\n",
    "\n",
    "Cuando creamos una clase y escribimos sus métodos definimos su *interfaz*, esto es, la forma en la que interactuamos con el objeto.\n",
    "En muchas ocaciones vamos a tener varias clases que conceptualmente van a estar relacionadas.\n",
    "Por ejemplo, si quiero crear las siguientes clases:\n",
    "\n",
    "* Cuadrado\n",
    "* Circulo\n",
    "* Rectangulo\n",
    "\n",
    "Todas ellas son figuras geométricas, y de todas ellas puede que me interese algo en común, como puede ser calcular su área. Por lo tanto podemos pensar en la siguiente interfaz:\n",
    "\n",
    "``` python\n",
    "class Figura:\n",
    "\n",
    "    def calcular_area(self):\n",
    "        ...\n",
    "``` \n",
    "Es decir, una figura tiene un método llamado `calcular_area` que sirve, justamente, para calcular el área de la figura.\n",
    "Podria hacer que todas mis figuras (Cuadrado, Circulo, etc) hereden de la clase `Figura` y sobreescriban el método `calcular_area()`. Pero esto no es necesario, simplemente puedo respetar la interfaz en cada clase. Esto implica que todas las clases tendrán el mismo método. Veamos el ejemplo:"
   ]
  },
  {
   "cell_type": "code",
   "execution_count": null,
   "metadata": {},
   "outputs": [
    {
     "name": "stdout",
     "output_type": "stream",
     "text": [
      "4\n",
      "3.141592653589793\n",
      "10\n"
     ]
    }
   ],
   "source": [
    "from math import pi\n",
    "\n",
    "class Cuadrado:\n",
    "    def __init__(self, lado):\n",
    "        self.lado = lado\n",
    "\n",
    "    def calcular_area(self):\n",
    "        return self.lado ** 2\n",
    "    \n",
    "class Circulo:\n",
    "    def __init__(self, radio):\n",
    "        self.radio = radio \n",
    "\n",
    "    def calcular_area(self):\n",
    "        return pi * self.radio**2\n",
    "    \n",
    "class Rectangulo:\n",
    "    def __init__(self, base, altura):\n",
    "        self.base = base\n",
    "        self.altura = altura \n",
    "    \n",
    "    def calcular_area(self):\n",
    "        return self.base * self.altura\n",
    "    \n",
    "    \n",
    "cuadrado = Cuadrado(lado=2)\n",
    "circulo = Circulo(radio=1)\n",
    "rectangulo = Rectangulo(2, 5)\n",
    "\n",
    "for figura in [cuadrado, circulo, rectangulo]:\n",
    "    print(figura.calcular_area())"
   ]
  },
  {
   "cell_type": "code",
   "execution_count": null,
   "metadata": {},
   "outputs": [],
   "source": [
    "### Ejercicio.\n",
    "\n",
    "# Clase Persona con nombre, apellido, DNI y sexo\n",
    "# Méotodo cuil() para una Persona a partir del DNI\n",
    "# Agrega 23 - 9 en caso de ser hombre\n",
    "# Agrega 27 - 4 en caso de ser mujer"
   ]
  },
  {
   "cell_type": "code",
   "execution_count": 2,
   "metadata": {},
   "outputs": [
    {
     "data": {
      "text/plain": [
       "'HOLA'"
      ]
     },
     "execution_count": 2,
     "metadata": {},
     "output_type": "execute_result"
    }
   ],
   "source": [
    "\"hola\".upper()"
   ]
  },
  {
   "cell_type": "code",
   "execution_count": null,
   "metadata": {},
   "outputs": [],
   "source": [
    "### Ejercicio entre todos\n",
    "\n",
    "# BilleteraVirtual con Gastos e Ingresos\n",
    "# Métodos gastar(), ingresar()\n",
    "# Método ver_saldo()\n",
    "\n",
    "\n",
    "class BilleteraVirtual:\n",
    "    def __init__(self, saldo_inicial = 0):\n",
    "        self.saldo_inicial = saldo_inicial\n",
    "        self.gastos = []\n",
    "        self.ingresos = []\n",
    "\n",
    "    def gastar(self, monto):\n",
    "        self.gastos.append(monto)\n",
    "\n",
    "    def ingresar(self, monto):\n",
    "        self.ingresos.append(monto)\n",
    "\n",
    "    def ver_saldo(self):\n",
    "        return self.saldo_inicial + sum(self.ingresos) - sum(self.gastos)\n",
    "\n"
   ]
  },
  {
   "cell_type": "markdown",
   "metadata": {},
   "source": [
    "## Composición\n",
    "\n",
    "Otra forma de extender el comportamiento de un objeto es componer ese objeto a partir de otros objetos. Por ejemplo si quiero que una persona tenga acceso a una billetera virtual puedo pensar en una PersonaConBilletera que herede de persona. O también puedo crear una nueva clase que represente a la billetera y luego agregar ese objeto a una persona\n",
    "\n",
    "\n"
   ]
  },
  {
   "cell_type": "code",
   "execution_count": 31,
   "metadata": {},
   "outputs": [
    {
     "data": {
      "text/plain": [
       "250"
      ]
     },
     "execution_count": 31,
     "metadata": {},
     "output_type": "execute_result"
    }
   ],
   "source": [
    "class BilleteraVirtual:\n",
    "    def __init__(self, saldo_inicial=0):\n",
    "        self.saldo_inicial = saldo_inicial\n",
    "        self.gastos = []\n",
    "        self.ingresos = []\n",
    "\n",
    "    def gastar(self, gasto):\n",
    "        self.gastos.append(gasto)\n",
    "    \n",
    "    def ingresar(self, ingreso):\n",
    "        self.ingresos.append(ingreso)\n",
    "\n",
    "    @property\n",
    "    def saldo(self):\n",
    "        return self.saldo_inicial + sum(self.ingresos) - sum(self.gastos)\n",
    "    \n",
    "\n",
    "billetera = BilleteraVirtual()\n",
    "billetera.ingresar(100)\n",
    "billetera.ingresar(200)\n",
    "billetera.gastar(50)\n",
    "\n",
    "billetera.saldo"
   ]
  },
  {
   "cell_type": "code",
   "execution_count": 35,
   "metadata": {},
   "outputs": [
    {
     "data": {
      "text/plain": [
       "250"
      ]
     },
     "execution_count": 35,
     "metadata": {},
     "output_type": "execute_result"
    }
   ],
   "source": [
    "class Persona:\n",
    "    def __init__(self, nombre, apellido, edad, billetera = None):\n",
    "        self.nombre = nombre \n",
    "        self.apellido = apellido \n",
    "        self.edad = edad \n",
    "        self.billetera = billetera\n",
    "\n",
    "\n",
    "\n",
    "billetera = BilleteraVirtual()\n",
    "billetera.ingresar(100)\n",
    "billetera.ingresar(200)\n",
    "billetera.gastar(50)\n",
    "\n",
    "persona = Persona(\"Juan\", \"Heredia\", 28, billetera)\n",
    "\n",
    "persona.billetera.saldo"
   ]
  }
 ],
 "metadata": {
  "kernelspec": {
   "display_name": "base",
   "language": "python",
   "name": "python3"
  },
  "language_info": {
   "codemirror_mode": {
    "name": "ipython",
    "version": 3
   },
   "file_extension": ".py",
   "mimetype": "text/x-python",
   "name": "python",
   "nbconvert_exporter": "python",
   "pygments_lexer": "ipython3",
   "version": "3.12.4"
  }
 },
 "nbformat": 4,
 "nbformat_minor": 2
}
