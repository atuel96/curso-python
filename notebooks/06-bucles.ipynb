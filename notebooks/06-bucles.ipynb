{
 "cells": [
  {
   "cell_type": "markdown",
   "metadata": {
    "id": "KzLODXUwGvTd"
   },
   "source": [
    "## Bucles\n",
    "\n",
    "Los bucles son una de las herramientas más poderosas en programación.\n",
    "\n",
    "Empecemos planteandonos un problema sencillo. Queremos calcular el factorial de un número $n$:\n",
    "\n",
    "$$ n ! = n \\times (n-1) \\times (n-2) \\times \\cdots \\times 2 \\times 1 $$\n",
    "\n",
    "Por ejemplo, calculemos $5!$:"
   ]
  },
  {
   "cell_type": "code",
   "execution_count": 1,
   "metadata": {
    "id": "4QOcfn7lGvTd",
    "outputId": "f779eebb-1351-4351-f619-68e0164cc96c"
   },
   "outputs": [
    {
     "name": "stdout",
     "output_type": "stream",
     "text": [
      "5! = 120\n"
     ]
    }
   ],
   "source": [
    "# Factorial de 5:\n",
    "fac_5 = 5 * 4 * 3 * 2 * 1\n",
    "\n",
    "print(f\"5! = {fac_5}\")"
   ]
  },
  {
   "cell_type": "markdown",
   "metadata": {
    "id": "KSsvapiQGvTe"
   },
   "source": [
    "ok, funciona, pero que pasa si queremos calcular el factorial de un número $n$ que se evaluará en tiempo de ejecución? por ejemplo un $n$ introducido por el usuario? Veamos como resolver este problema con el bucle `while`:\n",
    "\n",
    "### bucle while\n",
    "\n",
    "El bucle while nos permite ejecutar un bloque de código varias veces, siempre que una expresión se evalue a `True`\n",
    "``` python\n",
    "while <expresión>:\n",
    "    bloque\n",
    "```\n",
    "Es importante que la expresión se actualice en cada iteración.\n",
    "\n",
    "Por ejemplo, veamos el siguiente código:\n",
    "\n",
    "``` python\n",
    "while 2 > 1:\n",
    "    print(\"Dos es mayor a uno\")\n",
    "```\n",
    "El bloque de print() se ejecutará por siempre, ya que la expresión `2 > 1` siempre será verdadera.\n",
    "\n",
    "Por eso (casi) siempre se utiliza alguna variable dentro de la expresión, y se actualiza la variable dentro del bloque.\n",
    "Por ejemplo:\n",
    "\n",
    "``` python\n",
    "i = 0\n",
    "while i < 2:\n",
    "    i += 1\n",
    "    print(i)\n",
    "```\n",
    "\n",
    "el bloque se ejecutará dos veces, puesto que en cada iteración `i` aumentará en uno su valor, y cuando `i == 2` se dejará de cumplir la condición\n"
   ]
  },
  {
   "cell_type": "code",
   "execution_count": 2,
   "metadata": {
    "id": "ZS4Bvi5oGvTx",
    "outputId": "0b9531fd-bd93-44f0-e1a5-5771a8e9e841"
   },
   "outputs": [
    {
     "name": "stdout",
     "output_type": "stream",
     "text": [
      "Tengo 0 años\n",
      "Tengo 1 años\n",
      "Tengo 2 años\n",
      "Tengo 3 años\n",
      "Tengo 4 años\n",
      "Fuera del bloque\n"
     ]
    }
   ],
   "source": [
    "# simple ejemplo\n",
    "edad = 0\n",
    "while edad < 5:\n",
    "    print(f\"Tengo {edad} años\")\n",
    "    edad += 1  # pasa un año\n",
    "\n",
    "print(\"Fuera del bloque\")"
   ]
  },
  {
   "cell_type": "markdown",
   "metadata": {
    "id": "7N3u7ph3GvTx"
   },
   "source": [
    "Ahora, volviendo al calculo del factorial:"
   ]
  },
  {
   "cell_type": "markdown",
   "metadata": {
    "id": "NRuBs4cSGvTz"
   },
   "source": [
    "#### Recorriendo una lista con el bucle while\n",
    "\n",
    "Supongamos que tengo una lista y quiero recorrerla por alguna razón.\n",
    "\n",
    "Puedo usar un bucle while de la siguiente forma:"
   ]
  },
  {
   "cell_type": "code",
   "execution_count": 3,
   "metadata": {
    "id": "I99l3v0SGvTz",
    "outputId": "a6e9075a-e5fa-49e4-e6f5-9072deb1f78d"
   },
   "outputs": [
    {
     "name": "stdout",
     "output_type": "stream",
     "text": [
      "Tengo que comprar queso\n",
      "Tengo que comprar pan\n",
      "Tengo que comprar jamón\n",
      "Tengo que comprar arroz\n"
     ]
    }
   ],
   "source": [
    "lista_de_compras = [\"queso\", \"pan\", \"jamón\", \"arroz\"]\n",
    "\n",
    "indice = 0  # el primer elemento de la lista siempre es el cero\n",
    "while indice < len(lista_de_compras):\n",
    "    print(f\"Tengo que comprar {lista_de_compras[indice]}\")\n",
    "    indice += 1  # importante actualizar el índice en cada iteración"
   ]
  },
  {
   "cell_type": "markdown",
   "metadata": {
    "id": "r2Z2LhnTGvT0"
   },
   "source": [
    "### Bucle for\n",
    "\n",
    "El bucle for puede parecer menos intuitivo a primera vista, pero nos deja hacer lo que hicimos anteriormente de una forma mucho más sencilla.\n",
    "\n",
    "Veremos que en la mayoría de los casos usaremos bucles for en lugar de bucles while."
   ]
  },
  {
   "cell_type": "code",
   "execution_count": 4,
   "metadata": {
    "id": "MqW6xxTWGvT0",
    "outputId": "0767ceb3-33cd-4bdd-9a7e-6039490f70ed"
   },
   "outputs": [
    {
     "name": "stdout",
     "output_type": "stream",
     "text": [
      "tengo que comprar queso\n",
      "tengo que comprar pan\n",
      "tengo que comprar jamón\n",
      "tengo que comprar arroz\n"
     ]
    }
   ],
   "source": [
    "lista_de_compras = [\"queso\", \"pan\", \"jamón\", \"arroz\"]\n",
    "\n",
    "for comida in lista_de_compras:\n",
    "    # la variable comida va tomando todos los valores de la lista\n",
    "    print(f\"tengo que comprar {comida}\")"
   ]
  },
  {
   "cell_type": "code",
   "execution_count": 5,
   "metadata": {},
   "outputs": [
    {
     "name": "stdout",
     "output_type": "stream",
     "text": [
      "queso\n",
      "pan\n",
      "jamón\n",
      "arroz\n"
     ]
    }
   ],
   "source": [
    "lista_de_compras = [\"queso\", \"pan\", \"jamón\", \"arroz\"]\n",
    "\n",
    "for cualquier_cosa in lista_de_compras:\n",
    "    # La variable puede tener cualquier nombre\n",
    "    print(cualquier_cosa)"
   ]
  },
  {
   "cell_type": "markdown",
   "metadata": {
    "id": "kq0boJSUGvT0"
   },
   "source": [
    "En un bucle for definimos una `variable` que irá cambiando su valor en cada iteración, hasta haber recorrido todos los elementos de una lista.\n",
    "``` python\n",
    "for <variable> in <iterable>:\n",
    "    bloque\n",
    "```\n",
    "Por lo tanto siempre que queramos recorrer una lista, el bucle `for` será la decisión obvia.\n"
   ]
  },
  {
   "cell_type": "markdown",
   "metadata": {
    "id": "Er2dM0xTGvT1"
   },
   "source": [
    "#### Función `range()`\n",
    "Pero eso no es todo, el bucle for se vuelve mucho más poderoso con la función `range()`.\n",
    "\n",
    "A modo de receta, si queremos repetir un bloque un número `n` de veces, podemos simplemente escribir:\n",
    "\n",
    "``` python\n",
    "for <variable> in range(n):\n",
    "    bloque\n",
    "```\n",
    "\n",
    "Por ejemplo:"
   ]
  },
  {
   "cell_type": "code",
   "execution_count": 6,
   "metadata": {
    "id": "7XIC2LXJGvT1",
    "outputId": "2fc7d9e5-d3b6-47ee-9635-b31e68825ab6"
   },
   "outputs": [
    {
     "name": "stdout",
     "output_type": "stream",
     "text": [
      "Hola!\n",
      "Hola!\n",
      "Hola!\n",
      "Hola!\n",
      "Hola!\n"
     ]
    }
   ],
   "source": [
    "# Digamos hola 5 veces:\n",
    "for i in range(5):\n",
    "    print(\"Hola!\")"
   ]
  },
  {
   "cell_type": "code",
   "execution_count": 7,
   "metadata": {
    "id": "pdelrzRNGvT1",
    "outputId": "e835ca8f-1b9e-449b-c44b-8efdb9a3db2d"
   },
   "outputs": [
    {
     "name": "stdout",
     "output_type": "stream",
     "text": [
      "0\n",
      "1\n",
      "2\n",
      "3\n",
      "4\n",
      "5\n",
      "6\n",
      "7\n",
      "8\n",
      "9\n"
     ]
    }
   ],
   "source": [
    "# veamos que pasa con la variable i:\n",
    "for i in range(10):\n",
    "    print(i)"
   ]
  },
  {
   "cell_type": "markdown",
   "metadata": {
    "id": "gXbyEmXgGvT2"
   },
   "source": [
    "En caso de pasar un solo argumento a la función `range()`, como en:\n",
    "\n",
    "``` python\n",
    "for <variable> in range(n):\n",
    "    bloque\n",
    "```\n",
    "\n",
    "la `variable` tomará valores partiendo desde `0` hasta llegar a `n-1`.\n",
    "\n",
    "\n",
    "Pero podemos pasarle más de un atributo.\n",
    "\n",
    "``` python\n",
    "for <variable> in range(a, b):\n",
    "    bloque\n",
    "```\n",
    "\n",
    "En el caso de dos atributos `a` y `b`, la variable empezará en `a` y terminará en `b-1`\n",
    "\n",
    "``` python\n",
    "for <variable> in range(a, b, c):\n",
    "    bloque\n",
    "```\n",
    "\n",
    "Y en el caso de tres atrubutos será igual, pero `c` indica un paso que por defecto es 1 (podemos pensar en que cada iteración la variable incremente su valor en `c`).\n",
    "\n",
    "Notemos que:\n",
    "\n",
    "``` python\n",
    "range(b) == range(0, b) == range(0, b, 1)\n",
    "```\n",
    "(las tres son equivalentes)"
   ]
  },
  {
   "cell_type": "code",
   "execution_count": 8,
   "metadata": {
    "id": "o5S3TEoXGvT3",
    "outputId": "4ae9f146-3f20-4c3d-bb46-bbd5d5a621fd"
   },
   "outputs": [
    {
     "name": "stdout",
     "output_type": "stream",
     "text": [
      "2\n",
      "3\n",
      "4\n"
     ]
    }
   ],
   "source": [
    "# veamos que pasa con la variable i:\n",
    "for i in range(2, 5):\n",
    "    print(i)"
   ]
  },
  {
   "cell_type": "code",
   "execution_count": 9,
   "metadata": {
    "id": "Dk9bIYx9GvT4",
    "outputId": "409bea25-e2c2-431e-d04c-acfee033d128"
   },
   "outputs": [
    {
     "name": "stdout",
     "output_type": "stream",
     "text": [
      "0\n",
      "2\n",
      "4\n",
      "6\n",
      "8\n"
     ]
    }
   ],
   "source": [
    "# veamos que pasa con la variable i:\n",
    "for i in range(0, 10, 2):\n",
    "    print(i)"
   ]
  },
  {
   "cell_type": "code",
   "execution_count": 10,
   "metadata": {
    "id": "1Y0IkMWFGvT5",
    "outputId": "d3cdbf69-763e-4221-88a0-38a8a5d994c6"
   },
   "outputs": [
    {
     "name": "stdout",
     "output_type": "stream",
     "text": [
      "5\n",
      "4\n",
      "3\n",
      "2\n",
      "1\n",
      "0\n",
      "¡¡BOOM!!\n"
     ]
    }
   ],
   "source": [
    "# Podemos hacer una cuenta regresiva de esta forma:\n",
    "for i in range(5, -1, -1):\n",
    "    print(i)\n",
    "\n",
    "print(\"¡¡BOOM!!\")"
   ]
  },
  {
   "cell_type": "markdown",
   "metadata": {
    "id": "WhQQk5zpGvT5"
   },
   "source": [
    "Veamos como podemos volver a calcular un factorial usando el bucle `for`:"
   ]
  },
  {
   "cell_type": "code",
   "execution_count": 11,
   "metadata": {
    "id": "_o6e6NAdGvT6",
    "outputId": "b791a27d-1de1-41c6-9912-ad5ed61c9c68"
   },
   "outputs": [
    {
     "name": "stdout",
     "output_type": "stream",
     "text": [
      "Factorial de 50 = 30414093201713378043612608166064768844377641568960512000000000000\n"
     ]
    }
   ],
   "source": [
    "# Queremos calcular n!\n",
    "n = 50\n",
    "factorial = n\n",
    "\n",
    "for i in range(1, n):\n",
    "    factorial *= n - i\n",
    "\n",
    "print(f\"Factorial de {n} = {factorial}\")"
   ]
  },
  {
   "cell_type": "markdown",
   "metadata": {},
   "source": [
    "### Recorrer un diccionario\n",
    "\n",
    "Para recorrer un diccionario tenemos varias alternativas."
   ]
  },
  {
   "cell_type": "code",
   "execution_count": 12,
   "metadata": {},
   "outputs": [
    {
     "name": "stdout",
     "output_type": "stream",
     "text": [
      "a\n",
      "b\n",
      "c\n"
     ]
    }
   ],
   "source": [
    "diccionario = {\"a\": 10, \"b\": 11, \"c\": 12}\n",
    "\n",
    "# Si usamos un for, solo recorreremos las llaves\n",
    "for llave in diccionario:\n",
    "    print(llave)"
   ]
  },
  {
   "cell_type": "code",
   "execution_count": 13,
   "metadata": {},
   "outputs": [
    {
     "name": "stdout",
     "output_type": "stream",
     "text": [
      "la llave es 'a' y el valor es '10'\n",
      "la llave es 'b' y el valor es '11'\n",
      "la llave es 'c' y el valor es '12'\n"
     ]
    }
   ],
   "source": [
    "diccionario = {\"a\": 10, \"b\": 11, \"c\": 12}\n",
    "\n",
    "# Si usamos un for, solo recorreremos las llaves\n",
    "for llave in diccionario:\n",
    "    # Pero Usando la llave puedo acceder al valor:\n",
    "    print(f\"la llave es '{llave}' y el valor es '{diccionario[llave]}'\")"
   ]
  },
  {
   "cell_type": "code",
   "execution_count": 14,
   "metadata": {},
   "outputs": [
    {
     "name": "stdout",
     "output_type": "stream",
     "text": [
      "la llave es 'a' y el valor es '0'\n",
      "la llave es 'b' y el valor es '1'\n",
      "la llave es 'c' y el valor es '2'\n"
     ]
    }
   ],
   "source": [
    "diccionario = {\"a\": 0, \"b\": 1, \"c\": 2}\n",
    "\n",
    "# Podemos usar el método .items() para ver valores y llaves al mismo tiempo\n",
    "for llave, valor in diccionario.items():\n",
    "    print(f\"la llave es '{llave}' y el valor es '{valor}'\")"
   ]
  },
  {
   "cell_type": "markdown",
   "metadata": {
    "id": "iwTjXNwcGvT7"
   },
   "source": [
    "#### Sentencias `continue` y `break`\n",
    "\n",
    "`continue` y `break` son dos sentencias importantes que se utilizan en los bucles `while` y `for`.\n",
    "\n",
    "`continue` permite saltarse una iteración del bloque, mientras que `break` permite salir completamente del bucle.\n",
    "\n",
    "Veamos un ejemplo:"
   ]
  },
  {
   "cell_type": "code",
   "execution_count": 15,
   "metadata": {
    "id": "VBmfN4yOGvT7",
    "outputId": "7a70cf45-ce54-4719-8dcc-e5d5268be178"
   },
   "outputs": [
    {
     "name": "stdout",
     "output_type": "stream",
     "text": [
      "1\n",
      "3\n",
      "5\n",
      "7\n",
      "9\n",
      "Y esos fueron los primeros 10 números impares!\n"
     ]
    }
   ],
   "source": [
    "# Imprimiendo solo números impares menores a 10:\n",
    "for i in range(100):\n",
    "    if i % 2 == 0:\n",
    "        # si i es par salto a la siguiente iteración\n",
    "        continue\n",
    "    if i > 10:\n",
    "        # si i es mayor a 10 salgo completamente del bucle\n",
    "        break\n",
    "    print(i)\n",
    "print(\"Y esos fueron los primeros 10 números impares!\")"
   ]
  },
  {
   "cell_type": "code",
   "execution_count": 16,
   "metadata": {},
   "outputs": [
    {
     "name": "stdout",
     "output_type": "stream",
     "text": [
      "Torres ya recibió su pago\n",
      "Enviando el pago de Pereira\n",
      "Enviando el pago de Villegas\n",
      "Contreras ya recibió su pago\n",
      "\n",
      "Todos los sueldos fueron pagados!\n"
     ]
    }
   ],
   "source": [
    "# un diccionario que nos dice que personas ya recibieron su sueldo\n",
    "sueldos_pagados = {\n",
    "    \"Torres\": True,\n",
    "    \"Pereira\": False,\n",
    "    \"Villegas\": False,\n",
    "    \"Contreras\": True,\n",
    "}\n",
    "\n",
    "for apellido, sueldo_pagado in sueldos_pagados.items():\n",
    "    if sueldo_pagado:\n",
    "        print(f\"{apellido} ya recibió su pago\")\n",
    "        # Si el pago fue recibido continuamos con el siguiente\n",
    "        continue\n",
    "\n",
    "    print(f\"Enviando el pago de {apellido}\")\n",
    "\n",
    "print(\"\\nTodos los sueldos fueron pagados!\")"
   ]
  },
  {
   "cell_type": "code",
   "execution_count": null,
   "metadata": {
    "id": "Kbq8dHi7GvUQ"
   },
   "outputs": [],
   "source": []
  }
 ],
 "metadata": {
  "colab": {
   "provenance": []
  },
  "kernelspec": {
   "display_name": "base",
   "language": "python",
   "name": "python3"
  },
  "language_info": {
   "codemirror_mode": {
    "name": "ipython",
    "version": 3
   },
   "file_extension": ".py",
   "mimetype": "text/x-python",
   "name": "python",
   "nbconvert_exporter": "python",
   "pygments_lexer": "ipython3",
   "version": "3.12.4"
  },
  "orig_nbformat": 4
 },
 "nbformat": 4,
 "nbformat_minor": 0
}
