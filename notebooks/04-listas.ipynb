{
 "cells": [
  {
   "cell_type": "markdown",
   "metadata": {},
   "source": [
    "## Estructuras de Datos. Parte 1\n",
    "\n",
    "Aparte de los tipos básicos mencionados en la primera notebook, python cuenta con algunas estructuras de datos bastante útiles.\n",
    "\n",
    "### Listas\n",
    "\n",
    "Podemos pensar a una lista simplemente como un grupo de objetos.\n",
    "\n",
    "Para denotar que estamos creando una lista utilizamos corchetes y separamos sus elementos con una coma:\n",
    "\n",
    "`lista = [objeto_1, objeto_2, objeto_3]`\n",
    "\n"
   ]
  },
  {
   "cell_type": "code",
   "execution_count": 1,
   "metadata": {
    "id": "fcF3bOPau1mI"
   },
   "outputs": [
    {
     "data": {
      "text/plain": [
       "list"
      ]
     },
     "execution_count": 1,
     "metadata": {},
     "output_type": "execute_result"
    }
   ],
   "source": [
    "# Ejemplo\n",
    "mi_lista = [1, 1, 2, 3, 5, 8, 13]\n",
    "type(mi_lista)"
   ]
  },
  {
   "cell_type": "markdown",
   "metadata": {},
   "source": [
    "Cada elemento de la lista puede ser de un tipo diferente.\n",
    "\n",
    "Para acceder a cada objeto usamos la siguiente notación:\n",
    "\n",
    "* `lista[0]` : nos devuelve el primer elemento **(Sí, el 0 es el primer elemento)**\n",
    "* `lista[1]` : nos devuelve el segundo elemento\n",
    "* `lista[2]` : nos devuelve el segundo elemento\n",
    "* Etcetera"
   ]
  },
  {
   "cell_type": "code",
   "execution_count": 2,
   "metadata": {},
   "outputs": [
    {
     "name": "stdout",
     "output_type": "stream",
     "text": [
      "perro\n"
     ]
    }
   ],
   "source": [
    "# EJERCICIO\n",
    "\n",
    "# Dada la siguiente lista:\n",
    "notas = [\"perro\", 5, True]\n",
    "\n",
    "# imprima el segundo elemento:\n",
    "print(notas[0])"
   ]
  },
  {
   "cell_type": "markdown",
   "metadata": {},
   "source": [
    "También podemos obtener los últimos elementos de la siguiente forma:\n",
    "\n",
    "* `lista[-1]` : nos devuelve el último elemento\n",
    "* `lista[-2]` : nos devuelve el penúltimo elemento\n",
    "* `lista[-3]` : nos devuelve el antepenúltimo elemento\n",
    "* Etcetera"
   ]
  },
  {
   "cell_type": "code",
   "execution_count": 3,
   "metadata": {},
   "outputs": [],
   "source": [
    "# EJERCICIO\n",
    "\n",
    "# Dada la siguiente lista:\n",
    "lista = [\"perro\", 5, True]\n",
    "\n",
    "# Imprima el último elemento"
   ]
  },
  {
   "cell_type": "code",
   "execution_count": 4,
   "metadata": {},
   "outputs": [],
   "source": [
    "# EJERCICIO\n",
    "\n",
    "# Dada la siguiente lista:\n",
    "lista = [\"perro\", 5, True]\n",
    "\n",
    "# Intente imprimir el quinto elemento (que no existe)"
   ]
  },
  {
   "cell_type": "markdown",
   "metadata": {},
   "source": [
    "Cuando intentemos acceder a un elemento fuera del rango de la lista obtendremos el error **IndexError**."
   ]
  },
  {
   "cell_type": "code",
   "execution_count": null,
   "metadata": {},
   "outputs": [
    {
     "name": "stdout",
     "output_type": "stream",
     "text": [
      "dos\n",
      "uno\n",
      "tres\n",
      "dos\n"
     ]
    }
   ],
   "source": [
    "# Ejemplo\n",
    "lista = [\"uno\", \"dos\", \"tres\"]\n",
    "\n",
    "print(lista[1])  # segundo elemento de la lista\n",
    "print(lista[0])  # primer elemento de la lista\n",
    "print(lista[-1])  # el -1 nos dirige al último elemento de la lista\n",
    "print(\n",
    "    lista[-2]\n",
    ")  # el -2 es el antepenúltimo elemento, en este caso el elemento -2 y el 1 son el mismo"
   ]
  },
  {
   "cell_type": "markdown",
   "metadata": {},
   "source": [
    "#### Función `len()`\n",
    "\n",
    "Esta función nos permite saber cuantos elementos hay en una lista"
   ]
  },
  {
   "cell_type": "code",
   "execution_count": null,
   "metadata": {},
   "outputs": [
    {
     "data": {
      "text/plain": [
       "8"
      ]
     },
     "execution_count": 3,
     "metadata": {},
     "output_type": "execute_result"
    }
   ],
   "source": [
    "len([1, 2, 3, 8, 0, 7, 9, 0])"
   ]
  },
  {
   "cell_type": "markdown",
   "metadata": {},
   "source": [
    "#### Cambiando elementos de una lista\n",
    "\n",
    "Usando la notación de corchetes no solo podemos acceder a un elemento de la lista, sino que podemos modificarlo también"
   ]
  },
  {
   "cell_type": "code",
   "execution_count": null,
   "metadata": {},
   "outputs": [
    {
     "name": "stdout",
     "output_type": "stream",
     "text": [
      "[99, 1, 0, 1]\n"
     ]
    }
   ],
   "source": [
    "lista = [0, 1, 0, 1]\n",
    "lista[0] = 99  # Cambio el primer elemento a 99\n",
    "print(lista)"
   ]
  },
  {
   "cell_type": "markdown",
   "metadata": {},
   "source": [
    "#### Agregando elementos a una lista\n",
    "\n",
    "Muchas veces vamos a querer agregar elementos a una lista a lo largo de nuestro programa.\n",
    "\n",
    "Al igual que las strings o cadenas, las listas tienen métodos (funciones) que nos serán de ayuda:\n",
    "\n",
    "* `append()` Agrega un elemento al final de la lista.\n",
    "* `clear()` Borra todo el contenido de la lista\n",
    "* `copy()` Regresa una copia de la lista\n",
    "* `count()` Regresa el número de veces que aparece un dado elemento\n",
    "* `index()` Regresa el índice de un dado elemento.\n",
    "* `pop()` Quita el elemento a la posición indicada y devulve ese elemento.\n",
    "* `remove()` Quita un elemento de la lista.\n",
    "* `reverse()` Invierte el orden de al lista\n",
    "* `sort()` Ordena la lista\n",
    "  \n",
    "Veamos algunos ejemplos"
   ]
  },
  {
   "cell_type": "code",
   "execution_count": null,
   "metadata": {},
   "outputs": [
    {
     "name": "stdout",
     "output_type": "stream",
     "text": [
      "['uno', 'dos', 'tres', 'uno', 'uno', 'cinco', 'cuatro']\n",
      "['uno', 'dos', 'tres', 'uno', 'cinco', 'cuatro']\n",
      "['dos', 'tres', 'uno', 'cinco', 'cuatro']\n"
     ]
    }
   ],
   "source": [
    "# Como usar append\n",
    "lista = [\"uno\", \"dos\", \"tres\", \"uno\", \"uno\"]\n",
    "lista.append(\"cinco\")\n",
    "lista.append(\"cuatro\")\n",
    "\n",
    "print(lista)\n",
    "\n",
    "lista.pop(1)  # elimino el segundo elemento de la lista\n",
    "print(lista)\n",
    "\n",
    "lista.remove(\"uno\")  # elimino el primer elemento que tenga un valor \"uno\"\n",
    "print(lista)"
   ]
  },
  {
   "cell_type": "markdown",
   "metadata": {},
   "source": [
    "#### Copiando una lista\n",
    "\n",
    "Si tengo una `lista_a`, y guardo el contenido de esa lista en otra variable `lista_b`, al modificar la lista original, también voy a modificar mi segunda lista. Veamos lo que sucede:"
   ]
  },
  {
   "cell_type": "code",
   "execution_count": null,
   "metadata": {},
   "outputs": [
    {
     "name": "stdout",
     "output_type": "stream",
     "text": [
      "[1, 2, 8]\n",
      "[1, 2, 8]\n"
     ]
    }
   ],
   "source": [
    "# Vamos a hacer una lista, y luego a intentar copiarla de la siguiente manera:\n",
    "lista_a = [1, 2, 3]\n",
    "lista_b = lista_a\n",
    "\n",
    "# Modifico la lista a\n",
    "lista_a[2] = 8\n",
    "\n",
    "# Veamos que las dos listas se modificaron\n",
    "print(lista_a)\n",
    "print(lista_b)"
   ]
  },
  {
   "cell_type": "markdown",
   "metadata": {},
   "source": [
    "Para evitar que esto pase, puedo usar el método `copy()`, que me permite compiar una lsita:"
   ]
  },
  {
   "cell_type": "code",
   "execution_count": null,
   "metadata": {},
   "outputs": [
    {
     "name": "stdout",
     "output_type": "stream",
     "text": [
      "[1, 2, 8]\n",
      "[1, 2, 3]\n"
     ]
    }
   ],
   "source": [
    "lista_a = [1, 2, 3]\n",
    "lista_b = lista_a.copy()  # ahora sí copié mi lista\n",
    "\n",
    "lista_a[2] = 8\n",
    "\n",
    "print(lista_a)\n",
    "print(lista_b)  # Lista b no se modifico"
   ]
  },
  {
   "cell_type": "markdown",
   "metadata": {},
   "source": [
    "#### Las cadenas son inmutables\n",
    "\n",
    "Una string es una cadena de caracteres, es decir, es como una lista de caracteres.\n",
    "\n",
    "Veamos que pasa si usamos la notación de corchetes en una string"
   ]
  },
  {
   "cell_type": "code",
   "execution_count": 4,
   "metadata": {},
   "outputs": [
    {
     "name": "stdout",
     "output_type": "stream",
     "text": [
      "S\n"
     ]
    }
   ],
   "source": [
    "cadena = \"Soy una cadena\"\n",
    "\n",
    "print(cadena[0])"
   ]
  },
  {
   "cell_type": "markdown",
   "metadata": {},
   "source": [
    "Si intentamos modificar un elemento de la cadena obtendremos un error de tipo **TypeError**, indicandonos que no podemos asignar items.\n",
    "\n",
    "Esto es porque las cadenas, a diferencia de las listas, y al igual que los enteros y los flotantes, son inmutables (el método `replace()` crea una nueva cadena, no la modifica)"
   ]
  },
  {
   "cell_type": "code",
   "execution_count": null,
   "metadata": {},
   "outputs": [
    {
     "ename": "TypeError",
     "evalue": "'str' object does not support item assignment",
     "output_type": "error",
     "traceback": [
      "\u001b[1;31m---------------------------------------------------------------------------\u001b[0m",
      "\u001b[1;31mTypeError\u001b[0m                                 Traceback (most recent call last)",
      "Cell \u001b[1;32mIn[5], line 6\u001b[0m\n\u001b[0;32m      3\u001b[0m cadena \u001b[38;5;241m=\u001b[39m \u001b[38;5;124m\"\u001b[39m\u001b[38;5;124mSoy una cadena\u001b[39m\u001b[38;5;124m\"\u001b[39m\n\u001b[0;32m      5\u001b[0m \u001b[38;5;66;03m# Ahora utilice la notación de corchetes para intentar cambiar un elemento\u001b[39;00m\n\u001b[1;32m----> 6\u001b[0m cadena[\u001b[38;5;241m0\u001b[39m] \u001b[38;5;241m=\u001b[39m \u001b[38;5;124m\"\u001b[39m\u001b[38;5;124mA\u001b[39m\u001b[38;5;124m\"\u001b[39m\n",
      "\u001b[1;31mTypeError\u001b[0m: 'str' object does not support item assignment"
     ]
    }
   ],
   "source": [
    "# EJERCICIO\n",
    "\n",
    "cadena = \"Soy una cadena\"\n",
    "\n",
    "# Ahora utilice la notación de corchetes para intentar cambiar un elemento\n",
    "cadena[0] = \"A\"  # Esto da error"
   ]
  },
  {
   "cell_type": "markdown",
   "metadata": {},
   "source": [
    "#### Rebanar Listas (Slices)\n",
    "\n",
    "Con la notación de corchetes también podemos acceder a \"rebanadas\" de la lista de la siguiente forma:\n",
    "\n",
    "`lista[ inicio : fin : salto ]`\n",
    "\n",
    "donde `inicio` y `fin` son índices, y `salto` es opcional y por defecto igual a 1. El elemento del índice `inicio` se incluye en la lista resultante, mientras que el índice `fin` no se incluye en la lista resultante. La lista resultante es un objeto diferente, por lo tanto modificar esta lista no afecta a la lista original"
   ]
  },
  {
   "cell_type": "code",
   "execution_count": null,
   "metadata": {},
   "outputs": [
    {
     "name": "stdout",
     "output_type": "stream",
     "text": [
      "[2, 3]\n",
      "[1, 2, 3, 4]\n",
      "[1, 3, 5]\n"
     ]
    }
   ],
   "source": [
    "lista = [1, 2, 3, 4, 5, 6, 7]\n",
    "\n",
    "print(lista[1:3])  # desde el segundo al tercer elemento\n",
    "print(lista[0:4])  # Desde el primer al cuarto elemento\n",
    "print(lista[0:5:2])  # Desde el primer al quinto elemento, salteando un elemento"
   ]
  },
  {
   "cell_type": "markdown",
   "metadata": {},
   "source": [
    "Vimos que no es necesario dar un valor para `salto`.\n",
    "\n",
    "Ocurre algo similar con los índices de inicio y fin.\n",
    "\n",
    "Dejar vacío el inicio equivale a un 0, mientrsa que dejar vacío el fin equivale a colocar el tamaño de la lista\n",
    "\n",
    "* `lista[:1] == lista[0:1]`\n",
    "* `lista[1:] == lista[1:len(lista)]`\n",
    "\n",
    "También podemos dejar ambos vacíos, realizando una copia de toda la lista:\n",
    "\n",
    "* `lista[:] == lista`\n",
    "\n",
    "Y por último, podemos dejar los dos índices vacíos, pero indicar el `salto`:\n",
    "\n",
    "* `lista[::salto]`"
   ]
  },
  {
   "cell_type": "code",
   "execution_count": 10,
   "metadata": {},
   "outputs": [
    {
     "name": "stdout",
     "output_type": "stream",
     "text": [
      "[2, 3]\n",
      "[1, 2, 3]\n",
      "[4, 5, 6, 7]\n",
      "[2, 4]\n",
      "[1, 3, 5, 7]\n"
     ]
    }
   ],
   "source": [
    "# Ejemplo\n",
    "\n",
    "lista = [1, 2, 3, 4, 5, 6, 7]\n",
    "\n",
    "print(lista[1:3])\n",
    "print(lista[:3])\n",
    "print(lista[3:])\n",
    "print(lista[1:5:2])\n",
    "print(lista[::2])"
   ]
  },
  {
   "cell_type": "markdown",
   "metadata": {},
   "source": [
    "### Verificar si un elemento existe dentro de una lista\n",
    "\n",
    "La palabra clave `in` nos permite verificar si un elemento existe dentro de una lista:"
   ]
  },
  {
   "cell_type": "code",
   "execution_count": null,
   "metadata": {},
   "outputs": [
    {
     "name": "stdout",
     "output_type": "stream",
     "text": [
      "Hay una manzana en tu lista\n"
     ]
    }
   ],
   "source": [
    "frutas = [\"manzana\", \"pera\", \"naranja\", \"banana\"]\n",
    "\n",
    "fruta = \"manzana\"\n",
    "if fruta in frutas:  # verdaderi si existe una manzana en la lista\n",
    "    print(f\"Hay una {fruta} en tu lista\")\n",
    "else:\n",
    "    print(f\"No hay una {fruta}\")"
   ]
  },
  {
   "cell_type": "markdown",
   "metadata": {},
   "source": [
    "### Listas a Strings, y Strings a Listas\n",
    "\n",
    "Existen dos métodos de strings que son útiles para convertir una lista en una string, o separar una string en elementos de una lista"
   ]
  },
  {
   "cell_type": "code",
   "execution_count": null,
   "metadata": {},
   "outputs": [
    {
     "data": {
      "text/plain": [
       "['1', '2', '3', '4']"
      ]
     },
     "execution_count": 3,
     "metadata": {},
     "output_type": "execute_result"
    }
   ],
   "source": [
    "\"1,2,3,4\".split(\",\")  # Obtengo una lista, separando a partir de las comas"
   ]
  },
  {
   "cell_type": "code",
   "execution_count": 6,
   "metadata": {},
   "outputs": [
    {
     "data": {
      "text/plain": [
       "['a', 'b', 'c', 'd']"
      ]
     },
     "execution_count": 6,
     "metadata": {},
     "output_type": "execute_result"
    }
   ],
   "source": [
    "\"a-b-c-d\".split(\"-\")  # Obtengo una lista, separando a partir de los guiones"
   ]
  },
  {
   "cell_type": "code",
   "execution_count": null,
   "metadata": {},
   "outputs": [
    {
     "data": {
      "text/plain": [
       "'tierra-aire-fuego-agua'"
      ]
     },
     "execution_count": 8,
     "metadata": {},
     "output_type": "execute_result"
    }
   ],
   "source": [
    "\"-\".join(\n",
    "    [\"tierra\", \"aire\", \"fuego\", \"agua\"]\n",
    ")  # junto los elementos de la lista colocando un guion en medio"
   ]
  },
  {
   "cell_type": "code",
   "execution_count": null,
   "metadata": {},
   "outputs": [],
   "source": []
  }
 ],
 "metadata": {
  "colab": {
   "provenance": []
  },
  "kernelspec": {
   "display_name": "base",
   "language": "python",
   "name": "python3"
  },
  "language_info": {
   "codemirror_mode": {
    "name": "ipython",
    "version": 3
   },
   "file_extension": ".py",
   "mimetype": "text/x-python",
   "name": "python",
   "nbconvert_exporter": "python",
   "pygments_lexer": "ipython3",
   "version": "3.12.4"
  }
 },
 "nbformat": 4,
 "nbformat_minor": 0
}
