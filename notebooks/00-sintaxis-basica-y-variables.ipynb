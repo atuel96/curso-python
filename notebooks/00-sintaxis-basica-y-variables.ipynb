{
  "cells": [
    {
      "cell_type": "markdown",
      "metadata": {
        "id": "9MliPb-tfDQX"
      },
      "source": [
        "# Python \n",
        "\n",
        "Vamos a trabajar con el formato de _notebooks_ en el cual se puede escribir pequeñas porciones (llamdas _celdas_) de código y ejecutarlas individualmente.\n",
        "\n",
        "Un programa escrito en Python tiene su extensión caracteristica _.py_:\n",
        "\n",
        "```programa_ejemplo.py```\n",
        "\n",
        "Mientras que una notebook utiliza la extensión _.ipynb_:\n",
        "\n",
        "```notebook_ejemplo.ipynb```\n",
        "\n",
        "Para abrir una notebooks podemos usar `Jupyter` (que viene instalado con Anaconda), `Visual Studio Code` (un editor popular que se puede instalar aparte) o a través de servicios online como [Google Colab](https://colab.research.google.com/) (que requieren una cuenta en google)."
      ]
    },
    {
      "cell_type": "markdown",
      "metadata": {
        "id": "dEcUXPW49t_3"
      },
      "source": [
        "## Contenido de este Notebook\n",
        "\n",
        "En este notebook trataremos los siguientes temas:\n",
        "\n",
        "* Sintaxis Básica de Python\n",
        "* Variables y Tipos de Datos\n",
        "* Operadores artiméticos"
      ]
    },
    {
      "cell_type": "markdown",
      "metadata": {
        "id": "_F7dzddD-V_Q"
      },
      "source": [
        "## Ejectuando una celda\n",
        "Abajo se encuentra una celda con la función _print()_, la cual se encarga de mostrar un texto en la salida.\n",
        "\n",
        "Para ejecutar la celda solo hace falta hacer click en el pequeño triangulo que aparece a la izquierda de la celda cuando hacemos click dentro de esta.\n",
        "Otra opción es usar el atajo _\"Ctrl + Shift\"._"
      ]
    },
    {
      "cell_type": "code",
      "execution_count": null,
      "metadata": {
        "colab": {
          "base_uri": "https://localhost:8080/"
        },
        "id": "6vzx5ZR6fJC_",
        "outputId": "88761835-bf42-4458-ad44-ead411ef1f43"
      },
      "outputs": [
        {
          "name": "stdout",
          "output_type": "stream",
          "text": [
            "Hola Mundo\n"
          ]
        }
      ],
      "source": [
        "print(\"Hola Mundo\")"
      ]
    },
    {
      "cell_type": "markdown",
      "metadata": {
        "id": "UdxomNNfAQtK"
      },
      "source": [
        "Luego de ejecutar la celda, se podrá ver a la izquierda un ícono verde de una tilde si la ejecución se produjo sin problemas, y en caso contrario aparecerá un ícono de color rojo para indicarnos que hubo un fallo.\n",
        "\n",
        "Justo debajo de la celda se mostrará el _output_ o salida de la celda ejectuada (el resultado de la ejecución).\n",
        "\n",
        "Cada celda empieza con unos corchetes vacios [ ]. Luego de la primera ejecución aparecerá un número uno [1] para indicar que es la primera celda ejecutada, luego aparecerá un [2], un [3], etc, para recordarnos el orden de ejecución."
      ]
    },
    {
      "cell_type": "markdown",
      "metadata": {
        "id": "UdJ0FLZ7HV_Y"
      },
      "source": [
        "## Comentarios\n",
        "\n",
        "Cuando se utiliza el símbolo \"#\", todo lo que siga a esa linea no será relevante para la ejecución de la celda, y es lo que se conoce como un _comentario_. Los comentarios pueden utilizarse para ir explicando el funcionamiento del programa. De esta forma, logramos dos cosas:  \n",
        "1) nos manejamos mejor dentro del código del programa, sobre todo si volvemos a verlo después de un tiempo y no lo tenemos fresco  \n",
        "2) facilitamos la colaboración con otras personas  \n",
        "Por estas razones, está bueno escribir comentarios descriptivos en nuestros programas."
      ]
    },
    {
      "cell_type": "code",
      "execution_count": null,
      "metadata": {
        "colab": {
          "base_uri": "https://localhost:8080/"
        },
        "id": "qP9tUZKxs2I-",
        "outputId": "1c919c49-ca30-4df4-a420-774dd81f986e"
      },
      "outputs": [
        {
          "name": "stdout",
          "output_type": "stream",
          "text": [
            "Esto no es un comentario\n"
          ]
        }
      ],
      "source": [
        "# Esto es un comentario\n",
        "print(\"Esto no es un comentario\") # Con esta linea imprimimos el texto \"Esto no es un comentario\""
      ]
    },
    {
      "cell_type": "markdown",
      "metadata": {
        "id": "oTLPmoyqseJC"
      },
      "source": [
        "## Operaciones Matemáticas Simples\n",
        "\n",
        "Una buena forma de empezar a usar python es probar hacer simples opraciones aritméticas. Es decir, vamos a usar pyhton como una calculadora sencilla. Mostramos algunos ejemplos y luego verán una tabla mostrando todos los operadores aritméticos en Python\n"
      ]
    },
    {
      "cell_type": "code",
      "execution_count": null,
      "metadata": {
        "colab": {
          "base_uri": "https://localhost:8080/"
        },
        "id": "mvQXVF9OsnCA",
        "outputId": "7b122577-9815-4aea-f72f-4ccf5619f4ee"
      },
      "outputs": [
        {
          "data": {
            "text/plain": [
              "8"
            ]
          },
          "execution_count": 5,
          "metadata": {},
          "output_type": "execute_result"
        }
      ],
      "source": [
        "# suma\n",
        "3 + 5"
      ]
    },
    {
      "cell_type": "code",
      "execution_count": null,
      "metadata": {
        "colab": {
          "base_uri": "https://localhost:8080/"
        },
        "id": "41QW9z4MspDp",
        "outputId": "b30784d8-34c0-4d44-d9d3-5acfb469da96"
      },
      "outputs": [
        {
          "data": {
            "text/plain": [
              "-4"
            ]
          },
          "execution_count": 6,
          "metadata": {},
          "output_type": "execute_result"
        }
      ],
      "source": [
        "# resta\n",
        "8 - 12"
      ]
    },
    {
      "cell_type": "code",
      "execution_count": null,
      "metadata": {
        "colab": {
          "base_uri": "https://localhost:8080/"
        },
        "id": "3ATcyVQTsrnB",
        "outputId": "0f41748e-dc79-458e-d42b-4cc5c48c1fd9"
      },
      "outputs": [
        {
          "data": {
            "text/plain": [
              "60"
            ]
          },
          "execution_count": 8,
          "metadata": {},
          "output_type": "execute_result"
        }
      ],
      "source": [
        "# multiplicación\n",
        "5 * 12"
      ]
    },
    {
      "cell_type": "code",
      "execution_count": null,
      "metadata": {
        "colab": {
          "base_uri": "https://localhost:8080/"
        },
        "id": "CvIK-pQOte0U",
        "outputId": "2f768a7d-2a29-4455-be53-4a31f3e57605"
      },
      "outputs": [
        {
          "data": {
            "text/plain": [
              "3.3333333333333335"
            ]
          },
          "execution_count": 9,
          "metadata": {},
          "output_type": "execute_result"
        }
      ],
      "source": [
        "# División\n",
        "10 / 3"
      ]
    },
    {
      "cell_type": "markdown",
      "metadata": {
        "id": "qML-pwU6tmtD"
      },
      "source": [
        "*** Nota: si notan algo raro en el resultado de la división 10/3, no se preocupen que más adelante explicaremos la razón de este resultado"
      ]
    },
    {
      "cell_type": "code",
      "execution_count": null,
      "metadata": {
        "colab": {
          "base_uri": "https://localhost:8080/"
        },
        "id": "nywGA0I3t0QJ",
        "outputId": "97419b53-1714-4529-bb0b-74855f1880bb"
      },
      "outputs": [
        {
          "data": {
            "text/plain": [
              "25"
            ]
          },
          "execution_count": 10,
          "metadata": {},
          "output_type": "execute_result"
        }
      ],
      "source": [
        "# Exponente\n",
        "5 ** 2 # así escribimos 5 al cuadrado ¡NO USAR 5^2! el operador ^ es válido pero no es el exponente"
      ]
    },
    {
      "cell_type": "markdown",
      "metadata": {
        "id": "XX5jOnwisl_4"
      },
      "source": [
        "Aquí dejamos una lista completa de los operadores aritméticos\n",
        "\n",
        "### Operadores Aritméticos\n",
        "\n",
        "Símbolo | Operación  | Ejemplo\n",
        "--------|------------|--------\n",
        "`+` | Suma | `3 + 5` = 8\n",
        "`-` | Resta | `8 - 5` = 3\n",
        "`*` | Multiplicación | `3 * 4` = 12\n",
        "`/` | División | `5 / 2` = 2.5\n",
        "`**` | Exponente | `5**2` = 25\n",
        "`//` | Parte entera de la división | `7 // 3` = 2\n",
        "`%` | Resto de la división | `7 % 3` = 1"
      ]
    },
    {
      "cell_type": "markdown",
      "metadata": {
        "id": "U8_oAinjvWq1"
      },
      "source": [
        "# Ejercicios\n",
        "\n",
        "Si recién empiezan a programar o son nuevos en python, recomendamos ir haciendo los diferentes ejercicios propuestos a lo largo de estas notebooks.\n",
        "\n",
        "Pueden usar la cenda donde se describe el ejercicio, o si les resulta más cómodo, pueden crear una nueva celda haciendo click en la opción \"**+ Código**\" arriba a la izquerda de la pantalla, o yendo a la opción en el menú: **Insertar -> Célda de código.**"
      ]
    },
    {
      "cell_type": "code",
      "execution_count": null,
      "metadata": {
        "id": "cguwNRLVuMOR"
      },
      "outputs": [],
      "source": [
        "# EJERCICIO 1:\n",
        "\n",
        "# Probar el resto de los operadores\n",
        "# ¿Cuál cree que sería el resultado de 10 // 3?\n",
        "# ¿Y Cual sería el resultado de 10 % 3?\n",
        "# ¿Puede entender la diferencia entre estos operadores y el operador de división?\n"
      ]
    },
    {
      "cell_type": "code",
      "execution_count": null,
      "metadata": {
        "id": "QxKUoDuzu0EL"
      },
      "outputs": [],
      "source": [
        "# EJERCICIO 2:\n",
        "\n",
        "# Pruebe ejecutar la expresión 5^2 para verificar que no es 5 al cuadrado.\n",
        "# ¿Cómo puedo obtener el resultado de 5 al cuadrado?"
      ]
    },
    {
      "cell_type": "markdown",
      "metadata": {
        "id": "-32pJ3LCvOae"
      },
      "source": [
        "## Expresiones más complejas\n",
        "\n",
        "Todo lo que fuimos escribiendo en las celdas anteriores son expresiones. En python una expresión es una combinación de valores, operadores, y llamadas a funciones que se evalúan a un cierto valor. Por ejemplo si se evalúa la expresión `2 + 2` se obtiene el valor 4.\n",
        "\n",
        "Las expresiones que vimos anteriormente son bastante simples, pero pueden empezar a complicarse.\n",
        "\n",
        "Por ejemplo, es claro que `2 + 2` es 4, o que `9 / 3` es 3, pero no es tan fácil saber a simple vista a que valor se evalua la expresion `5 + 5*10/2**2`.\n",
        "\n",
        "Primero debemos tener en cuenta que el orden de los operadores es el mismo que aprendimos en matemáticas el secundario, y segundo, que podemos usar paréntesis para cambiar este orden, o simplemente para organizar de forma más clara una expresión."
      ]
    },
    {
      "cell_type": "markdown",
      "metadata": {
        "id": "p35hN02EJXKX"
      },
      "source": [
        "### Orden de los operadores\n",
        "\n",
        "El orden de las operaciones el el siguiente\n",
        "\n",
        "1. Exponente (**)\n",
        "2. Multiplicación (*), División (/), Parte entera de la división (//), Resto (modulo) (%)\n",
        "3. Suma (+), Resta (-)"
      ]
    },
    {
      "cell_type": "code",
      "execution_count": null,
      "metadata": {
        "colab": {
          "base_uri": "https://localhost:8080/"
        },
        "id": "t7Qu7ELaxvTQ",
        "outputId": "563df768-ea5d-412a-d80e-b35f4952b165"
      },
      "outputs": [
        {
          "data": {
            "text/plain": [
              "17"
            ]
          },
          "execution_count": 1,
          "metadata": {},
          "output_type": "execute_result"
        }
      ],
      "source": [
        "# Suma y Producto. Primero se resuelve el producto y después la suma\n",
        "5 + 3*4"
      ]
    },
    {
      "cell_type": "code",
      "execution_count": null,
      "metadata": {
        "colab": {
          "base_uri": "https://localhost:8080/"
        },
        "id": "QhcNCEjrIsmo",
        "outputId": "5976d68d-4eb4-4500-85fc-4671f44f1b67"
      },
      "outputs": [
        {
          "data": {
            "text/plain": [
              "32"
            ]
          },
          "execution_count": 2,
          "metadata": {},
          "output_type": "execute_result"
        }
      ],
      "source": [
        "# Suma y producto. Usando paréntesis podemos hacer que se resuelva primero la suma y luego el producto\n",
        "(5+3) * 4"
      ]
    },
    {
      "cell_type": "markdown",
      "metadata": {
        "id": "UBruprnjLa19"
      },
      "source": [
        "## Errores ejectuando una celda\n",
        "\n",
        "**No siempre se ejecturará correctamente una celda**. Por ejemplo ¿Qué pasa si intento dividir un número por cero?\n"
      ]
    },
    {
      "cell_type": "code",
      "execution_count": null,
      "metadata": {
        "id": "qHUOdeEeLbUU"
      },
      "outputs": [],
      "source": [
        "# EJERCICIO\n",
        "\n",
        "# Dividir un número por cero y ver que pasa.\n",
        "# Por ejemplo: 5 / 0"
      ]
    },
    {
      "cell_type": "markdown",
      "metadata": {
        "id": "cDXxoS5zLupJ"
      },
      "source": [
        "Intentar dividir un número sobre cero nos devuelve un error. Especificamente el error llamado **ZeroDivisionError**. Al final de la salída de la celda podemos ver el nombre del error junto a una breve descripción del mismo:\n",
        "\n",
        "`ZeroDivisionError: division by zero`\n",
        "\n",
        "Existen multiples tipos de errores con los cuales nos iremos familiarizando a medida que sigamos programando."
      ]
    },
    {
      "cell_type": "markdown",
      "metadata": {},
      "source": [
        "## Variables en Python "
      ]
    },
    {
      "cell_type": "markdown",
      "metadata": {},
      "source": [
        "Una variable es un área de memoria reservada (dirección de memoria) para almacenar un valor. Por ejemplo, queremos almacenar el salario de un empleado. En tal caso, podemos crear una variable y almacenar el salario usándola. Usando ese nombre de variable, podemos leer o modificar el monto del salario.\n",
        "\n",
        "En otras palabras, una variable es un valor que varía según la condición o pase de entrada al programa. Todo en Python se trata como un objeto, por lo que cada variable no es más que un objeto en Python.\n",
        "\n",
        "Una variable puede ser mutable o inmutable. Si el valor de variables puede cambiar, el objeto se llama mutable, mientras que si el valor no puede cambiar, el objeto se llama inmutable."
      ]
    },
    {
      "cell_type": "markdown",
      "metadata": {},
      "source": [
        "## Creando una variable"
      ]
    },
    {
      "cell_type": "markdown",
      "metadata": {},
      "source": [
        "El lenguaje de programación Python se escribe dinámicamente, por lo que no es necesario declarar una variable antes de usarla o declarar el tipo de datos de la variable como en otros lenguajes de programación. La declaración ocurre automáticamente cuando asignamos un valor a la variable."
      ]
    },
    {
      "cell_type": "markdown",
      "metadata": {},
      "source": [
        "##### Creando una variable y asignando un valor\n",
        "\n"
      ]
    },
    {
      "cell_type": "markdown",
      "metadata": {},
      "source": [
        "Podemos asignar un valor a la variable en el momento en que se crea la variable. Podemos usar el operador de asignación = para asignar un valor a una variable.\n",
        "\n",
        "El operando, que está en el lado izquierdo del operador de asignación, es un nombre de variable. Y el operando, que es el que está del lado derecho del operador de asignación, es el valor de la variable.\n",
        "\n",
        "variable_nombre = variable_valor"
      ]
    },
    {
      "cell_type": "code",
      "execution_count": 1,
      "metadata": {},
      "outputs": [
        {
          "name": "stdout",
          "output_type": "stream",
          "text": [
            "Juan\n",
            "25\n",
            "258000.6\n"
          ]
        }
      ],
      "source": [
        "nombre = \"Juan\"  # asignacion a cadena o string\n",
        "edad = 25  # asignacion a entero\n",
        "salario = 258000.60  # asignacion a flotante\n",
        "\n",
        "print(nombre)  # Juan\n",
        "print(edad)  # 25\n",
        "print(salario)  # 258000.6"
      ]
    },
    {
      "cell_type": "markdown",
      "metadata": {},
      "source": [
        "## Cambiando el valor de una variable"
      ]
    },
    {
      "cell_type": "markdown",
      "metadata": {},
      "source": [
        "Muchos lenguajes de programación son lenguajes tipo estáticos donde la variable se declara inicialmente con un tipo específico, y durante su vida útil, siempre debe tener ese tipo.\n",
        "\n",
        "Pero en Python, las variables se escriben dinámicamente y no están sujetas a la restricción de tipo de datos. Una variable puede asignarse a un valor de un tipo, y luego, también podemos reasignar un valor de un tipo diferente. "
      ]
    },
    {
      "cell_type": "code",
      "execution_count": 2,
      "metadata": {},
      "outputs": [
        {
          "name": "stdout",
          "output_type": "stream",
          "text": [
            "10\n",
            "<class 'int'>\n",
            "55\n",
            "Ahora soy string\n",
            "<class 'str'>\n",
            "35.69\n",
            "<class 'float'>\n"
          ]
        }
      ],
      "source": [
        "var = 10\n",
        "print(var)  # 10\n",
        "# printear su tipo\n",
        "print(type(var))  # <class 'int'>\n",
        "\n",
        "# asignar un valor entero diferente a la variable\n",
        "var = 55\n",
        "print(var)  # 55\n",
        "\n",
        "# cambiar var a string\n",
        "var = \"Ahora soy string\"\n",
        "print(var)  # Ahora soy string\n",
        "# printear su tipo\n",
        "print(type(var))  # <class 'str'>\n",
        "\n",
        "# cambiar var a flotante\n",
        "var = 35.69\n",
        "print(var)  # 35.69\n",
        "# printear su tipo\n",
        "print(type(var))  # <class 'float'>"
      ]
    },
    {
      "cell_type": "markdown",
      "metadata": {},
      "source": [
        "## Tipos de Datos"
      ]
    },
    {
      "cell_type": "markdown",
      "metadata": {},
      "source": [
        "Podemos crear diferentes tipos de variables según nuestra necesidad."
      ]
    },
    {
      "cell_type": "markdown",
      "metadata": {},
      "source": [
        "### Números"
      ]
    },
    {
      "cell_type": "markdown",
      "metadata": {},
      "source": [
        "Un número es un tipo de datos para almacenar valores numéricos. El objeto para el número se creará cuando asignemos un valor a la variable. En Python3, podemos usar los siguientes tres tipos de datos para almacenar valores numéricos.\n",
        "\n",
        "1. Int\n",
        "2. float\n",
        "3. complex"
      ]
    },
    {
      "cell_type": "markdown",
      "metadata": {},
      "source": [
        "### Variable entero(integer)"
      ]
    },
    {
      "cell_type": "markdown",
      "metadata": {},
      "source": [
        "El int es un tipo de datos que devuelve valores de tipo entero; también se denominan ints o integers. El valor entero puede ser positivo o negativo sin un punto decimal."
      ]
    },
    {
      "cell_type": "code",
      "execution_count": 3,
      "metadata": {},
      "outputs": [
        {
          "name": "stdout",
          "output_type": "stream",
          "text": [
            "24\n",
            "<class 'int'>\n"
          ]
        }
      ],
      "source": [
        "# crear una variable integer\n",
        "edad = 24\n",
        "print(edad)  # 24\n",
        "print(type(edad))  # <class 'int'>"
      ]
    },
    {
      "cell_type": "markdown",
      "metadata": {},
      "source": [
        "### Variable float"
      ]
    },
    {
      "cell_type": "markdown",
      "metadata": {},
      "source": [
        "Los floats son los valores con el punto decimal que divide el número entero y las partes fraccionarias del número.  Utilice el tipo de datos float para almacenar valores decimales."
      ]
    },
    {
      "cell_type": "code",
      "execution_count": 4,
      "metadata": {},
      "outputs": [
        {
          "name": "stdout",
          "output_type": "stream",
          "text": [
            "100800.55\n",
            "<class 'float'>\n"
          ]
        }
      ],
      "source": [
        "# crear una variable float\n",
        "salario = 100800.55\n",
        "print(salario)  # 100800.55\n",
        "print(type(salario))  # <class 'float'>"
      ]
    },
    {
      "cell_type": "markdown",
      "metadata": {},
      "source": [
        "### Tipo variable Complex"
      ]
    },
    {
      "cell_type": "markdown",
      "metadata": {},
      "source": [
        "El complex son los números que vienen con la parte real e imaginaria. Un número complejo tiene la forma de a+bj, donde a y b contienen enteros o valores de punto flotante."
      ]
    },
    {
      "cell_type": "code",
      "execution_count": 5,
      "metadata": {},
      "outputs": [
        {
          "name": "stdout",
          "output_type": "stream",
          "text": [
            "(9+5j)\n",
            "<class 'complex'>\n"
          ]
        }
      ],
      "source": [
        "a = 9 + 5j\n",
        "print(a)  # (9+5j)\n",
        "print(type(a))  # <class 'complex'>"
      ]
    },
    {
      "cell_type": "markdown",
      "metadata": {},
      "source": [
        "### Cadenas o Strings"
      ]
    },
    {
      "cell_type": "markdown",
      "metadata": {},
      "source": [
        "En Python, una cadena es un conjunto de caracteres representados entre comillas. Python nos permite definir una cadena en cualquier par de comillas simples (`'`) o dobles (`\"`). Por ejemplo, para almacenar el nombre de una persona podemos usar un tipo de cadena."
      ]
    },
    {
      "cell_type": "code",
      "execution_count": 8,
      "metadata": {},
      "outputs": [
        {
          "name": "stdout",
          "output_type": "stream",
          "text": [
            "Dato Científico\n",
            "<class 'str'>\n"
          ]
        }
      ],
      "source": [
        "# crear una variable del tipo string\n",
        "cadena = 'Dato Científico'\n",
        "# printear el string completo\n",
        "print(cadena)  # Dato Científico\n",
        "print(type(cadena))"
      ]
    },
    {
      "cell_type": "markdown",
      "metadata": {},
      "source": [
        "Podemos acceder a uno de los caracteres de la cadena usando corchetes `[<indice>]` y pansando la posición (o el índice) del caracter al que queremos acceder.\n",
        "Un detalle importante es que en python se empieza a contar desde el 0."
      ]
    },
    {
      "cell_type": "code",
      "execution_count": 9,
      "metadata": {},
      "outputs": [
        {
          "name": "stdout",
          "output_type": "stream",
          "text": [
            "D\n",
            "a\n",
            "C\n"
          ]
        }
      ],
      "source": [
        "# crear una variable del tipo string\n",
        "cadena = 'Dato Científico'\n",
        "\n",
        "print(cadena[0])  # Primer caracter: 'D'\n",
        "print(cadena[1])  # Segundo caracter: 'a'\n",
        "print(cadena[5])  # Cuarto caracter: 'C'\n"
      ]
    },
    {
      "cell_type": "markdown",
      "metadata": {},
      "source": [
        "Para recuperar un trozo de cadena de una cadena dada, podemos usar los corchetes  `[<inicio>:<fin>]`. El corte nos proporciona una porción de la cadena original empezando con el caracter en la posición `<inicio>` hasta el caracter anterior a la posición de  `<fin>`. Veamos un ejemplo"
      ]
    },
    {
      "cell_type": "code",
      "execution_count": 18,
      "metadata": {},
      "outputs": [
        {
          "name": "stdout",
          "output_type": "stream",
          "text": [
            "to\n",
            "Cien\n",
            "Dato\n",
            "Científico\n",
            "Dato Científico\n"
          ]
        }
      ],
      "source": [
        "cadena = 'Dato Científico'\n",
        "\n",
        "# printear caracteres comenzando desde la posición 2 a la 5\n",
        "print(cadena[2:4])  # to \n",
        "print(cadena[5:9])  # Cien\n",
        "\n",
        "# Si no damos la primera posición entonces empieza desde el inicio\n",
        "print(cadena[:4])  # Dato \n",
        "\n",
        "# Si no damos la última posición entonces para el final\n",
        "print(cadena[5:])  # Científico\n",
        "\n",
        "# Esto es lo mismo que no usar corchetes\n",
        "print(cadena[:])  # Dato Científico\n"
      ]
    },
    {
      "cell_type": "markdown",
      "metadata": {},
      "source": [
        "Para saber la longitud de la cadena (el número de caracteres) podemos usar la función `len()`. \n",
        "Para concatenar la cadena, podemos usar el operador addition(+)."
      ]
    },
    {
      "cell_type": "code",
      "execution_count": 11,
      "metadata": {},
      "outputs": [
        {
          "name": "stdout",
          "output_type": "stream",
          "text": [
            "15\n",
            "Dato Científico muy relevante\n",
            "Dato Científico\n"
          ]
        }
      ],
      "source": [
        "cadena = \"Dato Científico\"\n",
        "\n",
        "# longitud de la cadena\n",
        "print(len(cadena))  # 15\n",
        "\n",
        "# concatenar cadenas con +\n",
        "print(cadena + \" muy relevante\")  # Dato Científico muy relevante\n",
        "\n",
        "print(cadena) # Sumar \" muy relevante\" no modificó la cadena original"
      ]
    },
    {
      "cell_type": "markdown",
      "metadata": {},
      "source": [
        "## Otros tipos de datos\n",
        "\n",
        "Existen otros tipos de dato que seran de mayor importancia a medida que avancemos"
      ]
    },
    {
      "cell_type": "markdown",
      "metadata": {},
      "source": [
        "### Booleanos\n",
        "\n",
        "Los booleanos pueden represantar solamente dos estados:\n",
        "\n",
        "* `True` : Verdadero\n",
        "* `False`: Falso"
      ]
    },
    {
      "cell_type": "code",
      "execution_count": 1,
      "metadata": {},
      "outputs": [
        {
          "name": "stdout",
          "output_type": "stream",
          "text": [
            "True\n",
            "<class 'bool'>\n"
          ]
        }
      ],
      "source": [
        "verdadero = True\n",
        "print(verdadero)\n",
        "print(type(verdadero))"
      ]
    },
    {
      "cell_type": "code",
      "execution_count": 2,
      "metadata": {},
      "outputs": [
        {
          "name": "stdout",
          "output_type": "stream",
          "text": [
            "False\n",
            "<class 'bool'>\n"
          ]
        }
      ],
      "source": [
        "falso = False\n",
        "print(falso)\n",
        "print(type(falso))"
      ]
    },
    {
      "cell_type": "markdown",
      "metadata": {},
      "source": [
        "### None\n",
        "Un tipo de dato que representa la ausencia de otro dato es `None`"
      ]
    },
    {
      "cell_type": "code",
      "execution_count": 3,
      "metadata": {},
      "outputs": [
        {
          "name": "stdout",
          "output_type": "stream",
          "text": [
            "None\n",
            "<class 'NoneType'>\n"
          ]
        }
      ],
      "source": [
        "aqui_no_hay_nada = None\n",
        "print(aqui_no_hay_nada)\n",
        "print(type(aqui_no_hay_nada))"
      ]
    },
    {
      "cell_type": "markdown",
      "metadata": {},
      "source": [
        "## Cambiar un tipo de dato a otro\n",
        "\n",
        "Existen funciones que nos permiten pasar de un tipo de dato a otro\n",
        "\n",
        "`float(), str(), int(), bool()`"
      ]
    },
    {
      "cell_type": "code",
      "execution_count": 2,
      "metadata": {},
      "outputs": [
        {
          "name": "stdout",
          "output_type": "stream",
          "text": [
            "5\n",
            "True\n",
            "True\n",
            "False\n"
          ]
        }
      ],
      "source": [
        "print(int(5.9)) # al convertir un flotante en entero perdemos la parte decimal\n",
        "print(bool(1)) # Transformar un numero distinto de cero en booleano devuelve False\n",
        "print(bool(42))\n",
        "print(bool(0)) # Transformar un 0 en booleano devuelve False"
      ]
    },
    {
      "cell_type": "markdown",
      "metadata": {},
      "source": [
        "## Algunas Operaciones sobre las Cadenas\n",
        "\n",
        "Operaciones como la suma y la multiplicación tienen sentido en los números, pero algunas veces podemos aplicarlas sobre cadenas (o cadenas y números). Veamos ejemplos"
      ]
    },
    {
      "cell_type": "code",
      "execution_count": 8,
      "metadata": {},
      "outputs": [
        {
          "name": "stdout",
          "output_type": "stream",
          "text": [
            "Hola como estás\n"
          ]
        }
      ],
      "source": [
        "print(\"Hola como estás\")"
      ]
    },
    {
      "cell_type": "code",
      "execution_count": 9,
      "metadata": {},
      "outputs": [
        {
          "name": "stdout",
          "output_type": "stream",
          "text": [
            "EyHola\n"
          ]
        }
      ],
      "source": [
        "print(\"Ey\" + \"Hola\")"
      ]
    },
    {
      "cell_type": "code",
      "execution_count": 10,
      "metadata": {},
      "outputs": [
        {
          "name": "stdout",
          "output_type": "stream",
          "text": [
            "Ey Hola\n"
          ]
        }
      ],
      "source": [
        "print(\"Ey\"+ \" \"+ \"Hola\")"
      ]
    },
    {
      "cell_type": "code",
      "execution_count": 11,
      "metadata": {},
      "outputs": [
        {
          "name": "stdout",
          "output_type": "stream",
          "text": [
            "JAJAJA\n"
          ]
        }
      ],
      "source": [
        "print(\"JA\" * 3)  # printea varias veces la cadena"
      ]
    },
    {
      "cell_type": "markdown",
      "metadata": {},
      "source": [
        "#### Nota: Imprimir varias cosas en una linea"
      ]
    },
    {
      "cell_type": "code",
      "execution_count": 13,
      "metadata": {},
      "outputs": [
        {
          "name": "stdout",
          "output_type": "stream",
          "text": [
            "Al multiplicar, 6 es el resultado\n"
          ]
        }
      ],
      "source": [
        "print(\"Al multiplicar,\", 2 * 3 , \"es el resultado\") # printeo varias cadenas con números"
      ]
    },
    {
      "cell_type": "markdown",
      "metadata": {},
      "source": [
        "#### Cadenas con múltiples líneas"
      ]
    },
    {
      "cell_type": "code",
      "execution_count": 15,
      "metadata": {},
      "outputs": [
        {
          "name": "stdout",
          "output_type": "stream",
          "text": [
            "Para obtener la lista de todas las palabras clave de Python, puede usar kwlist de la biblioteca de palabras clave. \n",
            "A continuación se muestra el fragmento de código rápido para obtener la lista de todas las palabras clave. \n",
            "kwlist devuelve una secuencia que contiene todas las palabras clave definidas para el intérprete.\n"
          ]
        }
      ],
      "source": [
        "print('''Para obtener la lista de todas las palabras clave de Python, puede usar kwlist de la biblioteca de palabras clave. \n",
        "A continuación se muestra el fragmento de código rápido para obtener la lista de todas las palabras clave. \n",
        "kwlist devuelve una secuencia que contiene todas las palabras clave definidas para el intérprete.''')"
      ]
    },
    {
      "cell_type": "markdown",
      "metadata": {},
      "source": [
        "### Printear con espacio , \\n , \\t"
      ]
    },
    {
      "cell_type": "code",
      "execution_count": 17,
      "metadata": {},
      "outputs": [
        {
          "name": "stdout",
          "output_type": "stream",
          "text": [
            " Ey ¿Cómo estás?\n"
          ]
        }
      ],
      "source": [
        "print(\" Ey ¿Cómo estás?\")"
      ]
    },
    {
      "cell_type": "code",
      "execution_count": 7,
      "metadata": {},
      "outputs": [
        {
          "name": "stdout",
          "output_type": "stream",
          "text": [
            " Ey \n",
            "¿Cómo estás?\n"
          ]
        }
      ],
      "source": [
        "print( \" Ey \\n¿Cómo estás?\") # \\n se usa para crear una linea nueva"
      ]
    },
    {
      "cell_type": "code",
      "execution_count": 6,
      "metadata": {},
      "outputs": [
        {
          "name": "stdout",
          "output_type": "stream",
          "text": [
            "Ey\tEyyyyyyyy\n"
          ]
        }
      ],
      "source": [
        "print(\"Ey\\tEyyyyyyyy\") # \\t es una tabulación (pensarlo como un espacio largo)"
      ]
    },
    {
      "cell_type": "code",
      "execution_count": 21,
      "metadata": {},
      "outputs": [
        {
          "ename": "SyntaxError",
          "evalue": "unterminated string literal (detected at line 1) (3128216876.py, line 1)",
          "output_type": "error",
          "traceback": [
            "\u001b[1;36m  Cell \u001b[1;32mIn[21], line 1\u001b[1;36m\u001b[0m\n\u001b[1;33m    print(\"Soy \"simpático\")\u001b[0m\n\u001b[1;37m                         ^\u001b[0m\n\u001b[1;31mSyntaxError\u001b[0m\u001b[1;31m:\u001b[0m unterminated string literal (detected at line 1)\n"
          ]
        }
      ],
      "source": [
        "print(\"Soy \"simpático\")"
      ]
    },
    {
      "cell_type": "code",
      "execution_count": 22,
      "metadata": {},
      "outputs": [
        {
          "name": "stdout",
          "output_type": "stream",
          "text": [
            "Soy \"simpático\"\n"
          ]
        }
      ],
      "source": [
        "print(\"Soy \\\"simpático\\\"\")"
      ]
    },
    {
      "cell_type": "code",
      "execution_count": 23,
      "metadata": {},
      "outputs": [
        {
          "name": "stdout",
          "output_type": "stream",
          "text": [
            "\"Ey\", dijo él\n"
          ]
        }
      ],
      "source": [
        "print(\"\\\"Ey\\\", dijo él\") "
      ]
    },
    {
      "cell_type": "markdown",
      "metadata": {},
      "source": [
        "### Imprimir Emojis\n",
        "\n",
        "Existen más caracteres además de los que podemos usar con nuestro teclado. (Unicode)[https://en.wikipedia.org/wiki/Unicode] es el estandar de codificación actual que permite la representación de caracteres en multiples idiomas y que incluye también a los emojis.\n",
        "\n",
        "Para imprimir un emoji podemos buscar su unicode, encontraremos algo de este estilo:\n",
        "\n",
        "\tU+1F601\n",
        "    U+1F602\n",
        "    U+1F603\n",
        "\n",
        "Luego usamos una barra `\\` y cambiamos el `+` por ceros (hasta tener 8 digitos después de la `U`)."
      ]
    },
    {
      "cell_type": "code",
      "execution_count": 6,
      "metadata": {},
      "outputs": [
        {
          "name": "stdout",
          "output_type": "stream",
          "text": [
            "😁\n",
            "😂\n",
            "😃\n",
            "ツ\n",
            "બ\n"
          ]
        }
      ],
      "source": [
        "# Emojis\n",
        "print(\"\\U0001F601\")\n",
        "print(\"\\U0001F602\")\n",
        "print(\"\\U0001F603\")\n",
        "\n",
        "# Otros ejemplos\n",
        "print(\"\\U000030c4\") \n",
        "print(\"\\U00000aac\") "
      ]
    },
    {
      "cell_type": "markdown",
      "metadata": {},
      "source": [
        "Tambien se puede acceder de la siguiente forma si conocemos el nombre."
      ]
    },
    {
      "cell_type": "code",
      "execution_count": 7,
      "metadata": {},
      "outputs": [
        {
          "name": "stdout",
          "output_type": "stream",
          "text": [
            "🤗\n",
            "😀\n"
          ]
        }
      ],
      "source": [
        "print(\"\\N{hugging face}\")\n",
        "print(\"\\N{grinning face}\")"
      ]
    },
    {
      "cell_type": "markdown",
      "metadata": {},
      "source": [
        "### Variables sensibles a las mayúsculas o minúsculas"
      ]
    },
    {
      "cell_type": "markdown",
      "metadata": {},
      "source": [
        "Python es un lenguaje sensible a mayúsculas o minúsculas. Si definimos una variable con los siguientes nombres, a = 100 y A =200 entonces, Python diferencia entre a y A. Estas variables se tratan como dos variables diferentes (u objetos)."
      ]
    },
    {
      "cell_type": "code",
      "execution_count": 34,
      "metadata": {},
      "outputs": [
        {
          "name": "stdout",
          "output_type": "stream",
          "text": [
            "100\n",
            "200\n",
            "300\n"
          ]
        }
      ],
      "source": [
        "a = 100\n",
        "A = 200\n",
        "\n",
        "# valor de a\n",
        "print(a)  # 100\n",
        "# Valor de A\n",
        "print(A)  # 200\n",
        "\n",
        "a = a + A\n",
        "print(a)  # 300"
      ]
    },
    {
      "cell_type": "markdown",
      "metadata": {},
      "source": [
        "### Constantes"
      ]
    },
    {
      "cell_type": "markdown",
      "metadata": {},
      "source": [
        "Constante es una variable o valor que no cambia, lo que significa que sigue siendo el mismo y no se puede modificar. Pero en el caso de Python, el concepto constante no es aplicable. Por convención, solo podemos usar caracteres en mayúsculas para definir la variable constante si no queremos cambiarla."
      ]
    },
    {
      "cell_type": "code",
      "execution_count": 35,
      "metadata": {},
      "outputs": [],
      "source": [
        "MIN_VALOR = 500\n",
        "# Es solo una convención, pero podemos cambiar el valor de MIN_VALOR."
      ]
    },
    {
      "cell_type": "markdown",
      "metadata": {},
      "source": [
        "### Reglas y Convenciones de nombres para variables y constantes"
      ]
    },
    {
      "cell_type": "markdown",
      "metadata": {},
      "source": [
        " Un nombre en un programa Python se llama identificador. Un identificador puede ser un nombre de variable, nombre de clase, nombre de función y nombre de módulo.\n",
        "\n",
        "Hay algunas reglas para definir variables en Python.\n",
        "\n",
        "En Python, hay algunas convenciones y reglas para definir variables y constantes que se deben seguir.\n",
        "\n",
        "* Regla 1: El nombre de la variable y constante debe tener una combinación de letras, dígitos y guión bajo.\n",
        "\n",
        "Alfabeto/letras, es decir, minúsculas (a a z) o mayúsculas (A a Z)\n",
        "Dígitos(0 a 9)\n",
        "Guión bajo (_)\n",
        "\n",
        "Por ejemplo:\n",
        "* suma_total\n",
        "* SUMA_TOTAL\n",
        "* Sumatotal\n",
        "* SumaTotal"
      ]
    },
    {
      "cell_type": "markdown",
      "metadata": {},
      "source": [
        " * Regla 2: El nombre de la variable y el nombre  de la constante deben tener sentido.\n",
        "\n",
        "Nota: siempre debemos crear un nombre de variable significativo para que sea fácil de entender. Es decir, debería ser significativo.\n",
        "\n",
        "Por ejemplo:\n",
        "x = \"Juan\"  \n",
        "Nombre_Estudiante = \"Juan\"\n",
        "\n",
        "Vemos que la variable x del ejemplo no tiene mucho sentido, pero Nombre_Estudiante es una variable significativa.\n"
      ]
    },
    {
      "cell_type": "markdown",
      "metadata": {},
      "source": [
        "* Regla 3: No usar símbolos especiales en un nombre de variable\n",
        "\n",
        "¡Para declarar variable y constante, no podemos usar símbolos especiales como $, #, @, %, !~, etc. Si intentamos declarar nombres con un símbolo especial, Python genera un error\n",
        "\n",
        "Ejemplo\n",
        "* Dinero$ = 1000\n"
      ]
    },
    {
      "cell_type": "markdown",
      "metadata": {},
      "source": [
        "* Regla 4: Una Variable o constante no debe comenzar con dígitos.\n",
        "\n",
        "Recibirá un error si inicia un nombre de variable con un dígito. Verifiquemos esto usando un ejemplo simple.\n",
        "\n",
        "* 1estudiante = \"Juan\"\n",
        "* print(1estudiante)\n",
        "* Aquí Python generará un error de sintaxis en 1estudiante. En lugar de esto, puede declarar una variable como Estudiante_1 = \"Juan\""
      ]
    },
    {
      "cell_type": "markdown",
      "metadata": {},
      "source": [
        "* Regla 5: Identificadores son sensibles a mayúsculas y minúsculas.\n",
        "\n"
      ]
    },
    {
      "cell_type": "code",
      "execution_count": 36,
      "metadata": {},
      "outputs": [
        {
          "name": "stdout",
          "output_type": "stream",
          "text": [
            "120\n",
            "130\n",
            "150\n"
          ]
        }
      ],
      "source": [
        "total = 120\n",
        "Total = 130\n",
        "TOTAL = 150\n",
        "print(total)\n",
        "print(Total)\n",
        "print(TOTAL)\n"
      ]
    },
    {
      "cell_type": "markdown",
      "metadata": {},
      "source": [
        "* Convención 1:Al declarar constantes debe usar letras mayúsculas.\n",
        "\n"
      ]
    },
    {
      "cell_type": "code",
      "execution_count": 37,
      "metadata": {},
      "outputs": [],
      "source": [
        "MIN_VALOR = 100\n",
        "MAX_VALOR = 1000"
      ]
    },
    {
      "cell_type": "markdown",
      "metadata": {},
      "source": [
        " Use un símbolo de guión bajo para separar las palabras en un nombre de variable ([ver Snake case](https://es.wikipedia.org/wiki/Snake_case))\n",
        "\n",
        "Si queremos declarar nombres variables y constantes que tengan dos palabras, use un símbolo de guión bajo para separar las palabras."
      ]
    },
    {
      "cell_type": "code",
      "execution_count": 38,
      "metadata": {},
      "outputs": [],
      "source": [
        "temperatura_actual = 24"
      ]
    },
    {
      "cell_type": "markdown",
      "metadata": {},
      "source": [
        "* NOTA: no separar los espacios usando mayúsuculas. Esto se conoce como [Camel Case](https://es.wikipedia.org/wiki/Camel_case) y es utilizado en otros lenguajes."
      ]
    },
    {
      "cell_type": "code",
      "execution_count": 4,
      "metadata": {},
      "outputs": [],
      "source": [
        "mi_variable = \"hola\" # Esto esta bien\n",
        "\n",
        "miVariable = \"chau\" # Esto funciona pero no se hace por convención"
      ]
    },
    {
      "cell_type": "markdown",
      "metadata": {},
      "source": [
        "### Asignando multiples valores a multiples variables\n"
      ]
    },
    {
      "cell_type": "code",
      "execution_count": 39,
      "metadata": {},
      "outputs": [
        {
          "name": "stdout",
          "output_type": "stream",
          "text": [
            "10 7 Juan\n"
          ]
        }
      ],
      "source": [
        "vuelta_no, posicion, nombre = 10, 7, \"Juan\"\n",
        "print(vuelta_no, posicion, nombre) # 10 7 Juan"
      ]
    },
    {
      "cell_type": "markdown",
      "metadata": {},
      "source": [
        "## Variables y Palabras Reservadas ¡CUIDADO CON ESTO!\n",
        "\n",
        "Python tiene palabras reservadas que no pueden ser utilizadas para crear una variable nueva. Estas son:\n",
        "\n",
        "``` python\n",
        "False\tdef\tif\traise\n",
        "None\tdel\timport\treturn\n",
        "True\telif\tin\ttry\n",
        "and\telse\tis\twhile\n",
        "as\texcept\tlambda\twith\n",
        "assert\tfinally\tnonlocal\t\n",
        "break\tfor\tnot\tyield\n",
        "class\tfrom\tor\t\n",
        "continue\tglobal\tpass\n",
        "```\n",
        "El problema es que también existen nombres de funciones u objetos (como `print`, `str`, `int`) que podemos reemplazar sin darnos cuenta y perder la función original. Veamos el siguiente ejemplo:\n",
        "\n",
        "``` python\n",
        "print(\"hola mundo\") # Esto funciona normalmente\n",
        "\n",
        "# pero ahora creo una variable llamada print\n",
        "print = 42\n",
        "\n",
        "print(\"hola mundo\") # Esto ya no funciona, y perdí el print para siempre!\n",
        "# O hasta que reinicie el kernel (el interprete de python)\n",
        "```"
      ]
    },
    {
      "cell_type": "markdown",
      "metadata": {},
      "source": [
        "### Resumen rápido a tener en cuenta:"
      ]
    },
    {
      "cell_type": "markdown",
      "metadata": {},
      "source": [
        "Lista de verificación mientras se dan nombres de variables\n",
        " - Valores permitidos -> alfabetos, números y guiones bajos (_).\n",
        " un nombre de variable debe comenzar con el alfabeto o el guion bajo. No puede comenzar con un número.\n",
        " - Los nombres de variables son sensibles a las mayúsculas o minúsculas."
      ]
    },
    {
      "cell_type": "code",
      "execution_count": null,
      "metadata": {},
      "outputs": [],
      "source": []
    }
  ],
  "metadata": {
    "colab": {
      "provenance": []
    },
    "kernelspec": {
      "display_name": "base",
      "language": "python",
      "name": "python3"
    },
    "language_info": {
      "codemirror_mode": {
        "name": "ipython",
        "version": 3
      },
      "file_extension": ".py",
      "mimetype": "text/x-python",
      "name": "python",
      "nbconvert_exporter": "python",
      "pygments_lexer": "ipython3",
      "version": "3.12.4"
    }
  },
  "nbformat": 4,
  "nbformat_minor": 0
}
