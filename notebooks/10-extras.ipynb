{
 "cells": [
  {
   "cell_type": "markdown",
   "id": "3cfe6ce7",
   "metadata": {},
   "source": [
    "# Extras\n",
    "\n",
    "Aqui vemos algunos conceptos o herramientas útiles que no se mencionaron en las anteriores notebooks."
   ]
  },
  {
   "cell_type": "markdown",
   "id": "945448c2",
   "metadata": {},
   "source": [
    "## List Comprehensions\n",
    "\n",
    "En lugar de crear una lista vacía y luego usar un bucle for para ir llenandola, podemos ahorrarnos un poco de trabajo de la siguiente forma:"
   ]
  },
  {
   "cell_type": "code",
   "execution_count": 1,
   "id": "26c0a5b8",
   "metadata": {},
   "outputs": [
    {
     "name": "stdout",
     "output_type": "stream",
     "text": [
      "[0, 1, 4, 9, 16, 25, 36, 49, 64, 81]\n",
      "[0, 2, 4, 6, 8]\n"
     ]
    }
   ],
   "source": [
    "# Crear una lista con los cuadrados de los números del 0 al 9\n",
    "cuadrados = [x**2 for x in range(10)]\n",
    "print(cuadrados)  # Output: [0, 1, 4, 9, 16, 25, 36, 49, 64, 81]\n",
    "\n",
    "# Filtrar solo los números pares\n",
    "pares = [x for x in range(10) if x % 2 == 0]\n",
    "print(pares)  # Output: [0, 2, 4, 6, 8]"
   ]
  },
  {
   "cell_type": "markdown",
   "id": "486bbc1b",
   "metadata": {},
   "source": [
    "## Dict Comprehensions\n",
    "\n",
    "Similar a las listas, pero creamos un diccionario"
   ]
  },
  {
   "cell_type": "code",
   "execution_count": null,
   "id": "7f7293ca",
   "metadata": {},
   "outputs": [
    {
     "name": "stdout",
     "output_type": "stream",
     "text": [
      "{0: 0, 1: 1, 2: 4, 3: 9, 4: 16, 5: 25, 6: 36, 7: 49, 8: 64, 9: 81}\n",
      "{0: 'par', 1: 'impar', 2: 'par', 3: 'impar', 4: 'par', 5: 'impar', 6: 'par', 7: 'impar', 8: 'par', 9: 'impar'}\n"
     ]
    }
   ],
   "source": [
    "# Crear un diccionario con números y sus cuadrados\n",
    "cuadrados_dict = {x: x**2 for x in range(10)}\n",
    "print(cuadrados_dict)\n",
    "# Output: {0: 0, 1: 1, 2: 4, 3: 9, 4: 16, 5: 25, 6: 36, 7: 49, 8: 64, 9: 81}\n",
    "\n",
    "# Diccionario con números y su paridad\n",
    "paridad = {x: \"par\" if x % 2 == 0 else \"impar\" for x in range(10)}\n",
    "print(paridad)\n",
    "# Output: {0: 'par', 1: 'impar', 2: 'par', 3: 'impar', 4: 'par', 5: 'impar', 6: 'par', 7: 'impar', 8: 'par', 9: 'impar'}"
   ]
  },
  {
   "cell_type": "markdown",
   "id": "67d48c29",
   "metadata": {},
   "source": [
    "## Bucle for con más de una lista (zip)\n",
    "\n",
    "A veces quiero recorrer más de una lista a la vez en un bucle for. En estos casos puedo usar la función `zip()`."
   ]
  },
  {
   "cell_type": "code",
   "execution_count": 4,
   "id": "80abeec4",
   "metadata": {},
   "outputs": [
    {
     "name": "stdout",
     "output_type": "stream",
     "text": [
      "Ana tiene 25 años.\n",
      "Luis tiene 30 años.\n",
      "Carlos tiene 22 años.\n"
     ]
    }
   ],
   "source": [
    "nombres = [\"Ana\", \"Luis\", \"Carlos\"]\n",
    "edades = [25, 30, 22]\n",
    "\n",
    "# Iteramos sobre ambas listas en paralelo\n",
    "for nombre, edad in zip(nombres, edades):\n",
    "    print(f\"{nombre} tiene {edad} años.\")"
   ]
  },
  {
   "cell_type": "code",
   "execution_count": null,
   "id": "eca87354",
   "metadata": {},
   "outputs": [
    {
     "name": "stdout",
     "output_type": "stream",
     "text": [
      "Laptop: $1200, Stock: 5 unidades.\n",
      "Móvil: $800, Stock: 10 unidades.\n",
      "Tablet: $500, Stock: 7 unidades.\n"
     ]
    }
   ],
   "source": [
    "productos = [\"Laptop\", \"Móvil\", \"Tablet\"]\n",
    "precios = [1200, 800, 500]\n",
    "stock = [5, 10, 7]\n",
    "\n",
    "# Iteramos sobre tres listas simultáneamente\n",
    "for producto, precio, unidades in zip(productos, precios, stock):\n",
    "    print(f\"{producto}: ${precio}, Stock: {unidades} unidades.\")"
   ]
  },
  {
   "cell_type": "code",
   "execution_count": 8,
   "id": "738eaaf4",
   "metadata": {},
   "outputs": [
    {
     "name": "stdout",
     "output_type": "stream",
     "text": [
      "a = 1, b = 10.\n",
      "a = 2, b = 20.\n"
     ]
    }
   ],
   "source": [
    "lista_corta = [1, 2]\n",
    "lista_larga = [10, 20, 30, 40, 50, 60]\n",
    "\n",
    "# la iteración se detiene al terminar con la lista más corta\n",
    "for a, b in zip(lista_corta, lista_larga):\n",
    "    print(f\"a = {a}, b = {b}.\")"
   ]
  },
  {
   "cell_type": "markdown",
   "id": "a6d9dfe7",
   "metadata": {},
   "source": [
    "## Ver índices al iterar en un bucle for con `enumerate()`"
   ]
  },
  {
   "cell_type": "code",
   "execution_count": 9,
   "id": "09cb0c8c",
   "metadata": {},
   "outputs": [
    {
     "name": "stdout",
     "output_type": "stream",
     "text": [
      "Índice 0: Ana\n",
      "Índice 1: Luis\n",
      "Índice 2: Carlos\n"
     ]
    }
   ],
   "source": [
    "nombres = [\"Ana\", \"Luis\", \"Carlos\"]\n",
    "\n",
    "# Usamos enumerate para obtener el índice y el valor\n",
    "for indice, nombre in enumerate(nombres):\n",
    "    print(f\"Índice {indice}: {nombre}\")"
   ]
  },
  {
   "cell_type": "code",
   "execution_count": 10,
   "id": "3a654115",
   "metadata": {},
   "outputs": [
    {
     "name": "stdout",
     "output_type": "stream",
     "text": [
      "1. Laptop: $1200\n",
      "2. Móvil: $800\n",
      "3. Tablet: $500\n"
     ]
    }
   ],
   "source": [
    "# Puedo combinar zip() y enumarate() y además cambiar el índice inicial:\n",
    "\n",
    "productos = [\"Laptop\", \"Móvil\", \"Tablet\"]\n",
    "precios = [1200, 800, 500]\n",
    "\n",
    "# Iteramos con índice y valores de ambas listas\n",
    "for i, (producto, precio) in enumerate(zip(productos, precios), start=1):\n",
    "    print(f\"{i}. {producto}: ${precio}\")"
   ]
  },
  {
   "cell_type": "markdown",
   "id": "ada124ef",
   "metadata": {},
   "source": [
    "## Aplicar una función a los elementos de una lista con `map()`\n",
    "\n",
    "`map(función, iterable)` es una función que recibe una función y la aplica sobre un iterable (por ejemplo una lista)"
   ]
  },
  {
   "cell_type": "code",
   "execution_count": 14,
   "id": "e15bbf19",
   "metadata": {},
   "outputs": [
    {
     "name": "stdout",
     "output_type": "stream",
     "text": [
      "[1, 4, 9, 16, 25]\n"
     ]
    }
   ],
   "source": [
    "# necesito una función\n",
    "def cuadrado(x):\n",
    "    return x**2\n",
    "\n",
    "\n",
    "# y una lista\n",
    "numeros = [1, 2, 3, 4, 5]\n",
    "\n",
    "# aplico la función cuadrado a todos los elementos de la lista\n",
    "cuadrados = list(map(cuadrado, numeros))  # tengo que convertir el resultado a una lista\n",
    "print(cuadrados)"
   ]
  },
  {
   "cell_type": "markdown",
   "id": "a04d2859",
   "metadata": {},
   "source": [
    "## Filtrar elementos de una lista con `filter()`\n",
    "\n",
    "`filter(función, iterable)` nos permite seleccionar los elementos de un iterable (una lista por ejemplo) que verifiquen una función. La función debe devolver un booleanao (True o False)"
   ]
  },
  {
   "cell_type": "code",
   "execution_count": null,
   "id": "4fba28b1",
   "metadata": {},
   "outputs": [
    {
     "name": "stdout",
     "output_type": "stream",
     "text": [
      "['Javier', 'Josefina', 'Julia']\n"
     ]
    }
   ],
   "source": [
    "def tiene_jota(nombre):\n",
    "    \"\"\"Devuelve True si el nombre tiene una jota (J o j).\"\"\"\n",
    "    return \"j\" in nombre.lower()\n",
    "\n",
    "\n",
    "nombres = [\"Javier\", \"Andrés\", \"Josefina\", \"Franco\", \"Julia\"]\n",
    "\n",
    "nombres_con_jota = list(filter(tiene_jota, nombres))\n",
    "print(nombres_con_jota)"
   ]
  },
  {
   "cell_type": "markdown",
   "id": "7d1484f6",
   "metadata": {},
   "source": [
    "## Funciones Lambda\n",
    "\n",
    "Una función lambda es una función que se puede escribir en una sola línea. Sirve cuando necesito usar una función una única vez.\n",
    "Para declarar una función lambda utilizo la palabra reservada `lambda`.\n",
    "``` python\n",
    "lambda input : resultado\n",
    "```"
   ]
  },
  {
   "cell_type": "code",
   "execution_count": null,
   "id": "6681d516",
   "metadata": {},
   "outputs": [
    {
     "name": "stdout",
     "output_type": "stream",
     "text": [
      "[1, 4, 9, 16, 25]\n"
     ]
    }
   ],
   "source": [
    "# El ejemplo con filter()\n",
    "numeros = [1, 2, 3, 4, 5]\n",
    "\n",
    "# utilizo una función lambda\n",
    "cuadrados = list(map(lambda x: x**2, numeros))\n",
    "print(cuadrados)"
   ]
  },
  {
   "cell_type": "code",
   "execution_count": 24,
   "id": "2d6e2406",
   "metadata": {},
   "outputs": [
    {
     "name": "stdout",
     "output_type": "stream",
     "text": [
      "['Javier', 'Josefina', 'Julia']\n"
     ]
    }
   ],
   "source": [
    "# Ejemplo con map()\n",
    "nombres = [\"Javier\", \"Andrés\", \"Josefina\", \"Franco\", \"Julia\"]\n",
    "\n",
    "# utilizo una función lambda\n",
    "nombres_con_jota = list(filter(lambda nombre: \"j\" in nombre.lower(), nombres))\n",
    "print(nombres_con_jota)"
   ]
  },
  {
   "cell_type": "code",
   "execution_count": 26,
   "id": "b4785946",
   "metadata": {},
   "outputs": [
    {
     "name": "stdout",
     "output_type": "stream",
     "text": [
      "9\n"
     ]
    }
   ],
   "source": [
    "# puedo guardar una función lambda en una variable y usarla como una función normal\n",
    "suma = lambda a, b: a + b\n",
    "\n",
    "print(suma(5, 4))"
   ]
  },
  {
   "cell_type": "markdown",
   "id": "f5f32848",
   "metadata": {},
   "source": [
    "## Bloques Try Except\n",
    "\n",
    "Los bloques try-except  (intentar - excepción) intentan correr el código dentro del bloque `try`, y especifican un posible error en el bloque `except`. Si el error ocurre dentro del bloque `try`, este no se ejecuta y solamente se ejecuta el bloque `except`.\n"
   ]
  },
  {
   "cell_type": "code",
   "execution_count": null,
   "id": "a72c8280",
   "metadata": {},
   "outputs": [
    {
     "name": "stdout",
     "output_type": "stream",
     "text": [
      "¡Error! No se puede dividir por cero.\n"
     ]
    }
   ],
   "source": [
    "try:\n",
    "    resultado = 10 / 0  # Error: división por cero\n",
    "except ZeroDivisionError:  # nombre del posible error\n",
    "    print(\"¡Error! No se puede dividir por cero.\")"
   ]
  },
  {
   "cell_type": "code",
   "execution_count": null,
   "id": "e15038c6",
   "metadata": {},
   "outputs": [
    {
     "name": "stdout",
     "output_type": "stream",
     "text": [
      "¡Error! había una variable que no declarada.\n"
     ]
    }
   ],
   "source": [
    "try:\n",
    "    resultado = variable_de_mentira + 1\n",
    "except NameError:  # nombre del posible error\n",
    "    print(\"¡Error! había una variable que no declarada.\")"
   ]
  },
  {
   "cell_type": "code",
   "execution_count": null,
   "id": "b1b3e4fb",
   "metadata": {},
   "outputs": [
    {
     "name": "stdout",
     "output_type": "stream",
     "text": [
      "Ocurrió un error: division by zero\n"
     ]
    }
   ],
   "source": [
    "# Podemos capturar cualquier error con Exception\n",
    "\n",
    "try:\n",
    "    resultado = 5 / 0\n",
    "\n",
    "# captura cualquier error, y guarda el mensaje en la variable error\n",
    "except Exception as error:\n",
    "    print(f\"Ocurrió un error: {error}\")"
   ]
  },
  {
   "cell_type": "markdown",
   "id": "08f5821b",
   "metadata": {},
   "source": [
    "## Recursividad\n",
    "\n",
    "La recursividad es una técnica en programación donde una función se llama a sí misma para resolver un problema. "
   ]
  },
  {
   "cell_type": "code",
   "execution_count": null,
   "id": "994eaba6",
   "metadata": {},
   "outputs": [
    {
     "name": "stdout",
     "output_type": "stream",
     "text": [
      "8\n"
     ]
    }
   ],
   "source": [
    "# ej de una función recursiva\n",
    "def fibonacci(n):\n",
    "    \"\"\"En la secuencia de fibonacci cada elemento es el resultado de la suma\n",
    "    de los dos elementos anteriores. Con los dos primeros elementos siendo\n",
    "    0 y 1.\n",
    "\n",
    "    El tercer elemento será 0 + 1 = 1,\n",
    "    El cuarto elemento será 1 + 1 = 2,\n",
    "    El quinto elemento será 1 + 2 = 3, y así sucesivamente.\n",
    "\n",
    "    Primeros 8 números de la secuencia: [0, 1, 1, 2, 3, 5, 8, 13]\n",
    "    \"\"\"\n",
    "    if n == 0:  # Caso base\n",
    "        return 0\n",
    "    if n == 1:\n",
    "        return 1\n",
    "    return fibonacci(n - 1) + fibonacci(n - 2)  # Llamadas recursivas\n",
    "\n",
    "\n",
    "print(fibonacci(6))"
   ]
  },
  {
   "cell_type": "code",
   "execution_count": null,
   "id": "a194a8ae",
   "metadata": {},
   "outputs": [
    {
     "name": "stdout",
     "output_type": "stream",
     "text": [
      "120\n"
     ]
    }
   ],
   "source": [
    "def factorial(n):\n",
    "    \"\"\"El factorial de un número es ese número multiplicado por todos los números\n",
    "    menores, hasta llegar al 1.\n",
    "\n",
    "    Ej: Factorial(5) = 5*4*3*2*1 = 120\n",
    "\n",
    "    Se establece también que el factorial de 0 es igual a 1. Y una regla que\n",
    "    es válida es la siguiente:\n",
    "\n",
    "    factorial(n) = n * factorial(n - 1)\n",
    "\n",
    "    El factorial de un número es igual a ese número, por el factorial del número\n",
    "    menor. Esta función usa esta propiedad para obtener el factorial de cualquier\n",
    "    número.\n",
    "    \"\"\"\n",
    "    if n == 0 or n == 1:  # Caso base\n",
    "        return 1\n",
    "    return n * factorial(n - 1)  # Llamada recursiva\n",
    "\n",
    "\n",
    "print(factorial(5))  # Output: 120"
   ]
  },
  {
   "cell_type": "markdown",
   "id": "1a6977f2",
   "metadata": {},
   "source": [
    "## `if __name__ == \"__main__\"`:\n",
    "\n",
    "La línea `if __name__ == \"__main__\":` en Python es una convención que permite determinar si un script se está ejecutando directamente o si se ha importado como un módulo en otro programa. Es útil para definir qué partes del código deben ejecutarse solo cuando el archivo se ejecuta como un programa independiente.\n",
    "\n",
    "Esto es útil cuando tenemos funciones o clases que querramos importar a otros archivos, pero tenemos código que no queremos que se ejecute.\n"
   ]
  },
  {
   "cell_type": "code",
   "execution_count": null,
   "id": "28dd0d8c",
   "metadata": {},
   "outputs": [
    {
     "name": "stdout",
     "output_type": "stream",
     "text": [
      "Hola mundo! Soy la función saludar()\n"
     ]
    }
   ],
   "source": [
    "def saludar():\n",
    "    print(\"Hola mundo! Soy la función saludar()\")\n",
    "\n",
    "\n",
    "if __name__ == \"__main__\":\n",
    "    # Este bloque se ejectua solo cuando ejecuto este archivo, pero\n",
    "    # no cuando lo importo\n",
    "    saludar()"
   ]
  },
  {
   "cell_type": "markdown",
   "id": "a8b9a5cf",
   "metadata": {},
   "source": [
    "## Decoradores\n",
    "\n",
    "\n",
    "Un decorador en Python es una función que toma otra función como argumento y modifica su comportamiento sin cambiar su código original. Se utilizan para añadir funcionalidades a una función sin tener que modificarla."
   ]
  },
  {
   "cell_type": "code",
   "execution_count": null,
   "id": "ca04e40d",
   "metadata": {},
   "outputs": [
    {
     "name": "stdout",
     "output_type": "stream",
     "text": [
      "Conectandose a internet y descargando datos ...\n",
      "Analizando datos\n",
      "Eliminando datos descargados...\n"
     ]
    }
   ],
   "source": [
    "# Un decorador se define como una función que recibe otra función y envuelve su ejecución:\n",
    "def descargar_datos(func):\n",
    "    def envoltura():\n",
    "        # hacemos algo antes de ejecutar la función\n",
    "        print(\"Conectandose a internet y descargando datos ...\")\n",
    "        func()\n",
    "        # hacemos algo después de ejecutar la función\n",
    "        print(\"Eliminando datos descargados...\")\n",
    "\n",
    "    return envoltura\n",
    "\n",
    "\n",
    "# Luego lo utilizo declarandolo antes de definir mi función a decorar\n",
    "@descargar_datos\n",
    "def analizar_datos():\n",
    "    print(\"Analizando datos\")\n",
    "\n",
    "\n",
    "analizar_datos()"
   ]
  }
 ],
 "metadata": {
  "kernelspec": {
   "display_name": "base",
   "language": "python",
   "name": "python3"
  },
  "language_info": {
   "codemirror_mode": {
    "name": "ipython",
    "version": 3
   },
   "file_extension": ".py",
   "mimetype": "text/x-python",
   "name": "python",
   "nbconvert_exporter": "python",
   "pygments_lexer": "ipython3",
   "version": "3.12.4"
  }
 },
 "nbformat": 4,
 "nbformat_minor": 5
}
