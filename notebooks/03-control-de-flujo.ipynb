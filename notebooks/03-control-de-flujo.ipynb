{
 "cells": [
  {
   "cell_type": "markdown",
   "metadata": {
    "id": "0Vkiyx8uoBdo"
   },
   "source": [
    "## Control de flujo\n",
    "\n",
    "Muchas veces queremos que nuestro programa realice diferentes acciones dependiendo de ciertos factores.\n",
    "\n",
    "Empezaremos aprendiendo sobre los operadores de comparación:\n",
    "\n",
    "\n",
    "### Operadores de Comparación\n",
    "\n",
    "Los operadores de comparación nos resultarán bastante familiares. Una comparación se realiza entre dos objetos, y el resultado será un booleano(`bool`). Un booleano puede tener solo dos valores: `True` (Verdadero) o `False` (Falso)."
   ]
  },
  {
   "cell_type": "code",
   "execution_count": 2,
   "metadata": {},
   "outputs": [
    {
     "name": "stdout",
     "output_type": "stream",
     "text": [
      "<class 'bool'>\n"
     ]
    }
   ],
   "source": [
    "print(type(True))"
   ]
  },
  {
   "cell_type": "code",
   "execution_count": null,
   "metadata": {
    "id": "8VRupxJz9uBy",
    "outputId": "0279e848-86bf-4fde-88ef-2631719a0e86"
   },
   "outputs": [
    {
     "data": {
      "text/plain": [
       "False"
      ]
     },
     "execution_count": 1,
     "metadata": {},
     "output_type": "execute_result"
    }
   ],
   "source": [
    "print(5 < 4) # False"
   ]
  },
  {
   "cell_type": "code",
   "execution_count": null,
   "metadata": {
    "id": "G3Dampjn9uBz",
    "outputId": "3b4c32ca-a7a8-43bf-b5c1-a5a2e2ca0248"
   },
   "outputs": [
    {
     "data": {
      "text/plain": [
       "True"
      ]
     },
     "execution_count": 7,
     "metadata": {},
     "output_type": "execute_result"
    }
   ],
   "source": [
    "print(12 > 5) # True"
   ]
  },
  {
   "cell_type": "code",
   "execution_count": null,
   "metadata": {
    "id": "4S9s89Mf9uB0",
    "outputId": "0effb277-43d4-4a7b-aa4b-a0c6b637f499"
   },
   "outputs": [
    {
     "data": {
      "text/plain": [
       "False"
      ]
     },
     "execution_count": 4,
     "metadata": {},
     "output_type": "execute_result"
    }
   ],
   "source": [
    "# También existen el mayor o igual >= y menor o igual <=\n",
    "print(3.99 >= 4)"
   ]
  },
  {
   "cell_type": "code",
   "execution_count": null,
   "metadata": {
    "id": "NrlPWuNU9uB0",
    "outputId": "1a198469-25f0-4d7d-f07a-25b5868dbc0d"
   },
   "outputs": [
    {
     "data": {
      "text/plain": [
       "True"
      ]
     },
     "execution_count": 7,
     "metadata": {},
     "output_type": "execute_result"
    }
   ],
   "source": [
    "# El doble == es el operador de igualdad\n",
    "print(4 == 4)"
   ]
  },
  {
   "cell_type": "code",
   "execution_count": null,
   "metadata": {
    "id": "QtPbRp0t9uB1",
    "outputId": "76d725fb-90b9-42f0-d623-67243b519e4b"
   },
   "outputs": [
    {
     "data": {
      "text/plain": [
       "False"
      ]
     },
     "execution_count": 8,
     "metadata": {},
     "output_type": "execute_result"
    }
   ],
   "source": [
    "# Mientras que != implica desigualdad\n",
    "print(12 != 12.5)"
   ]
  },
  {
   "cell_type": "code",
   "execution_count": null,
   "metadata": {},
   "outputs": [
    {
     "name": "stdout",
     "output_type": "stream",
     "text": [
      "True\n",
      "True\n",
      "True\n"
     ]
    }
   ],
   "source": [
    "# Podemos comparar strings para ver el orden alfabético\n",
    "print(\"avellaneda\" < \"zelaya\") # la a está antes que la z\n",
    "\n",
    "# En caso de ser iguales en las primeras letras, comparamos las siguientes\n",
    "print(\"abc\" < \"abd\") # la c está antes que la d\n",
    "\n",
    "# Y en caso de que una sea igual a la otra, pero un poco más larga\n",
    "# la más corta será menor\n",
    "print(\"hola\" < \"holas\") # hola es más corto que holas"
   ]
  },
  {
   "cell_type": "code",
   "execution_count": null,
   "metadata": {},
   "outputs": [
    {
     "name": "stdout",
     "output_type": "stream",
     "text": [
      "False\n"
     ]
    }
   ],
   "source": [
    "# puedo guardar el resultado de una expresión en una variable\n",
    "edad = 25\n",
    "mayor_de_edad = edad <= 18 # esta variable tiene un False guardado\n",
    "\n",
    "print(mayor_de_edad) # False"
   ]
  },
  {
   "cell_type": "markdown",
   "metadata": {
    "id": "jQZqsA3E9uB8"
   },
   "source": [
    "En general se recomienda **NO** usar el operador de igualdad `==` para comparar dos flotantes (los números decimales). Esto se debe a que las computadoras no son buenas representando ciertos números decimales perfectamente (lo hacen con un error muy pequeño).\n",
    "\n",
    "Por ejemplo, si intentan ejectura esto:\n",
    "\n",
    "``` python\n",
    "0.2 == 0.4 - 0.2\n",
    "```\n",
    "El restulado correcto es Verdadero (True), y al ejecturalo funciona sin problemas.\n",
    "\n",
    "Pero ahora si intentamos correr la siguiente expresión:\n",
    "\n",
    "``` python\n",
    "0.3 == 0.4 - 0.1\n",
    "```\n",
    "Les dirá que es Falso, aunque debería ser Verdadero.\n",
    "\n",
    "No hay problema con usar las comparaciones de mayor o menor que (`<`, `>`), pero no usemos la igualdad (`==`) con flotantes!"
   ]
  },
  {
   "cell_type": "code",
   "execution_count": 3,
   "metadata": {},
   "outputs": [
    {
     "data": {
      "text/plain": [
       "True"
      ]
     },
     "execution_count": 3,
     "metadata": {},
     "output_type": "execute_result"
    }
   ],
   "source": [
    "0.2 == 0.4 - 0.2"
   ]
  },
  {
   "cell_type": "markdown",
   "metadata": {
    "id": "gjB6v85o9uB9"
   },
   "source": [
    "### Sentencia if - else\n",
    "\n",
    "La sentencia if nos permite ejecutar un bloque de código dependiendo de una condición.\n",
    "\n",
    "``` python\n",
    "if <expresión>:\n",
    "    bloque 1\n",
    "else:\n",
    "    bloque 2\n",
    "```\n",
    "\n",
    "Si la expresión se evalúa a True, se ejecuta el bloque 1, de lo contrario se ejecuta el bloque 2.\n",
    "Es importante notar la indentación (el esapacio o la sangría) en los bloques 1 y 2.\n",
    "Esta indentación es necesaria para la correcta ejecución de los bloques de código."
   ]
  },
  {
   "cell_type": "code",
   "execution_count": 10,
   "metadata": {
    "id": "Z4F999UA9uB_",
    "outputId": "8bd27d70-8187-4ed1-a01d-bfe1dc557bcf"
   },
   "outputs": [
    {
     "name": "stdout",
     "output_type": "stream",
     "text": [
      "No puedo tomar alcohol legalmente :(\n",
      "Tomen con moderación gente\n"
     ]
    }
   ],
   "source": [
    "# Un ejemplo:\n",
    "edad = 10\n",
    "\n",
    "if edad >= 18:\n",
    "    print(\"¡Puedo tomar alcohol legalmente!\")\n",
    "else:\n",
    "    print(\"No puedo tomar alcohol legalmente :(\")\n",
    "\n",
    "# este código esta fuera de ambos bloques, por lo tanto siempre se ejecutará\n",
    "print(\"Tomen con moderación gente\")\n"
   ]
  },
  {
   "cell_type": "markdown",
   "metadata": {},
   "source": [
    "Qué pasa si ahora quiero que el usuario (nosotros en este caso) ingrese su edad?\n",
    "Podemos usar la funcion `input()`.\n",
    "\n",
    "Pero hay un problema, siempre que usamos `input()`, el resultado será un texto (una string o cadena),\n",
    "y si nosotros queremos trabajar con números, tenemos que convertir ese valor a un número (a un entero en este caso, es decir un `int` , pero si fuera un decimal usariamos `float`). Veamos un ejemplo primero:"
   ]
  },
  {
   "cell_type": "code",
   "execution_count": null,
   "metadata": {},
   "outputs": [
    {
     "name": "stdout",
     "output_type": "stream",
     "text": [
      "Num1: 5, num2: 4\n",
      "Num1 + Num2 = 54\n"
     ]
    }
   ],
   "source": [
    "numero_1 = input(\"Ingresá un numero :\")\n",
    "numero_2 = input(\"Ingresá otro numero :\")\n",
    "\n",
    "# Si imprimo los números separados parece estar todo bien:\n",
    "print(f\"Num1: {numero_1}, num2: {numero_2}\") \n",
    "\n",
    "# Pero si imprimo la suma, en realidad es una concatenación:\n",
    "print(f\"Num1 + Num2 = {numero_1 + numero_2}\")\n",
    "\n",
    "# esto ocurre porque son strings (cadenas), no enteros (ints)"
   ]
  },
  {
   "cell_type": "code",
   "execution_count": 9,
   "metadata": {},
   "outputs": [
    {
     "name": "stdout",
     "output_type": "stream",
     "text": [
      "Num1: 5, num2: 4\n",
      "Num1 + Num2 = 9\n"
     ]
    }
   ],
   "source": [
    "# Ahora uso la función int() para transformar los inputs en números:\n",
    "numero_1 = int(input(\"Ingresá un numero :\"))\n",
    "numero_2 = int(input(\"Ingresá otro numero :\"))\n",
    "\n",
    "print(f\"Num1: {numero_1}, num2: {numero_2}\") \n",
    "print(f\"Num1 + Num2 = {numero_1 + numero_2}\") # Ahora sí funciona bien"
   ]
  },
  {
   "cell_type": "code",
   "execution_count": 10,
   "metadata": {},
   "outputs": [
    {
     "name": "stdout",
     "output_type": "stream",
     "text": [
      "¡Puedo tomar alcohol legalmente!\n",
      "Tomen con moderación gente\n"
     ]
    }
   ],
   "source": [
    "# Un ejemplo:\n",
    "edad = int(input(\"Ingrese su edad: \"))\n",
    "\n",
    "if edad >= 18:\n",
    "    print(\"¡Puedo tomar alcohol legalmente!\")\n",
    "else:\n",
    "    print(\"No puedo tomar alcohol legalmente :(\")\n",
    "\n",
    "# este código esta fuera de ambos bloques, por lo tanto siempre se ejecutará\n",
    "print(\"Tomen con moderación gente\")\n"
   ]
  },
  {
   "cell_type": "markdown",
   "metadata": {},
   "source": [
    "### Bloques if - elif - else\n",
    "\n",
    "No siempre que usemos un `if` tenemos que usar un `else` (es opcional). Y en caso de que queramos verificar más de una condición existe la sentencia `elif` (de `else if`)\n",
    "\n",
    "``` python\n",
    "if <expresión-1>:\n",
    "    bloque 1\n",
    "elif <expresión-2>:\n",
    "    bloque 2\n",
    "else:\n",
    "    bloque 3\n",
    "```\n",
    "\n",
    "Si la expresión 1 se evalúa a True, se ejecuta solamente el bloque 1 (y no se verifica la segunda expresión).\n",
    "\n",
    "Si la expresión 1 se evalúa a False entonces se verifica la expresión 2. Si la expresión 2 se evalúa a True se ejecuta solamente el bloque 2, pero si se evalúa a False entonces se ejecutará solamente el bloque 3.\n",
    "\n",
    "Se pueden agregar más de un bloque `elif`."
   ]
  },
  {
   "cell_type": "code",
   "execution_count": null,
   "metadata": {},
   "outputs": [],
   "source": [
    "numero = float(input(\"Ingresa un número: \"))\n",
    "\n",
    "# Evaluar el número\n",
    "if numero > 0:\n",
    "    print(\"El número es positivo.\")\n",
    "elif numero < 0:\n",
    "    print(\"El número es negativo.\")\n",
    "else:\n",
    "    print(\"El número es cero.\")"
   ]
  },
  {
   "cell_type": "markdown",
   "metadata": {},
   "source": [
    "### Usar multiples `if`s\n",
    "\n",
    "En un conjunto de bloques `if-elif-else`, solamente uno de ellos se va a ejecutar (si se ejecuta el bloque del `if`, no se ejecutan ni el `elif` ni el `else`). Pero a veces voy a querer verificar mas de una condición, sin importar si la primera pasó o falló.\n",
    "\n",
    "Por ejemplo digamos que quiero saber si un número es par, y si es menor que 10. Que sea par o impar no me dice nada sobre si es mayor o menor que 100.\n",
    "\n",
    "``` python\n",
    "num = 10\n",
    "\n",
    "if num < 10:\n",
    "    print(\"es menor que diez\")\n",
    "if <num_es_par>:\n",
    "    print(\"es par\")\n",
    "\n",
    "```\n",
    "\n",
    "En un conjunto de `if`s, puede darse el caso de que todos los bloques se ejecuten, que algunos se ejecuten, o que ninguno se ejecute. Cada `if` va a ser independiente de los otros. Y si coloco un `else` este va a estar atado al `if` que tenga justo arriba.\n",
    "\n",
    "Primero veamos rápidamente como verifico si un número es par o no. Recordemos que hay un operador con el signo del porcentaje (`%`). Este operador me da el resto de una división:\n",
    "\n",
    "``` python\n",
    "5 % 2 # 1, porque al dividir 5 en 2 me da 2 y me sobra 1\n",
    "10 % 2 # 0, porque si divido 10 en 2 me da 5 y no me sobra nada\n",
    "```\n",
    "\n",
    "El truco está en que si al dividir un número por dos el resto es cero, entonces ese número es par."
   ]
  },
  {
   "cell_type": "code",
   "execution_count": null,
   "metadata": {},
   "outputs": [
    {
     "name": "stdout",
     "output_type": "stream",
     "text": [
      "10 es par\n",
      "10 es menor que 100\n"
     ]
    }
   ],
   "source": [
    "# Cómo saber si un número es par?\n",
    "num = 10\n",
    "\n",
    "# En este caso ambos bloques se ejecutaran\n",
    "if num % 2 == 0: \n",
    "    print(f\"{num} es par\")\n",
    "if num <= 100:\n",
    "    print(f\"{num} es menor o igual que 100\")\n",
    "else:\n",
    "    # este bloque else depende del if justo arriba, no del primer if\n",
    "    print(f\"{num} es mayor que 100\")"
   ]
  },
  {
   "cell_type": "markdown",
   "metadata": {},
   "source": [
    "### Puedo usar todo lo que quiera en la condición de un if\n",
    "\n",
    "Vimos expresiones que dan como resultado un boleano (`True` o `False`), pero dentro de un if también podemos usar numeros o texto.\n",
    "\n",
    "Cualquier número que no sea 0, se evaluará como `True`, y el cero como `False`.\n",
    "Por otro lado, cualquier texto se evaluará también como `True`, y un texto vacío (`\"\"`) se evaluará como `False`\n",
    "\n",
    "Veamos:"
   ]
  },
  {
   "cell_type": "code",
   "execution_count": 17,
   "metadata": {},
   "outputs": [
    {
     "name": "stdout",
     "output_type": "stream",
     "text": [
      "El 1 funciona como True\n",
      "Cualquier texto va a ser True\n"
     ]
    }
   ],
   "source": [
    "if 1:\n",
    "    print(\"El 1 funciona como True\")\n",
    "if 0:\n",
    "    print(\"Esto nunca se imprimirá porque el 0 es False\")\n",
    "if \"Hola\":\n",
    "    print(\"Cualquier texto va a ser True\")\n",
    "if \"\":\n",
    "    print(\"Excepto el texto vacio\")"
   ]
  },
  {
   "cell_type": "markdown",
   "metadata": {},
   "source": [
    "Un ejemplo con más sentido sería:"
   ]
  },
  {
   "cell_type": "code",
   "execution_count": 20,
   "metadata": {},
   "outputs": [
    {
     "name": "stdout",
     "output_type": "stream",
     "text": [
      "Tengo dinero!\n"
     ]
    }
   ],
   "source": [
    "cuenta_bancaria = 10_000 # el guión bajo me sirve para separar miles\n",
    "\n",
    "if cuenta_bancaria:\n",
    "    print(\"Tengo dinero!\")\n",
    "else:\n",
    "    print(\"No tengo dinero\")"
   ]
  },
  {
   "cell_type": "code",
   "execution_count": null,
   "metadata": {},
   "outputs": [
    {
     "name": "stdout",
     "output_type": "stream",
     "text": [
      "No tengo dinero\n"
     ]
    }
   ],
   "source": [
    "cuenta_bancaria = 0 # Ahora no tengo dinero\n",
    "\n",
    "if cuenta_bancaria:\n",
    "    print(\"Tengo dinero!\")\n",
    "else:\n",
    "    print(\"No tengo dinero\")"
   ]
  },
  {
   "cell_type": "markdown",
   "metadata": {},
   "source": [
    "### Qué pasa si quiero ver varias condiciones que sí dependen de las otras?\n",
    "\n",
    "Supongamos que quiero saber si tengo entre 20 y 30 años. Esto significa que tengo más de 20 años, pero menos de 30 años. Aquí una solución es poner un `if` dentro de otro (esto se conoce como \"anidar\" bloques). Veamoslo:"
   ]
  },
  {
   "cell_type": "code",
   "execution_count": null,
   "metadata": {},
   "outputs": [
    {
     "name": "stdout",
     "output_type": "stream",
     "text": [
      "Tengo entre 20 y 30 años\n"
     ]
    }
   ],
   "source": [
    "edad = 25\n",
    "\n",
    "if edad >= 20:\n",
    "    if edad <= 30:\n",
    "        # Por cada bloque if tengo que dejar otra sangría!\n",
    "        print(\"Tengo entre 20 y 30 años\")"
   ]
  },
  {
   "cell_type": "markdown",
   "metadata": {},
   "source": [
    "Hay veces que no hay otra opción pero en general se puede evitar anidar bloques `if`. Una herramienta úlil son los operadores lógicos:"
   ]
  },
  {
   "cell_type": "markdown",
   "metadata": {
    "id": "S2buQtEz9uCE"
   },
   "source": [
    "### Operadores Lógicos\n",
    "\n",
    "Otro tipo de operadores bastante útiles en estos casos son los operadores lógicos:\n",
    "\n",
    "Tenemos tres operadores lógicos: `and`, `or` y `not`\n",
    "\n",
    "si `a` y `b` son booleanos (`True` o `False`) entonces se cumple que:\n",
    "\n",
    "Operación | Resultado\n",
    "--------|------------\n",
    "`a and b`| Se evalua a `True` solo si tanto a como b son `True`, sino `False`\n",
    "`a or b` | Se evalua a `True` si a es` True`, o si b es `True`, o si ambos son `True`, de lo contrario False\n",
    "`not a` | Si `a` se evalua `False` devulve `True`, si no devuelve `False`\n",
    "\n",
    "\n",
    "También podemos ver las siguientes tablas que nos muestran el resultado de `and`y `or` para todos los casos posibles.\n",
    "(Estas tablas se conocen como Tablas de Verdad):\n",
    "\n",
    "#### Tabla `and`:\n",
    "A | B | A and B\n",
    "--|---|--------\n",
    "**True** | **True** | **True** \n",
    "**True** | False | False\n",
    "False | **True** | False\n",
    "False | False | False\n",
    "\n",
    "#### Table `or`:\n",
    "A | B | A or B\n",
    "--|---|--------\n",
    "**True** | **True** | **True**\n",
    "**True** | False | **True**\n",
    "False | **True** | **True**\n",
    "False | False | False\n",
    "\n",
    "pero veamoslo con un ejemplo:"
   ]
  },
  {
   "cell_type": "code",
   "execution_count": 24,
   "metadata": {},
   "outputs": [
    {
     "name": "stdout",
     "output_type": "stream",
     "text": [
      "Tengo entre 20 y 30 años\n"
     ]
    }
   ],
   "source": [
    "edad = 25\n",
    "\n",
    "if edad >= 20 and edad <= 30:\n",
    "    # Ahora no necesito anidar estos dos ifs\n",
    "    print(\"Tengo entre 20 y 30 años\")\n",
    "else:\n",
    "    print(\"Tengo menos de 20 o más de 30\")"
   ]
  },
  {
   "cell_type": "code",
   "execution_count": 26,
   "metadata": {},
   "outputs": [
    {
     "name": "stdout",
     "output_type": "stream",
     "text": [
      "No estoy manejando\n"
     ]
    }
   ],
   "source": [
    "manejando = False\n",
    "\n",
    "# El operador not invierte el significado de lo que está adelante\n",
    "if not manejando:\n",
    "    # manejando es False, pero un `not False` es igual a True\n",
    "    print(\"No estoy manejando\")"
   ]
  },
  {
   "cell_type": "code",
   "execution_count": 27,
   "metadata": {
    "id": "BkHoV-bR9uCE",
    "outputId": "6c73b541-06a3-4f5a-8534-75fb56cb6f49"
   },
   "outputs": [
    {
     "name": "stdout",
     "output_type": "stream",
     "text": [
      "No puede tomar\n"
     ]
    }
   ],
   "source": [
    "# Tenemos dos variables, la edad y una variable que indica si estamos o no manejando\n",
    "edad = 19\n",
    "manejando = True\n",
    "\n",
    "# Solo vamos a poder tomar si se cumplen dos condiciones (tener más de 18 y no estar manejando)\n",
    "if edad > 18 and not manejando:\n",
    "    print(\"Puede tomar\")\n",
    "else:\n",
    "    print(\"No puede tomar\")"
   ]
  },
  {
   "cell_type": "code",
   "execution_count": null,
   "metadata": {},
   "outputs": [
    {
     "name": "stdout",
     "output_type": "stream",
     "text": [
      "Tengo un perro o un gato\n"
     ]
    }
   ],
   "source": [
    "tengo_perro = True\n",
    "tengo_gato = False\n",
    "\n",
    "if tengo_gato or tengo_perro:\n",
    "    print(\"Tengo un perro o un gato\")\n",
    "else:\n",
    "    print(\"No tengo ni perro ni gato\")"
   ]
  },
  {
   "cell_type": "markdown",
   "metadata": {},
   "source": [
    "### Sentencia `Match`\n",
    "\n",
    "El match en Python es una estructura de control introducida en Python 3.10 que permite realizar una comparación más flexible y expresiva de patrones, similar al switch en otros lenguajes, pero más poderoso."
   ]
  },
  {
   "cell_type": "code",
   "execution_count": null,
   "metadata": {},
   "outputs": [
    {
     "name": "stdout",
     "output_type": "stream",
     "text": [
      "Número de prácticos no válido. Debe ser entre 1 y 4.\n"
     ]
    }
   ],
   "source": [
    "tps_entregados = int(input(\"Ingresa el número de prácticos entregados (1 a 4): \"))\n",
    "\n",
    "match tps_entregados:\n",
    "    case 1: # si tps_entregados es igual a 1\n",
    "        print(\"Calificación: Muy Malo\")\n",
    "    case 2:# si tps_entregados es igual a  2\n",
    "        print(\"Calificación: Malo\")\n",
    "    case 3:\n",
    "        print(\"Calificación: Bueno\")\n",
    "    case 4:\n",
    "        print(\"Calificación: Excelente\")\n",
    "    case _: # si tps_entregados no es ninguno de los casos anteriores\n",
    "        print(\"Número de prácticos no válido. Debe ser entre 1 y 4.\")"
   ]
  },
  {
   "cell_type": "code",
   "execution_count": null,
   "metadata": {},
   "outputs": [],
   "source": []
  }
 ],
 "metadata": {
  "colab": {
   "provenance": []
  },
  "kernelspec": {
   "display_name": "base",
   "language": "python",
   "name": "python3"
  },
  "language_info": {
   "codemirror_mode": {
    "name": "ipython",
    "version": 3
   },
   "file_extension": ".py",
   "mimetype": "text/x-python",
   "name": "python",
   "nbconvert_exporter": "python",
   "pygments_lexer": "ipython3",
   "version": "3.12.4"
  }
 },
 "nbformat": 4,
 "nbformat_minor": 0
}
