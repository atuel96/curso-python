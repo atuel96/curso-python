{
  "cells": [
    {
      "cell_type": "markdown",
      "metadata": {
        "id": "x7jvU1iNGvRo"
      },
      "source": [
        "# Funciones en Python\n",
        "\n",
        "## Contenido de este Notebook\n",
        "\n",
        "En este notebook trataremos los siguientes temas:\n",
        "\n",
        "* Algunas funciones útiles\n",
        "* Definir Nuestras Propias Funciones\n",
        "* Alcance (Scope)\n",
        "\n",
        "# ¿Qué es una Función?\n",
        "\n",
        "Pensemos que una función es una maquina misteriosa, a la cual yo puedo ingresarle algún valor, la máquina hace algo, y me da un resultado. En python las funciones pueden se ejecutan usando paréntesis `()`, y el valor (o valores) que le entregamos a la función irá dentro de ese paréntesis.\n",
        "\n",
        "\n",
        "Hasta ahora discutimos brevemente la función `print()`, que me permite ver algo en la pantalla (en la consola)."
      ]
    },
    {
      "cell_type": "code",
      "execution_count": 12,
      "metadata": {},
      "outputs": [
        {
          "name": "stdout",
          "output_type": "stream",
          "text": [
            "Hola gente\n",
            "\n",
            "hola 22\n"
          ]
        }
      ],
      "source": [
        "print(\"Hola gente\") # le paso un mensaje a print\n",
        "print() # no le paso nada a print (igual funciona)\n",
        "print(\"hola\", 22) # le paso dos cosas a print"
      ]
    },
    {
      "cell_type": "code",
      "execution_count": 13,
      "metadata": {},
      "outputs": [
        {
          "data": {
            "text/plain": [
              "<function print(*args, sep=' ', end='\\n', file=None, flush=False)>"
            ]
          },
          "execution_count": 13,
          "metadata": {},
          "output_type": "execute_result"
        }
      ],
      "source": [
        "# NO OLVIDAR LOS PARÉNTESIS!\n",
        "print # si no coloco los paréntesis la función no se ejecuta!\n",
        "# no me da un error, pero no es el resultado que estoy buscando"
      ]
    },
    {
      "cell_type": "markdown",
      "metadata": {},
      "source": [
        "## Algunas funciones útiles\n"
      ]
    },
    {
      "cell_type": "markdown",
      "metadata": {},
      "source": [
        "Existen otras funciones que nos pueden ser de utilidad. Por ejemplo:\n",
        "\n",
        "``` python\n",
        "\n",
        "max() # devuelve el valor máximo\n",
        "min() # devuelve el valor mínimo\n",
        "abs() # devuelve el valor absoluto\n",
        "round() # redondea el valor\n",
        "```\n",
        "A continuación vemos ejemplos donde colocamos el resultado de una función dentro de otra función, esto es algo muy común. Por ejemplo en el siguiente código el resultado de `max(55, 75)` (que debería ser 75) entra en la función `print()`, y es lo que deberiamos ver en pantalla:\n",
        "\n",
        "``` python\n",
        "print(max(55, 75))\n",
        "```\n",
        "\n",
        "Podemos hacer lo mismo usando una variable para guardar el resultado de `max(55, 75)`. En este caso primero guardo el valor máximo (que sería 75), y en la segunda linea lo imprimo en pantalla:\n",
        "\n",
        "``` python\n",
        "valor_maximo = max(55, 75)\n",
        "print(valor_maximo)\n",
        "```"
      ]
    },
    {
      "cell_type": "code",
      "execution_count": 3,
      "metadata": {},
      "outputs": [
        {
          "name": "stdout",
          "output_type": "stream",
          "text": [
            "4\n",
            "8\n",
            "55\n"
          ]
        }
      ],
      "source": [
        "print(round(3.67))\n",
        "print(max(4, 5, 8, 1))\n",
        "print(abs(-55))"
      ]
    },
    {
      "cell_type": "markdown",
      "metadata": {},
      "source": [
        "Otra función importante es `input()`, la cual permite al usuario ingresar datos. En el siguiente ejemplo el programa saludará al usuario, pero primero le preguntará su nombre."
      ]
    },
    {
      "cell_type": "code",
      "execution_count": 4,
      "metadata": {},
      "outputs": [
        {
          "name": "stdout",
          "output_type": "stream",
          "text": [
            "Cuál es tu nombre?\n",
            "hola Blas\n"
          ]
        }
      ],
      "source": [
        "print(\"Cuál es tu nombre?\")\n",
        "nombre = input()  # El valor que ingrese el usuario se guardará en esta variable\n",
        "\n",
        "print(\"hola\", nombre)"
      ]
    },
    {
      "cell_type": "markdown",
      "metadata": {},
      "source": [
        "La función `input()` también funciona como un `print`. Así que podemos borrar el print y escribir el mensaje dentro de la función input, de esta forma:"
      ]
    },
    {
      "cell_type": "code",
      "execution_count": null,
      "metadata": {},
      "outputs": [],
      "source": [
        "# La función input también me permite imprimir una cadena\n",
        "nombre = input(\"Cuál es tu nombre? \") # dejamos un espacio después del signo ? para mayor legibilidad\n",
        "print(\"hola\", nombre)"
      ]
    },
    {
      "cell_type": "markdown",
      "metadata": {},
      "source": [
        "Por último, otra función que habiamos visto es la función `type()` que me dice el tipo de dato con el que estoy trabajando"
      ]
    },
    {
      "cell_type": "code",
      "execution_count": 5,
      "metadata": {},
      "outputs": [
        {
          "name": "stdout",
          "output_type": "stream",
          "text": [
            "<class 'str'>\n",
            "<class 'int'>\n",
            "<class 'float'>\n"
          ]
        }
      ],
      "source": [
        "nombre = \"Blas\"\n",
        "numero_entero = 24\n",
        "numero_flotante = 1.12\n",
        "\n",
        "print(type(nombre))\n",
        "print(type(numero_entero))\n",
        "print(type(numero_flotante))"
      ]
    },
    {
      "cell_type": "markdown",
      "metadata": {
        "id": "ERS05ierGvT8"
      },
      "source": [
        "## Definir Funciones\n",
        "\n",
        "Python nos permite escribir nuestras propias funciones. Recordemos que una funcion es algo donde nosotros mandamos algo y recibimos otra cosa.\n",
        "\n",
        "Para declarar una función utilizaremos la palabra `def` (DEfinir Función) seguida del nombre de nuestra función (<nombre_funcion>)y un paréntesis con parámetros (los cuales son opcionales).\n",
        "\n",
        "\n",
        "Finalmente con la palabra `return` especificamos el valor que retorna la función.\n",
        "\n",
        "``` python\n",
        "def <nombre_funcion>(<parámetro_1>,<parámetro_2>):\n",
        "    # aquí pueden pasar cosas\n",
        "    return <algo>\n",
        "```\n",
        "Un detalle importante es que todo el bloque de la función debe estar con sangría, o con espacio (a esto se le llama indentación generalmente) para funcionar. En caso de que no dejemos este espacio (o que cada linea deje una cantidad de espacios diferentes) tendremos un error.\n",
        "\n",
        "Veamos un ejemplo sencillo, donde creamos una función que devuelve un número al cuadrado."
      ]
    },
    {
      "cell_type": "code",
      "execution_count": null,
      "metadata": {
        "id": "lHfQhgKjGvT8",
        "outputId": "ad8f9a4c-d2c9-4dbb-bcab-f20585b57918"
      },
      "outputs": [
        {
          "name": "stdout",
          "output_type": "stream",
          "text": [
            "4\n",
            "25\n"
          ]
        }
      ],
      "source": [
        "def cuadrado(num):\n",
        "    # primero creo una variable que guarda el resultado de elevar num al cuadrado\n",
        "    resultado = num**2\n",
        "    # y luego regreso ese resultado\n",
        "    return resultado\n",
        "\n",
        "print(cuadrado(2)) # 2 elevado al cuadrado\n",
        "print(cuadrado(5)) # 5 elevado al cuadrado"
      ]
    },
    {
      "cell_type": "markdown",
      "metadata": {},
      "source": [
        "Los nombres que yo uso para el parámetro y para el resultado no son importantes. Solo tengo que ser consistente. Por ejemplo el siguiente código funciona igual que el anterior:"
      ]
    },
    {
      "cell_type": "code",
      "execution_count": 14,
      "metadata": {},
      "outputs": [
        {
          "name": "stdout",
          "output_type": "stream",
          "text": [
            "4\n",
            "25\n"
          ]
        }
      ],
      "source": [
        "# ahora llamo a mi parámetro `lado` en lugar de `num`\n",
        "def cuadrado(lado):\n",
        "    # primero creo una variable que guarda el resultado de elevar el lado al cuadrado\n",
        "    lado_al_cuadrado = lado**2\n",
        "    # y luego regreso ese resultado\n",
        "    return lado_al_cuadrado\n",
        "\n",
        "print(cuadrado(2)) # 2 elevado al cuadrado\n",
        "print(cuadrado(5)) # 5 elevado al cuadrado"
      ]
    },
    {
      "cell_type": "code",
      "execution_count": 15,
      "metadata": {
        "id": "_-lEhkeYGvT8",
        "outputId": "87f2a768-8533-412a-ba73-18f6b681f7fb"
      },
      "outputs": [
        {
          "name": "stdout",
          "output_type": "stream",
          "text": [
            "152\n",
            "750\n"
          ]
        }
      ],
      "source": [
        "# En este ejemplo pasamos dos parámetros \n",
        "def suma(a, b):\n",
        "    # retorno el resultado directamente en lugar de guardarlo en una variable\n",
        "    return a + b \n",
        "\n",
        "print(suma(100, 52))\n",
        "print(suma(500, 250))"
      ]
    },
    {
      "cell_type": "markdown",
      "metadata": {},
      "source": [
        "### El return es opcional\n",
        "\n",
        "La palabra `return` es opcional. Si no la escribo entonces mi función no me devuelve nada (me devuelve un valor llamado `None`). Por ejemplo la siguiente función imprime un mensaje de saludo, pero no regresa ese mensaje (solo lo muestra)"
      ]
    },
    {
      "cell_type": "code",
      "execution_count": 16,
      "metadata": {},
      "outputs": [
        {
          "name": "stdout",
          "output_type": "stream",
          "text": [
            "hola Blas\n"
          ]
        }
      ],
      "source": [
        "def saludar(nombre):\n",
        "    print(\"hola\", nombre)\n",
        "\n",
        "saludar(\"Blas\")"
      ]
    },
    {
      "cell_type": "code",
      "execution_count": 18,
      "metadata": {
        "id": "wkDSI3QfGvUE",
        "outputId": "11a652d2-92f3-4039-b8f5-b47bc8b76aa0"
      },
      "outputs": [
        {
          "name": "stdout",
          "output_type": "stream",
          "text": [
            "-5\n"
          ]
        }
      ],
      "source": [
        "# otro ejemplo:\n",
        "def imprimir_el_negativo(numero):\n",
        "    print(-numero)\n",
        "\n",
        "imprimir_el_negativo(5)"
      ]
    },
    {
      "cell_type": "markdown",
      "metadata": {
        "id": "1IF3oia7GvUF"
      },
      "source": [
        "### Argumentos por defecto\n",
        "\n",
        "Cuando definimos una función con sus parámetros podemos definir algunos argumentos por defecto de la siguente forma:\n",
        "\n",
        "``` python\n",
        "def mi_funcion(x, y=0):\n",
        "    # aquí pasan cosas\n",
        "    return algo\n",
        "```\n",
        "\n",
        "De esta forma si solo se pasa un argumento a la función, el segundo parámetro usará el argumento por defecto."
      ]
    },
    {
      "cell_type": "code",
      "execution_count": 19,
      "metadata": {},
      "outputs": [
        {
          "name": "stdout",
          "output_type": "stream",
          "text": [
            "hola San Martin Campeón\n",
            "hola Mundo\n"
          ]
        }
      ],
      "source": [
        "def saludar(nombre=\"Mundo\"):\n",
        "    print(\"hola\", nombre)\n",
        "\n",
        "saludar(\"San Martin Campeón\")\n",
        "saludar()"
      ]
    },
    {
      "cell_type": "markdown",
      "metadata": {},
      "source": [
        "### Alcance (Scope) de las variables\n",
        "\n",
        "El alcance (o scope en inglés) de una variable define el espacio en el que se puede acceder a ella.\n",
        "\n",
        "Por ejemplo, si defino una variable dentro de una función, nos preguntemos:\n",
        "\n",
        "* Puedo acceder a esa variable desde afuera? \n",
        "* Puede acceder desde otra función?\n",
        "* Y dentro de una función puedo acceder variables definidas afuera de ella? "
      ]
    },
    {
      "cell_type": "code",
      "execution_count": 20,
      "metadata": {
        "id": "Kbq8dHi7GvUQ"
      },
      "outputs": [
        {
          "ename": "NameError",
          "evalue": "name 'a' is not defined",
          "output_type": "error",
          "traceback": [
            "\u001b[1;31m---------------------------------------------------------------------------\u001b[0m",
            "\u001b[1;31mNameError\u001b[0m                                 Traceback (most recent call last)",
            "Cell \u001b[1;32mIn[20], line 5\u001b[0m\n\u001b[0;32m      2\u001b[0m     a \u001b[38;5;241m=\u001b[39m \u001b[38;5;241m5\u001b[39m \u001b[38;5;66;03m# variable local\u001b[39;00m\n\u001b[0;32m      4\u001b[0m \u001b[38;5;66;03m# Veamos que pasa\u001b[39;00m\n\u001b[1;32m----> 5\u001b[0m \u001b[38;5;28mprint\u001b[39m(a)\n",
            "\u001b[1;31mNameError\u001b[0m: name 'a' is not defined"
          ]
        }
      ],
      "source": [
        "def f():\n",
        "    a = 5 # variable local\n",
        "\n",
        "# Veamos que pasa\n",
        "print(a) # esto da error porque a existe dentro de la función, no afuera"
      ]
    },
    {
      "cell_type": "code",
      "execution_count": 21,
      "metadata": {},
      "outputs": [
        {
          "name": "stdout",
          "output_type": "stream",
          "text": [
            "10\n"
          ]
        }
      ],
      "source": [
        "c = 10 # variable global\n",
        "\n",
        "def g():\n",
        "    # desde dentro de la función sí puedo acceder a `c`, porque la definí afuera\n",
        "    print(c) \n",
        "\n",
        "g() # ejecuto la función g"
      ]
    },
    {
      "cell_type": "code",
      "execution_count": 23,
      "metadata": {},
      "outputs": [
        {
          "name": "stdout",
          "output_type": "stream",
          "text": [
            "-55\n",
            "15\n"
          ]
        }
      ],
      "source": [
        "# Que va a pasar ahora?\n",
        "z = 15 # variable global\n",
        "\n",
        "def f():\n",
        "    # Aquí no modifico mi variable z, sino que creo otra con el mismo nombre\n",
        "    # y esta variable solo existe dentro de mi función (esto puede ser confuso)\n",
        "    z = -55 \n",
        "    print(z) # este z es -55\n",
        "\n",
        "f() # ejecuto la función f\n",
        "print(z) # veo el valor de mi variable z (global)"
      ]
    },
    {
      "cell_type": "code",
      "execution_count": null,
      "metadata": {},
      "outputs": [],
      "source": []
    }
  ],
  "metadata": {
    "colab": {
      "provenance": []
    },
    "kernelspec": {
      "display_name": "base",
      "language": "python",
      "name": "python3"
    },
    "language_info": {
      "codemirror_mode": {
        "name": "ipython",
        "version": 3
      },
      "file_extension": ".py",
      "mimetype": "text/x-python",
      "name": "python",
      "nbconvert_exporter": "python",
      "pygments_lexer": "ipython3",
      "version": "3.12.4"
    },
    "orig_nbformat": 4
  },
  "nbformat": 4,
  "nbformat_minor": 0
}
